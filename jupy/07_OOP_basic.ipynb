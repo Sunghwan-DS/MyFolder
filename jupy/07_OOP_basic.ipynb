{
 "cells": [
  {
   "cell_type": "markdown",
   "metadata": {},
   "source": [
    "# OOP with python\n",
    "\n",
    "## 시작하기전에\n",
    "\n",
    "**<wikipedia - 객체지향 프로그래밍>**\n",
    ">\n",
    "> 객체 지향 프로그래밍(영어: Object-Oriented Programming, OOP)은 컴퓨터 프로그래밍의 패러다임의 하나이다. 객체 지향 프로그래밍은 컴퓨터 프로그램을 명령어의 목록으로 보는 시각에서 벗어나 여러 개의 독립된 단위, 즉 \"객체\"들의 모임으로 파악하고자 하는 것이다. 각각의 객체는 메시지를 주고받고, 데이터를 처리할 수 있다.\n",
    ">\n",
    "> 명령형 프로그래밍인 절차지향 프로그래밍에서 발전된 형태를 나타내며, 기본 구성요소는 다음과 같다.\n",
    "\n",
    "* 클래스(Class) \n",
    "    - 객체를 표현하는 문법\n",
    "    - 같은 종류(또는 문제 해결을 위한)의 집단에 속하는 **속성(attribute)**과 **행위(behavior)**를 정의한 것으로 객체지향 프로그램의 기본적인 사용자 정의 데이터형(user define data type)이라고 할 수 있다.\n",
    "    - 클래스는 프로그래머가 아니지만 해결해야 할 문제가 속하는 영역에 종사하는 사람이라면 사용할 수 있고, 다른 클래스 또는 외부 요소와 독립적으로 디자인하여야 한다.\n",
    "\n",
    "\n",
    "* 인스턴스(instance) \n",
    "    - 클래스의 인스턴스/객체(실제로 메모리상에 할당된 것) \n",
    "    - 객체는 자신 고유의 속성(attribute)을 가지며 클래스에서 정의한 행위(behavior)를 수행할 수 있다. \n",
    "    - 객체의 행위는 클래스에 정의된 행위에 대한 정의(메서드)를 공유함으로써 메모리를 경제적으로 사용한다.\n",
    "\n",
    "\n",
    "* 속성(attribute) \n",
    "    - 클래스/인스턴스 가 가지고 있는 속성(값)\n",
    "\n",
    "\n",
    "* 메서드(Method) \n",
    "    - 클래스/인스턴스 가 할 수 있는 행위(함수)"
   ]
  },
  {
   "cell_type": "markdown",
   "metadata": {},
   "source": [
    "## 객체의 속성과 메서드\n",
    "class의 속성(값)과 행위(메서드)를 명확히 구분해 봅시다.\n",
    "\n",
    "| class / type | instance                 | attributes       | methods                                |\n",
    "| ------------ | ------------------------ | ---------------- | -------------------------------------- |\n",
    "| `str`        | `''`, `'hello'`, `'123'` |       _          | `.capitalize()`, `.join()`, `.split()` |\n",
    "| `list`       | `[]`, `['a', 'b']`       |       _          | `.append()`, `.reverse()`, `.sort()`     |\n",
    "| `dict`       | `{}`, `{'key': 'value'}` |       _          | `.keys()`, `.values()`, `.items()`    |\n",
    "| `int`        | `0`, `1`, `2`            | `.real`, `.imag` |                                        |"
   ]
  },
  {
   "cell_type": "code",
   "execution_count": null,
   "metadata": {},
   "outputs": [],
   "source": [
    "# 복소수를 하나 만들어보고, 타입을 출력해봅시다."
   ]
  },
  {
   "cell_type": "code",
   "execution_count": 4,
   "metadata": {},
   "outputs": [
    {
     "name": "stdout",
     "output_type": "stream",
     "text": [
      "<class 'complex'>\n"
     ]
    }
   ],
   "source": [
    "img_number = 3 + 5j\n",
    "print(type(img_number))"
   ]
  },
  {
   "cell_type": "code",
   "execution_count": null,
   "metadata": {},
   "outputs": [],
   "source": [
    "# 허수부랑 실수부를 함께 출력해봅시다. complex 객체의 실수 속성과 허수 속성이라고도 표현 가능합니다."
   ]
  },
  {
   "cell_type": "code",
   "execution_count": 5,
   "metadata": {
    "scrolled": false
   },
   "outputs": [
    {
     "name": "stdout",
     "output_type": "stream",
     "text": [
      "3.0\n",
      "5.0\n"
     ]
    }
   ],
   "source": [
    "print(img_number.real)\n",
    "print(img_number.imag)"
   ]
  },
  {
   "cell_type": "code",
   "execution_count": 7,
   "metadata": {},
   "outputs": [
    {
     "name": "stdout",
     "output_type": "stream",
     "text": [
      "Help on member descriptor builtins.complex.real:\n",
      "\n",
      "real\n",
      "    the real part of a complex number\n",
      "\n",
      "Help on member descriptor builtins.complex.imag:\n",
      "\n",
      "imag\n",
      "    the imaginary part of a complex number\n",
      "\n"
     ]
    }
   ],
   "source": [
    "help(complex.real)\n",
    "help(complex.imag)"
   ]
  },
  {
   "cell_type": "markdown",
   "metadata": {},
   "source": [
    "`list` class의 객체들이 할 수 있는 행위(메서드)들을 확인해 봅시다."
   ]
  },
  {
   "cell_type": "code",
   "execution_count": null,
   "metadata": {},
   "outputs": [],
   "source": [
    "# 리스트를 하나 만들고 정렬해봅시다. list 객체의 메서드 실행이라고도 표현 가능합니다."
   ]
  },
  {
   "cell_type": "code",
   "execution_count": 16,
   "metadata": {
    "scrolled": true
   },
   "outputs": [
    {
     "name": "stdout",
     "output_type": "stream",
     "text": [
      "<class 'list'>\n"
     ]
    }
   ],
   "source": [
    "my_list = [3, 2, 1]\n",
    "print(type(my_list))"
   ]
  },
  {
   "cell_type": "code",
   "execution_count": 17,
   "metadata": {},
   "outputs": [
    {
     "name": "stdout",
     "output_type": "stream",
     "text": [
      "[3, 2, 1]\n",
      "[1, 2, 3]\n"
     ]
    }
   ],
   "source": [
    "sort_list = sorted(my_list)\n",
    "print(my_list)\n",
    "print(sort_list)"
   ]
  },
  {
   "cell_type": "code",
   "execution_count": null,
   "metadata": {},
   "outputs": [],
   "source": [
    "# list class 의 객체들이 할 수 있는 것들을 알아봅시다. (*list 객체가 가지고 있는 모든 속성과 메서드를 보여줍니다.*)"
   ]
  },
  {
   "cell_type": "code",
   "execution_count": 20,
   "metadata": {},
   "outputs": [
    {
     "name": "stdout",
     "output_type": "stream",
     "text": [
      "['__add__',\n",
      " '__class__',\n",
      " '__contains__',\n",
      " '__delattr__',\n",
      " '__delitem__',\n",
      " '__dir__',\n",
      " '__doc__',\n",
      " '__eq__',\n",
      " '__format__',\n",
      " '__ge__',\n",
      " '__getattribute__',\n",
      " '__getitem__',\n",
      " '__gt__',\n",
      " '__hash__',\n",
      " '__iadd__',\n",
      " '__imul__',\n",
      " '__init__',\n",
      " '__init_subclass__',\n",
      " '__iter__',\n",
      " '__le__',\n",
      " '__len__',\n",
      " '__lt__',\n",
      " '__mul__',\n",
      " '__ne__',\n",
      " '__new__',\n",
      " '__reduce__',\n",
      " '__reduce_ex__',\n",
      " '__repr__',\n",
      " '__reversed__',\n",
      " '__rmul__',\n",
      " '__setattr__',\n",
      " '__setitem__',\n",
      " '__sizeof__',\n",
      " '__str__',\n",
      " '__subclasshook__',\n",
      " 'append',\n",
      " 'clear',\n",
      " 'copy',\n",
      " 'count',\n",
      " 'extend',\n",
      " 'index',\n",
      " 'insert',\n",
      " 'pop',\n",
      " 'remove',\n",
      " 'reverse',\n",
      " 'sort']\n"
     ]
    }
   ],
   "source": [
    "from pprint import pprint\n",
    "pprint(dir(list))"
   ]
  },
  {
   "cell_type": "code",
   "execution_count": 21,
   "metadata": {},
   "outputs": [
    {
     "data": {
      "text/plain": [
       "'1'"
      ]
     },
     "execution_count": 21,
     "metadata": {},
     "output_type": "execute_result"
    }
   ],
   "source": [
    "str(1)"
   ]
  },
  {
   "cell_type": "code",
   "execution_count": 22,
   "metadata": {},
   "outputs": [
    {
     "data": {
      "text/plain": [
       "'Apple'"
      ]
     },
     "execution_count": 22,
     "metadata": {},
     "output_type": "execute_result"
    }
   ],
   "source": [
    "# str 클래스 내의 모든 메서드는 첫번째 인자가 문자열이어야 하므로,\n",
    "# 어떤 클래스든 클래스내의 모든 메서드는 첫번째 인자가 그 클래스의 객체(즉, 인스턴스)다.\n",
    "\n",
    "# 절차지향\n",
    "str.capitalize('apple')"
   ]
  },
  {
   "cell_type": "code",
   "execution_count": 23,
   "metadata": {},
   "outputs": [
    {
     "data": {
      "text/plain": [
       "'Apple'"
      ]
     },
     "execution_count": 23,
     "metadata": {},
     "output_type": "execute_result"
    }
   ],
   "source": [
    "# 객체지향(단축형)\n",
    "\n",
    "'apple'.capitalize()"
   ]
  },
  {
   "cell_type": "markdown",
   "metadata": {},
   "source": [
    "## User without OOP\n",
    "\n",
    "서비스를 만들었다고 가정하고, 사용자들이 로그인을 한 뒤 해당 정보를 기록하고 있는 모듈을 만들어봅시다."
   ]
  },
  {
   "cell_type": "code",
   "execution_count": 33,
   "metadata": {},
   "outputs": [],
   "source": [
    "username = '홍길동'\n",
    "password = '1q2w3e4r'\n",
    "\n",
    "def change_password(old_password, new_password):\n",
    "    global password\n",
    "    if old_password == password:\n",
    "        password = new_password\n",
    "        print('비밀번호가 변경되었습니다.')\n",
    "    else:\n",
    "        print('비밀번호가 일치하지 않습니다.')"
   ]
  },
  {
   "cell_type": "code",
   "execution_count": 34,
   "metadata": {},
   "outputs": [
    {
     "name": "stdout",
     "output_type": "stream",
     "text": [
      "비밀번호가 변경되었습니다.\n"
     ]
    }
   ],
   "source": [
    "# 유저가 비밀번호를 변경을 요청\n",
    "change_password('1q2w3e4r', '1q2w3e4r5t')"
   ]
  },
  {
   "cell_type": "code",
   "execution_count": 35,
   "metadata": {},
   "outputs": [
    {
     "name": "stdout",
     "output_type": "stream",
     "text": [
      "1q2w3e4r5t\n"
     ]
    }
   ],
   "source": [
    "# 비밀번호가 변경되었는지 확인해봅시다.\n",
    "print(password)"
   ]
  },
  {
   "cell_type": "markdown",
   "metadata": {},
   "source": [
    "### 문제점\n",
    "\n",
    "> `username`과 `password` 는 global namespace 에 작성되어있기 때문에 해당 모듈로는 한사람의 정보 밖에 담지 못한다.\n",
    ">\n",
    "> 바꾸어 말하면 여러 사람이 로그인을 한다면 똑같이 생긴 모듈을 여러개 만들어야 하는 상황이 오게 될 것이다.\n",
    ">\n",
    "> 어떻게하면 동일한 `username`과 `password`를 global namespace 가 아닌 **독립적인 namespace**에 가지고 있으며 `change_password` 함수를 실행했을 때 **본인의 `password`만** 바꿀 수 있는 여러명의 `User` 만들고 관리할 수 있을까?"
   ]
  },
  {
   "cell_type": "markdown",
   "metadata": {},
   "source": [
    "# 클래스 및 인스턴스"
   ]
  },
  {
   "cell_type": "markdown",
   "metadata": {},
   "source": [
    "## 클래스 정의하기 (클래스 객체 생성하기)\n",
    "\n",
    "\n",
    "* 선언과 동시에 클래스 객체가 생성된다.\n",
    "\n",
    "* 또한, 선언된 공간은 지역 스코프(local scope)로 사용된다.\n",
    "\n",
    "* 정의된 어트리뷰트 중 변수는 멤버 변수로 불린다.\n",
    "\n",
    "* 정의된 함수(`def`)는 메서드로 불린다.\n",
    "\n",
    "---\n",
    "\n",
    "**활용법**\n",
    "\n",
    "```python\n",
    "class ClassName:\n",
    "    attributes\n",
    "    methods\n",
    "```"
   ]
  },
  {
   "cell_type": "code",
   "execution_count": null,
   "metadata": {},
   "outputs": [],
   "source": [
    "# Class를 만들어봅시다."
   ]
  },
  {
   "cell_type": "code",
   "execution_count": 41,
   "metadata": {},
   "outputs": [],
   "source": [
    "class User:\n",
    "    '''\n",
    "    This is User Class\n",
    "    '''\n",
    "    name = 'UserClass'\n",
    "    "
   ]
  },
  {
   "cell_type": "code",
   "execution_count": 42,
   "metadata": {},
   "outputs": [
    {
     "name": "stdout",
     "output_type": "stream",
     "text": [
      "<class 'type'>\n"
     ]
    }
   ],
   "source": [
    "print(type(User))"
   ]
  },
  {
   "cell_type": "code",
   "execution_count": 44,
   "metadata": {},
   "outputs": [
    {
     "name": "stdout",
     "output_type": "stream",
     "text": [
      "\n",
      "    This is User Class\n",
      "    \n"
     ]
    }
   ],
   "source": [
    "print(User.__doc__)"
   ]
  },
  {
   "cell_type": "markdown",
   "metadata": {},
   "source": [
    "## 인스턴스 생성하기\n",
    "\n",
    "* 인스턴스 객체는 `ClassName()`을 호출함으로써 생성된다.\n",
    "\n",
    "* 인스턴스 객체와 클래스 객체는 서로 다른 이름 공간을 가지고 있다.\n",
    "\n",
    "* **인스턴스(instance) => 클래스(class) => 전역(global) 순으로 탐색을 한다.**\n",
    "\n",
    "```python\n",
    "# 인스턴스 = 클래스()\n",
    "puppy = Dog()\n",
    "```\n",
    "- 클래스는 특정 개념을 표현하는 껍데기고 실제 사용하려면 인스턴스를 생성해야 한다."
   ]
  },
  {
   "cell_type": "code",
   "execution_count": null,
   "metadata": {},
   "outputs": [],
   "source": [
    "# User class 의 인스턴스를 만들어 봅시다.\n",
    "# 인스턴스의 type과 우리가 위에서 정의한 클래스의 doc의 출력해 봅시다."
   ]
  },
  {
   "cell_type": "code",
   "execution_count": 45,
   "metadata": {},
   "outputs": [
    {
     "name": "stdout",
     "output_type": "stream",
     "text": [
      "<class '__main__.User'>\n",
      "\n",
      "    This is User Class\n",
      "    \n"
     ]
    }
   ],
   "source": [
    "user = User()\n",
    "print(type(user))\n",
    "print(user.__doc__)"
   ]
  },
  {
   "cell_type": "code",
   "execution_count": null,
   "metadata": {},
   "outputs": [],
   "source": [
    "# namespace를 확인해봅시다."
   ]
  },
  {
   "cell_type": "code",
   "execution_count": 46,
   "metadata": {},
   "outputs": [
    {
     "name": "stdout",
     "output_type": "stream",
     "text": [
      "UserClass\n"
     ]
    }
   ],
   "source": [
    "# tc 는 현재 name 이 없습니다. 그래서 User class 의 name 을 탐색하여 가져옵니다.\n",
    "print(user.name)"
   ]
  },
  {
   "cell_type": "code",
   "execution_count": 47,
   "metadata": {},
   "outputs": [],
   "source": [
    "# user 인스턴스에게 이름을 부여해봅시다.\n",
    "user.name = '홍길동'"
   ]
  },
  {
   "cell_type": "code",
   "execution_count": 48,
   "metadata": {},
   "outputs": [
    {
     "name": "stdout",
     "output_type": "stream",
     "text": [
      "홍길동\n"
     ]
    }
   ],
   "source": [
    "# user 의 이름을 가져옵니다. 그렇다고 User class 의 name 이 바뀐 것은 아닙니다.\n",
    "# User class 와 인스턴스는 서로 다른 namespace 를 가지고 있습니다.\n",
    "print(user.name)"
   ]
  },
  {
   "cell_type": "code",
   "execution_count": 55,
   "metadata": {},
   "outputs": [
    {
     "name": "stdout",
     "output_type": "stream",
     "text": [
      "abc\n",
      "a\n",
      "b\n"
     ]
    }
   ],
   "source": [
    "class abc:\n",
    "    nam = 'abc'\n",
    "ABC = abc()\n",
    "print(ABC.nam)\n",
    "ABC.nam = 'a'\n",
    "print(ABC.nam)\n",
    "name = 'abcd'\n",
    "ABC.name = 'b'\n",
    "print(ABC.name)"
   ]
  },
  {
   "cell_type": "markdown",
   "metadata": {},
   "source": [
    "### User with OOP\n",
    "서비스를 만들었다고 가정하고, 사용자들이 로그인을 한 뒤 해당 정보를 기록할 클래스를 만들어봅시다."
   ]
  },
  {
   "cell_type": "code",
   "execution_count": 56,
   "metadata": {},
   "outputs": [],
   "source": [
    "class User:\n",
    "    username = ''\n",
    "    password = ''\n",
    "    \n",
    "    def change_password(self, old_password, new_password):\n",
    "        if old_password == self.password:\n",
    "            self.password = new_password\n",
    "            print('비밀번호가 변경되었습니다.')\n",
    "        else:\n",
    "            print('비밀번호가 일치하지 않습니다.')"
   ]
  },
  {
   "cell_type": "code",
   "execution_count": null,
   "metadata": {},
   "outputs": [],
   "source": [
    "# 유저를 생성하고 이름과 비밀번호를 확인해봅시다."
   ]
  },
  {
   "cell_type": "code",
   "execution_count": 57,
   "metadata": {},
   "outputs": [
    {
     "name": "stdout",
     "output_type": "stream",
     "text": [
      "<__main__.User object at 0x000001D744E39860>\n",
      "\n",
      "\n"
     ]
    }
   ],
   "source": [
    "user = User()\n",
    "print(user)\n",
    "print(user.username)\n",
    "print(user.password)"
   ]
  },
  {
   "cell_type": "code",
   "execution_count": null,
   "metadata": {},
   "outputs": [],
   "source": [
    "# 이름과 비밀번호를 부여하고 확인해봅시다."
   ]
  },
  {
   "cell_type": "code",
   "execution_count": 58,
   "metadata": {},
   "outputs": [
    {
     "name": "stdout",
     "output_type": "stream",
     "text": [
      "홍길동\n",
      "1q2w3e4r\n"
     ]
    }
   ],
   "source": [
    "user.username = '홍길동'\n",
    "user.password = '1q2w3e4r'\n",
    "print(user.username)\n",
    "print(user.password)"
   ]
  },
  {
   "cell_type": "code",
   "execution_count": null,
   "metadata": {},
   "outputs": [],
   "source": [
    "# 비밀번호를 변경하고 확인해봅시다."
   ]
  },
  {
   "cell_type": "code",
   "execution_count": 60,
   "metadata": {},
   "outputs": [
    {
     "name": "stdout",
     "output_type": "stream",
     "text": [
      "비밀번호가 변경되었습니다.\n"
     ]
    }
   ],
   "source": [
    "# user.change_password('1q2w3e4r', '1q2w3e4r5t')  # 객체 지향\n",
    "User.change_password(user, '1q2w3e4r', '1q2w3e4r5t')  # 절차 지향"
   ]
  },
  {
   "cell_type": "code",
   "execution_count": null,
   "metadata": {},
   "outputs": [],
   "source": [
    "# 실습\n",
    "# 새로운 유저를 생성하고 반복해봅시다."
   ]
  },
  {
   "cell_type": "code",
   "execution_count": 63,
   "metadata": {},
   "outputs": [
    {
     "name": "stdout",
     "output_type": "stream",
     "text": [
      "전성환\n",
      "12345678\n",
      "비밀번호가 변경되었습니다.\n",
      "abcdefg\n"
     ]
    }
   ],
   "source": [
    "user2 = User()\n",
    "user2.username = '전성환'\n",
    "user2.password = '12345678'\n",
    "print(user2.username)\n",
    "print(user2.password)\n",
    "\n",
    "# 객체지향(단축형)\n",
    "user2.change_password('12345678', 'abcdefg')\n",
    "print(user2.password)\n",
    "\n",
    "# 절차지향\n",
    "# User.change_password(user2, '12345678', 'abcdefg')"
   ]
  },
  {
   "cell_type": "markdown",
   "metadata": {},
   "source": [
    "### python 출력의 비밀  __str__ 과 __repr__ \n",
    "- 특정 객체를 print() 할 때 보이는 값\n",
    "- 그냥 객체 자체가 보여주는 값\n",
    "- 그리고 우리는 위의 두 값을 모두 우리가 원하는 방식으로 수정할 수 있습니다."
   ]
  },
  {
   "cell_type": "code",
   "execution_count": 64,
   "metadata": {},
   "outputs": [],
   "source": [
    "class User:\n",
    "    username = ''\n",
    "    password = ''\n",
    "            \n",
    "    \n",
    "    def __str__(self):\n",
    "        return 'print 안에 넣으면 이렇게 나오고'\n",
    "    \n",
    "    \n",
    "    def __repr__(self):\n",
    "        return '그냥 객체만 놔두면 이게 나오지요'"
   ]
  },
  {
   "cell_type": "code",
   "execution_count": 65,
   "metadata": {},
   "outputs": [
    {
     "name": "stdout",
     "output_type": "stream",
     "text": [
      "print 안에 넣으면 이렇게 나오고\n"
     ]
    },
    {
     "data": {
      "text/plain": [
       "그냥 객체만 놔두면 이게 나오지요"
      ]
     },
     "execution_count": 65,
     "metadata": {},
     "output_type": "execute_result"
    }
   ],
   "source": [
    "user = User()\n",
    "print(user)\n",
    "user"
   ]
  },
  {
   "cell_type": "code",
   "execution_count": 66,
   "metadata": {},
   "outputs": [],
   "source": [
    "from datetime import datetime\n",
    "today = datetime.now()"
   ]
  },
  {
   "cell_type": "code",
   "execution_count": 68,
   "metadata": {},
   "outputs": [
    {
     "name": "stdout",
     "output_type": "stream",
     "text": [
      "2020-02-20 10:27:57.079899\n"
     ]
    }
   ],
   "source": [
    "print(today)  # __str__ -> for 사용자"
   ]
  },
  {
   "cell_type": "code",
   "execution_count": 71,
   "metadata": {},
   "outputs": [
    {
     "data": {
      "text/plain": [
       "datetime.datetime(2020, 2, 20, 10, 27, 57, 79899)"
      ]
     },
     "execution_count": 71,
     "metadata": {},
     "output_type": "execute_result"
    }
   ],
   "source": [
    "today  # __repr__ -> for 개발자"
   ]
  },
  {
   "cell_type": "markdown",
   "metadata": {},
   "source": [
    "### 인스턴스와 객체\n",
    "- 인스턴스와 객체는 같은 것을 의미한다. \n",
    "- 보통 객체만 지칭할 때는 단순히 객체(object)라고 부른다. \n",
    "- 하지만 클래스와 연관지어서 말할 때는 인스턴스(instance)라고 부른다.\n",
    "\n",
    "```python\n",
    "a = int(10)\n",
    "b = int(20)\n",
    "# a, b 는 객체\n",
    "# a, b 는 int 클래스의 인스턴스\n",
    "```"
   ]
  },
  {
   "cell_type": "code",
   "execution_count": 72,
   "metadata": {},
   "outputs": [],
   "source": [
    "a = int(10)\n",
    "\n",
    "# a 가 int 의 인스턴스인지 확인해봅시다."
   ]
  },
  {
   "cell_type": "code",
   "execution_count": 73,
   "metadata": {},
   "outputs": [
    {
     "data": {
      "text/plain": [
       "True"
      ]
     },
     "execution_count": 73,
     "metadata": {},
     "output_type": "execute_result"
    }
   ],
   "source": [
    "isinstance(a, int)"
   ]
  },
  {
   "cell_type": "code",
   "execution_count": null,
   "metadata": {},
   "outputs": [],
   "source": [
    "# 다른 방법으로 확인해봅시다."
   ]
  },
  {
   "cell_type": "code",
   "execution_count": 74,
   "metadata": {},
   "outputs": [
    {
     "data": {
      "text/plain": [
       "True"
      ]
     },
     "execution_count": 74,
     "metadata": {},
     "output_type": "execute_result"
    }
   ],
   "source": [
    "type(a) == int"
   ]
  },
  {
   "cell_type": "markdown",
   "metadata": {},
   "source": [
    "## MyList\n",
    "\n",
    "> 지금까지 배운 것을 활용하여 나만의 리스트 class `MyList`를 작성하세요.\n",
    "\n",
    "---\n",
    "\n",
    "`MyList` 클래스가 가지는 변수와 메서드는 아래와 같습니다.\n",
    "\n",
    "```\n",
    "* 멤버 변수(클래스 변수)\n",
    "data : 비어 있는 리스트\n",
    "\n",
    "* 메서드\n",
    "append() : 값을 받아 data 에 추가합니다. 리턴 값은 없습니다.\n",
    "count() : data 리스트 요소의 개수를 리턴합니다.\n",
    "\n",
    "__repr__ : ex) '내 리스트에는 [1, 2, 3] 이 담겨있다.'\n",
    "```"
   ]
  },
  {
   "cell_type": "code",
   "execution_count": 89,
   "metadata": {},
   "outputs": [],
   "source": [
    "# 아래에 코드를 작성해주세요."
   ]
  },
  {
   "cell_type": "code",
   "execution_count": 55,
   "metadata": {},
   "outputs": [],
   "source": [
    "class MyList():\n",
    "    data = []\n",
    "    def append(self, num):\n",
    "        self.data = self.data + [num]  # 인스턴스 변수에 append\n",
    "        # self.data += [num]  # 클래스 변수 append\n",
    "        \n",
    "    \n",
    "    def count(self):\n",
    "        return len(self.data)\n",
    "    \n",
    "    def __repr__(self):\n",
    "        return f'내 리스트에는 {self.data}이 담겨있다.'"
   ]
  },
  {
   "cell_type": "markdown",
   "metadata": {},
   "source": [
    "각 셀을 두번 이상 실행하면 원하지 않은 결과가 나올 수 있으니 유의하세요.\n",
    "\n",
    "결과를 [python tutor](http://pythontutor.com/visualize.html#mode=edit)로 다시 한번 확인하세요"
   ]
  },
  {
   "cell_type": "code",
   "execution_count": 56,
   "metadata": {},
   "outputs": [],
   "source": [
    "# 아래에서 인스턴스를 만들고 메서드를 호출하세요."
   ]
  },
  {
   "cell_type": "code",
   "execution_count": 57,
   "metadata": {},
   "outputs": [],
   "source": [
    "m1 = MyList()\n",
    "m2 = MyList()"
   ]
  },
  {
   "cell_type": "code",
   "execution_count": 58,
   "metadata": {},
   "outputs": [
    {
     "name": "stdout",
     "output_type": "stream",
     "text": [
      "[]\n"
     ]
    }
   ],
   "source": [
    "print(m1.data)\n",
    "m1.append(1)"
   ]
  },
  {
   "cell_type": "code",
   "execution_count": 59,
   "metadata": {},
   "outputs": [
    {
     "name": "stdout",
     "output_type": "stream",
     "text": [
      "[1]\n"
     ]
    }
   ],
   "source": [
    "print(m1.data)"
   ]
  },
  {
   "cell_type": "code",
   "execution_count": 60,
   "metadata": {},
   "outputs": [],
   "source": [
    "m2.append(2)"
   ]
  },
  {
   "cell_type": "code",
   "execution_count": 61,
   "metadata": {},
   "outputs": [
    {
     "name": "stdout",
     "output_type": "stream",
     "text": [
      "[2]\n"
     ]
    }
   ],
   "source": [
    "print(m2.data)"
   ]
  },
  {
   "cell_type": "code",
   "execution_count": 62,
   "metadata": {},
   "outputs": [
    {
     "name": "stdout",
     "output_type": "stream",
     "text": [
      "[]\n"
     ]
    }
   ],
   "source": [
    "print(MyList.data)\n",
    "# self.data += [num] 으로 작성하면  MyList.data에 append 되면서 class 자체가 꼬이게 됨"
   ]
  },
  {
   "cell_type": "code",
   "execution_count": 63,
   "metadata": {
    "scrolled": true
   },
   "outputs": [
    {
     "name": "stdout",
     "output_type": "stream",
     "text": [
      "['a', 'b', 'c', 'd']\n"
     ]
    }
   ],
   "source": [
    "lst = ['a', 'b', 'c']\n",
    "lst.append('d')\n",
    "print(lst)"
   ]
  },
  {
   "cell_type": "markdown",
   "metadata": {},
   "source": [
    "## 용어 정리\n",
    "\n",
    "```python\n",
    "class Person:                     # 클래스 정의(선언, 클래스 객체 생성)\n",
    "    name = 'unknown'              # 멤버 변수(data attribute)\n",
    "    def greeting(self):           # 멤버 메서드\n",
    "        return f'{self.name}' \n",
    "```\n",
    "  \n",
    "    \n",
    "```python\n",
    "richard = Person()      # 인스턴스 객체 생성\n",
    "tim = Person()          # 인스턴스 객체 생성\n",
    "tim.name                # 멤버 변수(클래스 변수) 호출\n",
    "tim.greeting()          # 메서드(인스턴스 메서드) 호출\n",
    "```"
   ]
  },
  {
   "cell_type": "markdown",
   "metadata": {},
   "source": [
    "## 클래스와 인스턴스 변수\n",
    "\n",
    "- 클래스 변수\n",
    "    - 클래스의 모든 인스턴스에서 공유되는 어트리뷰트와 메서드를 위한 것\n",
    "    - 모든 인스턴스가 공유\n",
    "    \n",
    "    \n",
    "- 인스턴스 변수\n",
    "    - 인스턴스별 데이터를 위한 것\n",
    "    - 각 인스턴스들의 고유 변수\n",
    "    \n",
    "    \n",
    "```python\n",
    "class Dog:\n",
    "\n",
    "    kind = 'tori'                # 클래스 변수 (모든 인스턴스가 공유)\n",
    "\n",
    "    def __init__(self, name):    # 인스턴스 생성자 함수\n",
    "        self.name = name         # 인스턴스 변수 (각 인스턴스들의 고유 변수)\n",
    "```"
   ]
  },
  {
   "cell_type": "code",
   "execution_count": null,
   "metadata": {},
   "outputs": [],
   "source": [
    "# Person 클래스를 만들어 봅시다."
   ]
  },
  {
   "cell_type": "code",
   "execution_count": 72,
   "metadata": {},
   "outputs": [
    {
     "name": "stdout",
     "output_type": "stream",
     "text": [
      "unknown\n"
     ]
    },
    {
     "data": {
      "text/plain": [
       "'멍'"
      ]
     },
     "execution_count": 72,
     "metadata": {},
     "output_type": "execute_result"
    }
   ],
   "source": [
    "class Person:\n",
    "    name = 'unknown'\n",
    "    def greeting(self):\n",
    "        return f'{self.name}'\n",
    "\n",
    "richard = Person()\n",
    "tim = Person()\n",
    "tim.name = '멍'\n",
    "print(richard.greeting())\n",
    "tim.greeting()"
   ]
  },
  {
   "cell_type": "code",
   "execution_count": 73,
   "metadata": {},
   "outputs": [],
   "source": [
    "class Dog:\n",
    "    kind = 'tori'\n",
    "    def __init__(self, name):\n",
    "        self.name = name"
   ]
  },
  {
   "cell_type": "code",
   "execution_count": 75,
   "metadata": {},
   "outputs": [
    {
     "name": "stdout",
     "output_type": "stream",
     "text": [
      "mung\n",
      "tori\n"
     ]
    }
   ],
   "source": [
    "d1 = Dog('mung')\n",
    "print(d1.name)\n",
    "print(d1.kind)"
   ]
  },
  {
   "cell_type": "code",
   "execution_count": 80,
   "metadata": {},
   "outputs": [
    {
     "data": {
      "text/plain": [
       "False"
      ]
     },
     "execution_count": 80,
     "metadata": {},
     "output_type": "execute_result"
    }
   ],
   "source": [
    "# 클래스와 인스턴스간의 관계를 확인해 봅시다.\n",
    "isinstance(d1, Dog)\n",
    "isinstance(tim, Dog)"
   ]
  },
  {
   "cell_type": "markdown",
   "metadata": {},
   "source": [
    "##  `self` : 인스턴스 객체 자기자신\n",
    "\n",
    "* C++ 혹은 자바에서의 this 키워드와 동일함. \n",
    "\n",
    "\n",
    "* 특별한 상황을 제외하고는 **무조건 메서드에서 `self`를 첫번째 인자로 설정**\n",
    "\n",
    "\n",
    "* 메서드는 인스턴스 객체가 함수의 첫번째 인자로 전달되도록 되어있다."
   ]
  },
  {
   "cell_type": "code",
   "execution_count": null,
   "metadata": {},
   "outputs": [],
   "source": [
    "# p1 의 이름을 자신의 이름으로 바꾸고 다시 인사해 봅시다."
   ]
  },
  {
   "cell_type": "code",
   "execution_count": 83,
   "metadata": {},
   "outputs": [
    {
     "data": {
      "text/plain": [
       "'김지수'"
      ]
     },
     "execution_count": 83,
     "metadata": {},
     "output_type": "execute_result"
    }
   ],
   "source": [
    "p1 = Person()\n",
    "p1.name = '김지수'\n",
    "p1.greeting()"
   ]
  },
  {
   "cell_type": "code",
   "execution_count": null,
   "metadata": {},
   "outputs": [],
   "source": [
    "# greeting 함수의 첫번째 인자 self는 아래와 같은 뜻입니다."
   ]
  },
  {
   "cell_type": "code",
   "execution_count": 84,
   "metadata": {},
   "outputs": [
    {
     "data": {
      "text/plain": [
       "'김지수'"
      ]
     },
     "execution_count": 84,
     "metadata": {},
     "output_type": "execute_result"
    }
   ],
   "source": [
    "Person.greeting(p1)"
   ]
  },
  {
   "cell_type": "code",
   "execution_count": null,
   "metadata": {},
   "outputs": [],
   "source": [
    "# 그러나 인스턴스 에서 사용될 경우 self 자리에 자동으로 인스턴스 객체가 할당됩니다."
   ]
  },
  {
   "cell_type": "markdown",
   "metadata": {},
   "source": [
    "## 클래스-인스턴스간의 이름공간\n",
    "\n",
    "* 클래스를 정의하면, 클래스 객체가 생성되고 해당되는 이름 공간이 생성된다. \n",
    "\n",
    "\n",
    "* 인스턴스를 만들게 되면, 인스턴스 객체가 생성되고 해당되는 이름 공간이 생성된다.\n",
    "\n",
    "\n",
    "* 인스턴스의 어트리뷰트가 변경되면, 변경된 데이터를 인스턴스 객체 이름 공간에 저장한다.\n",
    "\n",
    "\n",
    "* 즉, 인스턴스에서 특정한 어트리뷰트에 접근하게 되면 **인스턴스 => 클래스** 순으로 탐색을 한다."
   ]
  },
  {
   "cell_type": "code",
   "execution_count": null,
   "metadata": {},
   "outputs": [],
   "source": [
    "class Person:\n",
    "    name = 'unknown'\n",
    "    \n",
    "    def greeting(self):\n",
    "        return f'my name is {name}'\n",
    "        # class에 정의된 메서드라도 class namespace에 바로 접근하지 못합니다.\n",
    "        # 따라서 위 코드는 에러를 발생시킵니다."
   ]
  },
  {
   "cell_type": "code",
   "execution_count": null,
   "metadata": {},
   "outputs": [],
   "source": [
    "# 아래에서 확인해 봅시다."
   ]
  },
  {
   "cell_type": "code",
   "execution_count": 86,
   "metadata": {},
   "outputs": [
    {
     "ename": "NameError",
     "evalue": "name 'name' is not defined",
     "output_type": "error",
     "traceback": [
      "\u001b[1;31m---------------------------------------------------------------------------\u001b[0m",
      "\u001b[1;31mNameError\u001b[0m                                 Traceback (most recent call last)",
      "\u001b[1;32m<ipython-input-86-937f83251553>\u001b[0m in \u001b[0;36m<module>\u001b[1;34m\u001b[0m\n\u001b[0;32m      1\u001b[0m \u001b[0mp2\u001b[0m \u001b[1;33m=\u001b[0m \u001b[0mPerson\u001b[0m\u001b[1;33m(\u001b[0m\u001b[1;33m)\u001b[0m\u001b[1;33m\u001b[0m\u001b[1;33m\u001b[0m\u001b[0m\n\u001b[1;32m----> 2\u001b[1;33m \u001b[0mp2\u001b[0m\u001b[1;33m.\u001b[0m\u001b[0mgreeting\u001b[0m\u001b[1;33m(\u001b[0m\u001b[1;33m)\u001b[0m\u001b[1;33m\u001b[0m\u001b[1;33m\u001b[0m\u001b[0m\n\u001b[0m",
      "\u001b[1;32m<ipython-input-85-8187aa0560d7>\u001b[0m in \u001b[0;36mgreeting\u001b[1;34m(self)\u001b[0m\n\u001b[0;32m      3\u001b[0m \u001b[1;33m\u001b[0m\u001b[0m\n\u001b[0;32m      4\u001b[0m     \u001b[1;32mdef\u001b[0m \u001b[0mgreeting\u001b[0m\u001b[1;33m(\u001b[0m\u001b[0mself\u001b[0m\u001b[1;33m)\u001b[0m\u001b[1;33m:\u001b[0m\u001b[1;33m\u001b[0m\u001b[1;33m\u001b[0m\u001b[0m\n\u001b[1;32m----> 5\u001b[1;33m         \u001b[1;32mreturn\u001b[0m \u001b[1;34mf'my name is {name}'\u001b[0m\u001b[1;33m\u001b[0m\u001b[1;33m\u001b[0m\u001b[0m\n\u001b[0m",
      "\u001b[1;31mNameError\u001b[0m: name 'name' is not defined"
     ]
    }
   ],
   "source": [
    "p2 = Person()\n",
    "p2.greeting()"
   ]
  },
  {
   "cell_type": "code",
   "execution_count": 87,
   "metadata": {},
   "outputs": [],
   "source": [
    "# `name`을 `self.name`으로 바꾸고 다시 확인해봅시다.\n",
    "class Person:\n",
    "    name = 'unknown'\n",
    "    \n",
    "    def greeting(self):\n",
    "        return f'my name is {self.name}'"
   ]
  },
  {
   "cell_type": "code",
   "execution_count": null,
   "metadata": {},
   "outputs": [],
   "source": [
    "# 아래에서 확인해 봅시다."
   ]
  },
  {
   "cell_type": "code",
   "execution_count": 88,
   "metadata": {},
   "outputs": [
    {
     "data": {
      "text/plain": [
       "'my name is unknown'"
      ]
     },
     "execution_count": 88,
     "metadata": {},
     "output_type": "execute_result"
    }
   ],
   "source": [
    "p2 = Person()\n",
    "p2.greeting()"
   ]
  },
  {
   "cell_type": "markdown",
   "metadata": {},
   "source": [
    "* **class와 instance는 서로 다른 namespace를 가지고 있다.**\n",
    " \n",
    "> 위에서 출력한 이름 \"unknown\"은 class의 `name`이다.\n",
    ">\n",
    "> **instance => class** 순서로 `name`을 서칭했으며,\n",
    "> \n",
    "> instance는 `name` 값이 없기 때문에 class의 `name` 을 찾은것이다. \n",
    ">\n",
    "> 아래에서 이제 instance에 `name` 값을 할당하고 확인해보자."
   ]
  },
  {
   "cell_type": "code",
   "execution_count": 89,
   "metadata": {},
   "outputs": [
    {
     "name": "stdout",
     "output_type": "stream",
     "text": [
      "juan\n",
      "unknown\n"
     ]
    }
   ],
   "source": [
    "p2.name = 'juan'\n",
    "print(p2.name)\n",
    "print(Person.name)"
   ]
  },
  {
   "cell_type": "code",
   "execution_count": 90,
   "metadata": {},
   "outputs": [
    {
     "data": {
      "text/html": [
       "\n",
       "        <iframe\n",
       "            width=\"100%\"\n",
       "            height=\"500px\"\n",
       "            src=\"http://bit.do/oop_instro_00\"\n",
       "            frameborder=\"0\"\n",
       "            allowfullscreen\n",
       "        ></iframe>\n",
       "        "
      ],
      "text/plain": [
       "<IPython.lib.display.IFrame at 0x1f600d3dba8>"
      ]
     },
     "execution_count": 90,
     "metadata": {},
     "output_type": "execute_result"
    }
   ],
   "source": [
    "# python tutor 를 통해 확인해 봅시다.\n",
    "from IPython.display import IFrame\n",
    "IFrame('http://bit.do/oop_instro_00', width='100%', height='500px')"
   ]
  },
  {
   "cell_type": "markdown",
   "metadata": {},
   "source": [
    "## 생성자 / 소멸자\n",
    "\n",
    "* 생성자\n",
    "    - 인스턴스 객체가 생성될 때 호출되는 함수.\n",
    "    - 인스턴스가 생성될 때 인스턴스의 속성을 정의할 수 있다.\n",
    "    \n",
    "    \n",
    "* 소멸자\n",
    "    - 인스턴스 객체가 소멸(파괴)되기 직전에 호출되는 함수.\n",
    "\n",
    "\n",
    "```python\n",
    "def __init__(self):\n",
    "    print('생성될 때 자동으로 호출되는 메서드입니다.')\n",
    "    \n",
    "def __del__(self):\n",
    "    print('소멸될 때 자동으로 호출되는 메서드입니다.')\n",
    "```\n",
    "\n",
    "\n",
    "위의 형식처럼 양쪽에 언더스코어가 있는 메서드는 특별한 일을 하기 위해 만들어진 메서드이기 때문에 `스페셜 메서드` 혹은 `매직 메서드`라고 불립니다.\n",
    "\n",
    "\n",
    "- 매직(스페셜) 메서드 형태: `__someting__`"
   ]
  },
  {
   "cell_type": "code",
   "execution_count": null,
   "metadata": {},
   "outputs": [],
   "source": [
    "# 생성자와 소멸자를 만들어봅시다."
   ]
  },
  {
   "cell_type": "code",
   "execution_count": 100,
   "metadata": {},
   "outputs": [],
   "source": [
    "class Person:\n",
    "    def __init__(self):\n",
    "        print('응애!')\n",
    "        \n",
    "    def __del__(self):\n",
    "        print('안녕...')"
   ]
  },
  {
   "cell_type": "code",
   "execution_count": 101,
   "metadata": {},
   "outputs": [],
   "source": [
    "# 생성해 봅시다."
   ]
  },
  {
   "cell_type": "code",
   "execution_count": 102,
   "metadata": {},
   "outputs": [
    {
     "name": "stdout",
     "output_type": "stream",
     "text": [
      "응애!\n",
      "안녕...\n"
     ]
    }
   ],
   "source": [
    "p1 = Person()\n",
    "p1 = 1"
   ]
  },
  {
   "cell_type": "code",
   "execution_count": null,
   "metadata": {},
   "outputs": [],
   "source": [
    "# 소멸시켜 봅시다."
   ]
  },
  {
   "cell_type": "code",
   "execution_count": 103,
   "metadata": {},
   "outputs": [],
   "source": [
    "class Person:\n",
    "#     name = 'unknown'\n",
    "    def __init__(self, name):  # 1번 인자는 반드시! self!\n",
    "        self.name = name\n",
    "        print(f'응애! 나는 {self.name}!')\n",
    "        \n",
    "        \n",
    "    def __del__(self):\n",
    "        print(f'{self.name}는 떠난다.. 안녕...')"
   ]
  },
  {
   "cell_type": "code",
   "execution_count": null,
   "metadata": {},
   "outputs": [],
   "source": [
    "# 생성자 역시 메서드(함수)기 때문에 추가인자를 받을 수 있습니다."
   ]
  },
  {
   "cell_type": "code",
   "execution_count": 119,
   "metadata": {},
   "outputs": [
    {
     "name": "stdout",
     "output_type": "stream",
     "text": [
      "응애! 나는 피카츄!\n",
      "피카츄는 떠난다.. 안녕...\n",
      "피카츄는 떠난다.. 안녕...\n"
     ]
    }
   ],
   "source": [
    "me = Person('피카츄')\n",
    "me = 1  # 소멸보다 생성이 먼저 발생"
   ]
  },
  {
   "cell_type": "code",
   "execution_count": null,
   "metadata": {},
   "outputs": [],
   "source": [
    "# 생성과 동시에 인스턴스 변수에 값을 할당합니다."
   ]
  },
  {
   "cell_type": "code",
   "execution_count": null,
   "metadata": {},
   "outputs": [],
   "source": []
  },
  {
   "cell_type": "markdown",
   "metadata": {},
   "source": [
    "# 실습"
   ]
  },
  {
   "cell_type": "markdown",
   "metadata": {},
   "source": [
    "## Stack\n",
    "\n",
    "> 위에서 작성한 Mylist class는 완벽하지 않았습니다.\n",
    ">\n",
    "> data 변수에 담긴 list는 class 속성으로서 모든 인스턴스에서 공유되었기 때문에 인스턴스 만의 고유한 data를 갖지 못했습니다.\n",
    ">\n",
    "> `__init__` 생성자 메서드를 활용해 클래스 `Stack`을 작성하세요.\n",
    ">\n",
    "> [Stack](https://ko.wikipedia.org/wiki/%EC%8A%A4%ED%83%9D) : 스택은 LIFO(Last in First Out)으로 구조화된 자료구조를 뜻합니다.\n",
    "\n",
    "**class의 메서드는 아래와 같습니다.**\n",
    "1. `__init__()`: 인스턴스가 생성될 때 빈 리스트를 각 인스턴스의 이름 공간에 넣는다.\n",
    "\n",
    "2. `empty()`: 스택이 비었다면 True을 반환하고, 그렇지 않다면 False를 반환한다.\n",
    "\n",
    "3. `top()`: 스택의 가장 마지막 데이터를 반환한다. 스택이 비었다면 None을 반환한다.\n",
    "\n",
    "4. `pop()`: 스택의 가장 마지막 데이터의 값을 반환하고, 해당 데이터를 삭제한다. 스택이 비었다면 None을 반환한다.\n",
    "\n",
    "5. `push()`: 스택의 가장 마지막 데이터 뒤에 값을 추가한다. 반환값은 없다.\n",
    "\n",
    "6. `__repr__`: 현재 스택의 요소들을 보여준다."
   ]
  },
  {
   "cell_type": "code",
   "execution_count": null,
   "metadata": {},
   "outputs": [],
   "source": [
    "# 여기에 코드를 작성해주세요."
   ]
  },
  {
   "cell_type": "code",
   "execution_count": 12,
   "metadata": {},
   "outputs": [],
   "source": [
    "class Stack:\n",
    "    def __init__(self):\n",
    "        self.stack = []\n",
    "    \n",
    "    def empty(self):\n",
    "        # return not bool(self.stack)\n",
    "        if self.stack:\n",
    "            return False\n",
    "        else:\n",
    "            return True\n",
    "        \n",
    "    def top(self):\n",
    "        if self.stack:\n",
    "            return self.stack[-1]\n",
    "        else:\n",
    "            return None\n",
    "        \n",
    "    def pop(self):\n",
    "        if self.stack:\n",
    "            res = self.stack[-1]\n",
    "            del self.stack[-1]\n",
    "            return res\n",
    "        else:\n",
    "            return None\n",
    "    \n",
    "    def push(self, s):\n",
    "        self.stack = self.stack + [s]\n",
    "        \n",
    "    def __repr__(self):\n",
    "        return f'{self.stack}repr'\n",
    "    \n",
    "    def __str__(self):\n",
    "        return f'{self.stack}str'"
   ]
  },
  {
   "cell_type": "code",
   "execution_count": 13,
   "metadata": {},
   "outputs": [],
   "source": [
    "# 아래에서 인스턴스를 만들고 메서드를 호출하세요."
   ]
  },
  {
   "cell_type": "code",
   "execution_count": 15,
   "metadata": {},
   "outputs": [
    {
     "name": "stdout",
     "output_type": "stream",
     "text": [
      "[1, 2, 3]\n",
      "False\n",
      "3\n",
      "[1, 2]\n",
      "[1, 2]str\n"
     ]
    },
    {
     "data": {
      "text/plain": [
       "[1, 2]repr"
      ]
     },
     "execution_count": 15,
     "metadata": {},
     "output_type": "execute_result"
    }
   ],
   "source": [
    "s1 = Stack()\n",
    "s1.push(1)\n",
    "s1.push(2)\n",
    "s1.push(3)\n",
    "print(s1.stack)\n",
    "print(s1.empty())\n",
    "print(s1.pop())\n",
    "print(s1.stack)\n",
    "print(s1)\n",
    "s1"
   ]
  },
  {
   "cell_type": "markdown",
   "metadata": {},
   "source": [
    "## Circle\n",
    "\n",
    "> 아래의 조건에 맞는 Circle 클래스를 작성하세요.\n",
    "\n",
    "---\n",
    "\n",
    "**클래스** 속성\n",
    "\n",
    "\n",
    "* `pi`: 3.14\n",
    "\n",
    "**인스턴스** 속성 (초기화 시 필요한 값들)\n",
    "\n",
    "\n",
    "* `r`: 원의 반지름 (필수 입력)\n",
    "\n",
    "\n",
    "* `x`: x좌표 (default 0)\n",
    "\n",
    "\n",
    "* `y`: y좌표 (default 0)\n",
    "\n",
    "**인스턴스** 메서드\n",
    "\n",
    "\n",
    "* `area()`: 원의 넓이를 반환\n",
    "\n",
    "\n",
    "* `circumference()`: 원의 둘레를 반환\n",
    "\n",
    "\n",
    "* `center()`: 원의 중심인 (x, y) 좌표를 튜플로 반환\n",
    "\n",
    "\n",
    "* `move(x, y)`: 원의 중심인 (x, y) 좌표를 입력받은 값으로 변경하고 변경된 좌표값을 튜플로 반환"
   ]
  },
  {
   "cell_type": "code",
   "execution_count": null,
   "metadata": {},
   "outputs": [],
   "source": [
    "# 아래에 클래스를 작성하세요."
   ]
  },
  {
   "cell_type": "code",
   "execution_count": 33,
   "metadata": {},
   "outputs": [],
   "source": [
    "class Circle():\n",
    "    pi = 3.14\n",
    "    \n",
    "    def __init__(self, r, x=0, y=0):\n",
    "        self.radius = r\n",
    "        self.x = x\n",
    "        self.y = y\n",
    "    \n",
    "    def area(self):\n",
    "        return self.pi * self.radius ** 2\n",
    "    \n",
    "    def circumference(self):\n",
    "        return self.pi * 2 * self.radius\n",
    "    \n",
    "    def center(self):\n",
    "        return self.x , self.y\n",
    "    \n",
    "    def move(self, x, y):\n",
    "        self.x = x\n",
    "        self.y = y\n",
    "        return self.x, self.y"
   ]
  },
  {
   "cell_type": "code",
   "execution_count": 34,
   "metadata": {},
   "outputs": [],
   "source": [
    "# 아래에서 인스턴스를 만들고 메서드를 호출하세요."
   ]
  },
  {
   "cell_type": "code",
   "execution_count": 35,
   "metadata": {},
   "outputs": [
    {
     "name": "stdout",
     "output_type": "stream",
     "text": [
      "3.14\n",
      "78.5\n",
      "31.400000000000002\n",
      "(0, 0)\n",
      "(3, 5)\n",
      "(2, 4)\n"
     ]
    }
   ],
   "source": [
    "circle1 = Circle(5)\n",
    "print(circle1.pi)\n",
    "print(circle1.area())\n",
    "print(circle1.circumference())\n",
    "print(circle1.center())\n",
    "circle1.x = 3\n",
    "circle1.y = 5\n",
    "print(circle1.center())\n",
    "print(circle1.move(2,4))"
   ]
  },
  {
   "cell_type": "code",
   "execution_count": 36,
   "metadata": {},
   "outputs": [
    {
     "name": "stdout",
     "output_type": "stream",
     "text": [
      "(0, 0)\n",
      "(3, 3)\n",
      "28.26\n",
      "(5, 5)\n",
      "6.28\n",
      "3.14\n"
     ]
    }
   ],
   "source": [
    "c1 = Circle(3)\n",
    "print(c1.center())\n",
    "print(c1.move(3, 3))\n",
    "print(c1.area())\n",
    "c2 = Circle(1, 5, 5)\n",
    "print(c2.center())\n",
    "print(c2.circumference())\n",
    "print(c2.area())"
   ]
  },
  {
   "cell_type": "code",
   "execution_count": null,
   "metadata": {},
   "outputs": [],
   "source": []
  }
 ],
 "metadata": {
  "kernelspec": {
   "display_name": "Python 3",
   "language": "python",
   "name": "python3"
  },
  "language_info": {
   "codemirror_mode": {
    "name": "ipython",
    "version": 3
   },
   "file_extension": ".py",
   "mimetype": "text/x-python",
   "name": "python",
   "nbconvert_exporter": "python",
   "pygments_lexer": "ipython3",
   "version": "3.7.3"
  },
  "latex_envs": {
   "LaTeX_envs_menu_present": true,
   "autoclose": false,
   "autocomplete": true,
   "bibliofile": "biblio.bib",
   "cite_by": "apalike",
   "current_citInitial": 1,
   "eqLabelWithNumbers": true,
   "eqNumInitial": 1,
   "hotkeys": {
    "equation": "Ctrl-E",
    "itemize": "Ctrl-I"
   },
   "labels_anchors": false,
   "latex_user_defs": false,
   "report_style_numbering": false,
   "user_envs_cfg": false
  },
  "toc": {
   "base_numbering": 1,
   "nav_menu": {},
   "number_sections": true,
   "sideBar": true,
   "skip_h1_title": false,
   "title_cell": "Table of Contents",
   "title_sidebar": "Contents",
   "toc_cell": false,
   "toc_position": {
    "height": "calc(100% - 180px)",
    "left": "10px",
    "top": "150px",
    "width": "336px"
   },
   "toc_section_display": true,
   "toc_window_display": true
  }
 },
 "nbformat": 4,
 "nbformat_minor": 2
}
