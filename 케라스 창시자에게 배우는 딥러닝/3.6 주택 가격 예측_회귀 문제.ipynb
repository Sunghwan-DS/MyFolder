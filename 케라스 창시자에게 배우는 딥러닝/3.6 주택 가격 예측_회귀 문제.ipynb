{
 "cells": [
  {
   "cell_type": "markdown",
   "metadata": {},
   "source": [
    "## 보스턴 주택 데이터셋 로드하기"
   ]
  },
  {
   "cell_type": "code",
   "execution_count": 2,
   "metadata": {},
   "outputs": [],
   "source": [
    "from keras.datasets import boston_housing"
   ]
  },
  {
   "cell_type": "code",
   "execution_count": 7,
   "metadata": {},
   "outputs": [],
   "source": [
    "(train_data, train_targets), (test_data, test_targets) = boston_housing.load_data()"
   ]
  },
  {
   "cell_type": "code",
   "execution_count": 8,
   "metadata": {},
   "outputs": [
    {
     "name": "stdout",
     "output_type": "stream",
     "text": [
      "[  1.23247   0.        8.14      0.        0.538     6.142    91.7\n",
      "   3.9769    4.      307.       21.      396.9      18.72   ]\n"
     ]
    }
   ],
   "source": [
    "print(train_data[0])"
   ]
  },
  {
   "cell_type": "markdown",
   "metadata": {},
   "source": [
    "- CRIM 자치시(town) 별 1인당 범죄율\n",
    "- ZN 25,000 평방피트를 초과하는 거주지역의 비율\n",
    "- INDUS 비소매상업지역이 점유하고 있는 토지의 비율\n",
    "- CHAS 찰스강에 대한 더미변수(강의 경계에 위치한 경우는 1, 아니면 0)\n",
    "- NOX 10ppm 당 농축 일산화질소\n",
    "- RM 주택 1가구당 평균 방의 개수\n",
    "- AGE 1940년 이전에 건축된 소유주택의 비율\n",
    "- DIS 5개의 보스턴 직업센터까지의 접근성 지수\n",
    "- RAD 방사형 도로까지의 접근성 지수\n",
    "- TAX 10,000 달러 당 재산세율\n",
    "- PTRATIO 자치시(town)별 학생/교사 비율\n",
    "- B 1000(Bk-0.63)^2, 여기서 Bk는 자치시별 흑인의 비율을 말함.\n",
    "- LSTAT 모집단의 하위계층의 비율(%)\n",
    "- MEDV 본인 소유의 주택가격(중앙값) (단위: $1,000)"
   ]
  },
  {
   "cell_type": "code",
   "execution_count": 4,
   "metadata": {},
   "outputs": [
    {
     "data": {
      "text/plain": [
       "(404, 13)"
      ]
     },
     "execution_count": 4,
     "metadata": {},
     "output_type": "execute_result"
    }
   ],
   "source": [
    "train_data.shape"
   ]
  },
  {
   "cell_type": "code",
   "execution_count": 5,
   "metadata": {},
   "outputs": [
    {
     "name": "stdout",
     "output_type": "stream",
     "text": [
      "15.2\n"
     ]
    }
   ],
   "source": [
    "print(train_targets[0])"
   ]
  },
  {
   "cell_type": "markdown",
   "metadata": {},
   "source": [
    "## 데이터 정규화하기"
   ]
  },
  {
   "cell_type": "code",
   "execution_count": 6,
   "metadata": {},
   "outputs": [],
   "source": [
    "mean = train_data.mean(axis=0)\n",
    "train_data -= mean\n",
    "std = train_data.std(axis=0)\n",
    "train_data /= std\n",
    "\n",
    "test_data -= mean\n",
    "test_data /= std"
   ]
  },
  {
   "cell_type": "code",
   "execution_count": 7,
   "metadata": {},
   "outputs": [
    {
     "name": "stdout",
     "output_type": "stream",
     "text": [
      "[3.74511057e+00 1.14801980e+01 1.11044307e+01 6.18811881e-02\n",
      " 5.57355941e-01 6.26708168e+00 6.90106436e+01 3.74027079e+00\n",
      " 9.44059406e+00 4.05898515e+02 1.84759901e+01 3.54783168e+02\n",
      " 1.27408168e+01]\n"
     ]
    }
   ],
   "source": [
    "print(mean) # 평균"
   ]
  },
  {
   "cell_type": "code",
   "execution_count": 8,
   "metadata": {},
   "outputs": [
    {
     "name": "stdout",
     "output_type": "stream",
     "text": [
      "[9.22929073e+00 2.37382770e+01 6.80287253e+00 2.40939633e-01\n",
      " 1.17147847e-01 7.08908627e-01 2.79060634e+01 2.02770050e+00\n",
      " 8.68758849e+00 1.66168506e+02 2.19765689e+00 9.39946015e+01\n",
      " 7.24556085e+00]\n"
     ]
    }
   ],
   "source": [
    "print(std) # 표준편차"
   ]
  },
  {
   "cell_type": "markdown",
   "metadata": {},
   "source": [
    "### 정규화된 데이터"
   ]
  },
  {
   "cell_type": "code",
   "execution_count": 9,
   "metadata": {},
   "outputs": [
    {
     "name": "stdout",
     "output_type": "stream",
     "text": [
      "[-0.27224633 -0.48361547 -0.43576161 -0.25683275 -0.1652266  -0.1764426\n",
      "  0.81306188  0.1166983  -0.62624905 -0.59517003  1.14850044  0.44807713\n",
      "  0.8252202 ]\n"
     ]
    }
   ],
   "source": [
    "print(train_data[0])"
   ]
  },
  {
   "cell_type": "code",
   "execution_count": 10,
   "metadata": {},
   "outputs": [
    {
     "name": "stdout",
     "output_type": "stream",
     "text": [
      "[ 1.55369355 -0.48361547  1.0283258  -0.25683275  1.03838067  0.23545815\n",
      "  1.11048828 -0.93976936  1.67588577  1.5652875   0.78447637 -3.48459553\n",
      "  2.25092074]\n"
     ]
    }
   ],
   "source": [
    "print(test_data[0])"
   ]
  },
  {
   "cell_type": "markdown",
   "metadata": {},
   "source": [
    "## 모델 정의하기"
   ]
  },
  {
   "cell_type": "code",
   "execution_count": 11,
   "metadata": {},
   "outputs": [],
   "source": [
    "from keras import models, layers\n",
    "\n",
    "def build_model(): # 동일한 모델을 여러 번 생성할 것이므로 함수를 만들어 사용합니다.\n",
    "    model = models.Sequential()\n",
    "    model.add(layers.Dense(64, activation='relu', input_shape=(train_data.shape[1],)))\n",
    "    model.add(layers.Dense(64, activation='relu'))\n",
    "    model.add(layers.Dense(1))\n",
    "    model.compile(optimizer='rmsprop', loss='mse', metrics=['mae'])\n",
    "    return model"
   ]
  },
  {
   "cell_type": "markdown",
   "metadata": {},
   "source": [
    "#### 이 네트워크의 마지막 층은 하나의 유닛을 가지고 있고 활성화 함수가 없습니다. (선형 층)"
   ]
  },
  {
   "cell_type": "markdown",
   "metadata": {},
   "source": [
    "이 모델은 mse(평균 제곱 오차) 손실 함수를 사용하여 컴파일합니다. 회귀 문제에서 널리 사용되는 손실 함수입니다.\n",
    "\n",
    "훈련하는 동안 모니터링을 위해 새로운 지표인 평균 절대 오차(MAE)를 측정합니다. 이는 예측과 타깃 사이 거리의 절댓값입니다."
   ]
  },
  {
   "cell_type": "markdown",
   "metadata": {},
   "source": [
    "## k-겹 검증하기"
   ]
  },
  {
   "cell_type": "markdown",
   "metadata": {},
   "source": [
    "> 데이터 포인트가 많지 않기 때문에 검증 세트도 매우 작아집니다. 검증 세트와 훈련 세트로 어떤 데이터 포인터가 선택되었는지에 따라 검증 점수가 크게 달라집니다. 데이터를 K개의 분할로 나누고, K개의 모델을 각각 만들어 K-1개의 분할에서 훈련하고 나머지 분할에서 평가하는 방법입니다. (K-fold cross-validation)"
   ]
  },
  {
   "cell_type": "code",
   "execution_count": 12,
   "metadata": {},
   "outputs": [
    {
     "name": "stdout",
     "output_type": "stream",
     "text": [
      "처리중인 폴드 # 0\n",
      "처리중인 폴드 # 1\n",
      "처리중인 폴드 # 2\n",
      "처리중인 폴드 # 3\n"
     ]
    }
   ],
   "source": [
    "import numpy as np\n",
    "\n",
    "k = 4\n",
    "\n",
    "num_val_samples = len(train_data) // k\n",
    "num_epochs = 100\n",
    "all_scores = []\n",
    "for i in range(k):\n",
    "    print('처리중인 폴드 #', i)\n",
    "    val_data = train_data[i * num_val_samples: (i + 1) * num_val_samples]\n",
    "    val_targets = train_targets[i * num_val_samples: (i + 1) * num_val_samples]\n",
    "    \n",
    "    partial_train_data = np.concatenate(\n",
    "    [train_data[:i * num_val_samples],\n",
    "    train_data[(i + 1) * num_val_samples:]],\n",
    "    axis=0)\n",
    "    partial_train_targets = np.concatenate(\n",
    "    [train_targets[:i * num_val_samples],\n",
    "    train_targets[(i + 1) * num_val_samples:]],\n",
    "    axis=0)\n",
    "    \n",
    "    model = build_model()\n",
    "    model.fit(partial_train_data, partial_train_targets, epochs=num_epochs, batch_size=1, verbose=0) # verbose=0이므로 훈련 과정이 출력되지 않습니다.\n",
    "    val_mse, val_mae = model.evaluate(val_data, val_targets, verbose=0)\n",
    "    all_scores.append(val_mae)"
   ]
  },
  {
   "cell_type": "code",
   "execution_count": 28,
   "metadata": {},
   "outputs": [
    {
     "data": {
      "text/plain": [
       "[2.083195447921753, 2.457456111907959, 2.7008023262023926, 2.4599387645721436]"
      ]
     },
     "execution_count": 28,
     "metadata": {},
     "output_type": "execute_result"
    }
   ],
   "source": [
    "all_scores"
   ]
  },
  {
   "cell_type": "code",
   "execution_count": 29,
   "metadata": {},
   "outputs": [
    {
     "data": {
      "text/plain": [
       "2.425348162651062"
      ]
     },
     "execution_count": 29,
     "metadata": {},
     "output_type": "execute_result"
    }
   ],
   "source": [
    "np.mean(all_scores)"
   ]
  },
  {
   "cell_type": "markdown",
   "metadata": {},
   "source": [
    "## 각 폴드에서 검증 점수를 로그에 저장하기"
   ]
  },
  {
   "cell_type": "code",
   "execution_count": 24,
   "metadata": {},
   "outputs": [
    {
     "name": "stdout",
     "output_type": "stream",
     "text": [
      "처리중인 폴드 # 0\n",
      "처리중인 폴드 # 1\n",
      "처리중인 폴드 # 2\n",
      "처리중인 폴드 # 3\n"
     ]
    }
   ],
   "source": [
    "num_epochs = 500\n",
    "all_mae_histories = []\n",
    "for i in range(k):\n",
    "    print('처리중인 폴드 #', i)\n",
    "    val_data = train_data[i * num_val_samples: (i + 1) * num_val_samples]\n",
    "    val_targets = train_targets[i * num_val_samples: (i + 1) * num_val_samples]\n",
    "    \n",
    "    partial_train_data = np.concatenate(\n",
    "    [train_data[:i * num_val_samples],\n",
    "    train_data[(i + 1) * num_val_samples:]],\n",
    "    axis=0)\n",
    "    partial_train_targets = np.concatenate(\n",
    "    [train_targets[:i * num_val_samples],\n",
    "    train_targets[(i + 1) * num_val_samples:]],\n",
    "    axis=0)\n",
    "    \n",
    "    model = build_model()\n",
    "    history = model.fit(partial_train_data, partial_train_targets, validation_data=(val_data, val_targets), epochs=num_epochs, batch_size=1, verbose=0) # verbose=0이므로 훈련 과정이 출력되지 않습니다.\n",
    "    mae_history = history.history['val_mae']\n",
    "    all_mae_histories.append(mae_history)"
   ]
  },
  {
   "cell_type": "markdown",
   "metadata": {},
   "source": [
    "## K-겹 검증 점수 평균을 기록하기"
   ]
  },
  {
   "cell_type": "code",
   "execution_count": 25,
   "metadata": {},
   "outputs": [],
   "source": [
    "average_mae_history = [np.mean([x[i] for x in all_mae_histories]) for i in range(num_epochs)]"
   ]
  },
  {
   "cell_type": "code",
   "execution_count": 30,
   "metadata": {},
   "outputs": [
    {
     "data": {
      "text/plain": [
       "[4.500454068183899,\n",
       " 3.3091705441474915,\n",
       " 3.0313526391983032,\n",
       " 2.8646695613861084,\n",
       " 2.7851011157035828,\n",
       " 2.773279309272766,\n",
       " 2.553735673427582,\n",
       " 2.6105403900146484,\n",
       " 2.599431812763214,\n",
       " 2.578539490699768,\n",
       " 2.5080872774124146,\n",
       " 2.4245699644088745,\n",
       " 2.5523842573165894,\n",
       " 2.4009405374526978,\n",
       " 2.4970709085464478,\n",
       " 2.4104188680648804,\n",
       " 2.4951515197753906,\n",
       " 2.3940181136131287,\n",
       " 2.390624463558197,\n",
       " 2.4998779892921448,\n",
       " 2.4207587838172913,\n",
       " 2.437180459499359,\n",
       " 2.3890058398246765,\n",
       " 2.4005947709083557,\n",
       " 2.411199003458023,\n",
       " 2.44206303358078,\n",
       " 2.329553872346878,\n",
       " 2.4085172712802887,\n",
       " 2.51782488822937,\n",
       " 2.3742764592170715,\n",
       " 2.502080738544464,\n",
       " 2.4061766862869263,\n",
       " 2.3455170392990112,\n",
       " 2.3701075315475464,\n",
       " 2.3383437991142273,\n",
       " 2.522939294576645,\n",
       " 2.391205221414566,\n",
       " 2.3222638368606567,\n",
       " 2.376798152923584,\n",
       " 2.395145922899246,\n",
       " 2.2878419160842896,\n",
       " 2.3671769499778748,\n",
       " 2.446380913257599,\n",
       " 2.3681174218654633,\n",
       " 2.3817264437675476,\n",
       " 2.3877023458480835,\n",
       " 2.374772697687149,\n",
       " 2.3859393894672394,\n",
       " 2.372521936893463,\n",
       " 2.2429081201553345,\n",
       " 2.4546364545822144,\n",
       " 2.2803547084331512,\n",
       " 2.421141803264618,\n",
       " 2.398651659488678,\n",
       " 2.3500621616840363,\n",
       " 2.3791867792606354,\n",
       " 2.5375203490257263,\n",
       " 2.340829849243164,\n",
       " 2.330102354288101,\n",
       " 2.316080629825592,\n",
       " 2.4287954568862915,\n",
       " 2.397214889526367,\n",
       " 2.4179199934005737,\n",
       " 2.2578456103801727,\n",
       " 2.422579824924469,\n",
       " 2.4094579815864563,\n",
       " 2.379798173904419,\n",
       " 2.33477184176445,\n",
       " 2.3457906246185303,\n",
       " 2.4126052260398865,\n",
       " 2.456500768661499,\n",
       " 2.6393391489982605,\n",
       " 2.4957445859909058,\n",
       " 2.356902837753296,\n",
       " 2.392681360244751,\n",
       " 2.460964024066925,\n",
       " 2.35682076215744,\n",
       " 2.40389221906662,\n",
       " 2.316540539264679,\n",
       " 2.517638325691223,\n",
       " 2.344090074300766,\n",
       " 2.4245444536209106,\n",
       " 2.2979753613471985,\n",
       " 2.5066753029823303,\n",
       " 2.370990216732025,\n",
       " 2.461063802242279,\n",
       " 2.456446647644043,\n",
       " 2.464950382709503,\n",
       " 2.4003151059150696,\n",
       " 2.5041823387145996,\n",
       " 2.5311704874038696,\n",
       " 2.5143262147903442,\n",
       " 2.4566012918949127,\n",
       " 2.3983408212661743,\n",
       " 2.6069173216819763,\n",
       " 2.3463674187660217,\n",
       " 2.4610339403152466,\n",
       " 2.5890705585479736,\n",
       " 2.628387451171875,\n",
       " 2.5819032788276672,\n",
       " 2.526929259300232,\n",
       " 2.4638290405273438,\n",
       " 2.3919771909713745,\n",
       " 2.4169196486473083,\n",
       " 2.4009782671928406,\n",
       " 2.4397012293338776,\n",
       " 2.607107102870941,\n",
       " 2.4603227376937866,\n",
       " 2.3885825276374817,\n",
       " 2.592761278152466,\n",
       " 2.416832059621811,\n",
       " 2.4575324654579163,\n",
       " 2.5226948261260986,\n",
       " 2.5082284212112427,\n",
       " 2.6501704454421997,\n",
       " 2.5202383399009705,\n",
       " 2.6473657488822937,\n",
       " 2.5708320140838623,\n",
       " 2.557814836502075,\n",
       " 2.4041537046432495,\n",
       " 2.496373236179352,\n",
       " 2.790122091770172,\n",
       " 2.6137359142303467,\n",
       " 2.5711386799812317,\n",
       " 2.6033629179000854,\n",
       " 2.4507144689559937,\n",
       " 2.4355940222740173,\n",
       " 2.730173945426941,\n",
       " 2.651843845844269,\n",
       " 2.6330100893974304,\n",
       " 2.503816545009613,\n",
       " 2.510630190372467,\n",
       " 2.5461859107017517,\n",
       " 2.6033297777175903,\n",
       " 2.7161751985549927,\n",
       " 2.5643524527549744,\n",
       " 2.642414927482605,\n",
       " 2.5169026851654053,\n",
       " 2.477994203567505,\n",
       " 2.6091228127479553,\n",
       " 2.7088977098464966,\n",
       " 2.6366071105003357,\n",
       " 2.5256710052490234,\n",
       " 2.5453025102615356,\n",
       " 2.6032369136810303,\n",
       " 2.5363696217536926,\n",
       " 2.5619542598724365,\n",
       " 2.5921053290367126,\n",
       " 2.5789912343025208,\n",
       " 2.5307459831237793,\n",
       " 2.672184646129608,\n",
       " 2.6702911257743835,\n",
       " 2.6843698620796204,\n",
       " 2.572055995464325,\n",
       " 2.608693838119507,\n",
       " 2.9145954251289368,\n",
       " 2.6174641251564026,\n",
       " 2.550033986568451,\n",
       " 2.5000298619270325,\n",
       " 2.756616711616516,\n",
       " 2.639929473400116,\n",
       " 2.5962222814559937,\n",
       " 2.6640236377716064,\n",
       " 2.5297383666038513,\n",
       " 2.6176055669784546,\n",
       " 2.5225680470466614,\n",
       " 2.59761506319046,\n",
       " 2.581030488014221,\n",
       " 2.662522852420807,\n",
       " 2.7831976413726807,\n",
       " 2.5438537001609802,\n",
       " 2.754402458667755,\n",
       " 2.543105185031891,\n",
       " 2.5543894171714783,\n",
       " 2.6850528717041016,\n",
       " 2.771988868713379,\n",
       " 2.615904688835144,\n",
       " 2.690624713897705,\n",
       " 2.7823068499565125,\n",
       " 2.576960265636444,\n",
       " 2.7600963711738586,\n",
       " 2.730100452899933,\n",
       " 2.643657863140106,\n",
       " 2.578973948955536,\n",
       " 2.6997379660606384,\n",
       " 2.694180965423584,\n",
       " 2.7922735810279846,\n",
       " 2.57870090007782,\n",
       " 2.619555354118347,\n",
       " 2.539070725440979,\n",
       " 2.562808632850647,\n",
       " 2.6642127633094788,\n",
       " 2.7440993785858154,\n",
       " 2.62852019071579,\n",
       " 2.6275627613067627,\n",
       " 2.5870103240013123,\n",
       " 2.6411049365997314,\n",
       " 2.623809576034546,\n",
       " 2.658719301223755,\n",
       " 2.617185592651367,\n",
       " 2.621545195579529,\n",
       " 2.6847134828567505,\n",
       " 2.6662569642066956,\n",
       " 2.586968958377838,\n",
       " 2.705816924571991,\n",
       " 2.7214289903640747,\n",
       " 2.597437858581543,\n",
       " 2.719329357147217,\n",
       " 2.6426650285720825,\n",
       " 2.7317054867744446,\n",
       " 2.7724360823631287,\n",
       " 2.698400855064392,\n",
       " 2.693889617919922,\n",
       " 2.621085286140442,\n",
       " 2.7561753392219543,\n",
       " 2.6385107040405273,\n",
       " 2.7255635857582092,\n",
       " 2.6868411898612976,\n",
       " 2.6514633297920227,\n",
       " 2.568010628223419,\n",
       " 2.649876356124878,\n",
       " 2.626350224018097,\n",
       " 2.6706379652023315,\n",
       " 2.802727162837982,\n",
       " 2.583303153514862,\n",
       " 2.692884624004364,\n",
       " 2.647286057472229,\n",
       " 2.6986050605773926,\n",
       " 2.6493894457817078,\n",
       " 2.6750411987304688,\n",
       " 2.5987493991851807,\n",
       " 2.6408045291900635,\n",
       " 2.77689266204834,\n",
       " 2.6981839537620544,\n",
       " 2.5964578986167908,\n",
       " 2.7025408148765564,\n",
       " 2.758762240409851,\n",
       " 2.8223955631256104,\n",
       " 2.702359676361084,\n",
       " 2.678097426891327,\n",
       " 2.73540598154068,\n",
       " 2.645951747894287,\n",
       " 2.6346665620803833,\n",
       " 2.6648013591766357,\n",
       " 2.724789321422577,\n",
       " 2.635735034942627,\n",
       " 2.626630485057831,\n",
       " 2.6404078602790833,\n",
       " 2.6934548020362854,\n",
       " 2.6490787267684937,\n",
       " 2.5919748544692993,\n",
       " 2.6392917037010193,\n",
       " 2.739391505718231,\n",
       " 2.675075650215149,\n",
       " 2.682542324066162,\n",
       " 2.7787240147590637,\n",
       " 2.7492957711219788,\n",
       " 2.706636607646942,\n",
       " 2.8108453154563904,\n",
       " 2.7324960231781006,\n",
       " 2.629637658596039,\n",
       " 2.7900973558425903,\n",
       " 2.7319525480270386,\n",
       " 2.7284894585609436,\n",
       " 2.6787890791893005,\n",
       " 2.686405658721924,\n",
       " 2.8062134981155396,\n",
       " 2.7881767749786377,\n",
       " 2.8097708225250244,\n",
       " 2.650508463382721,\n",
       " 2.7431849241256714,\n",
       " 2.588085949420929,\n",
       " 2.7164719104766846,\n",
       " 2.6865458488464355,\n",
       " 2.7964680194854736,\n",
       " 2.649286389350891,\n",
       " 2.70824271440506,\n",
       " 2.60302472114563,\n",
       " 2.73387348651886,\n",
       " 2.5998926162719727,\n",
       " 2.7026853561401367,\n",
       " 2.6704041361808777,\n",
       " 2.7122488617897034,\n",
       " 2.7697864174842834,\n",
       " 2.7685903906822205,\n",
       " 2.7305358052253723,\n",
       " 2.693642795085907,\n",
       " 2.749540090560913,\n",
       " 2.7652933597564697,\n",
       " 2.730089843273163,\n",
       " 2.645640194416046,\n",
       " 2.7873501777648926,\n",
       " 2.748557925224304,\n",
       " 2.735928475856781,\n",
       " 2.6922923922538757,\n",
       " 2.7609744668006897,\n",
       " 2.7369574308395386,\n",
       " 2.704836130142212,\n",
       " 2.7754836082458496,\n",
       " 2.6863284707069397,\n",
       " 2.697386145591736,\n",
       " 2.7793399691581726,\n",
       " 2.7066022753715515,\n",
       " 2.649468183517456,\n",
       " 2.7196813821792603,\n",
       " 2.5902827978134155,\n",
       " 2.8294188380241394,\n",
       " 2.7344916462898254,\n",
       " 2.785328984260559,\n",
       " 2.7454620599746704,\n",
       " 2.8137857913970947,\n",
       " 2.6825440526008606,\n",
       " 2.703312397003174,\n",
       " 2.756438136100769,\n",
       " 2.6747003197669983,\n",
       " 2.7473244071006775,\n",
       " 2.655430853366852,\n",
       " 2.7598463892936707,\n",
       " 2.6813005208969116,\n",
       " 2.7460029125213623,\n",
       " 2.69319748878479,\n",
       " 2.732775866985321,\n",
       " 2.7346481680870056,\n",
       " 2.788812041282654,\n",
       " 2.7218220233917236,\n",
       " 2.7421802282333374,\n",
       " 2.659399449825287,\n",
       " 2.875663995742798,\n",
       " 2.648891031742096,\n",
       " 2.6548357009887695,\n",
       " 2.705100178718567,\n",
       " 2.7399465441703796,\n",
       " 2.7896435856819153,\n",
       " 2.754443407058716,\n",
       " 2.729227840900421,\n",
       " 2.858065962791443,\n",
       " 2.7339001893997192,\n",
       " 2.6503642797470093,\n",
       " 2.640292763710022,\n",
       " 2.6551707983016968,\n",
       " 2.6686285734176636,\n",
       " 2.7195554971694946,\n",
       " 2.725950002670288,\n",
       " 2.715386211872101,\n",
       " 2.64940869808197,\n",
       " 2.8046624660491943,\n",
       " 2.6808003783226013,\n",
       " 2.783722221851349,\n",
       " 2.730929911136627,\n",
       " 2.7446385622024536,\n",
       " 2.737232267856598,\n",
       " 2.660520017147064,\n",
       " 2.8626949787139893,\n",
       " 2.8208930492401123,\n",
       " 2.7492825388908386,\n",
       " 2.7549833059310913,\n",
       " 2.87252140045166,\n",
       " 2.782518208026886,\n",
       " 2.6690195202827454,\n",
       " 2.756536900997162,\n",
       " 2.766151785850525,\n",
       " 2.746294677257538,\n",
       " 2.713800311088562,\n",
       " 2.7699992060661316,\n",
       " 2.6697983741760254,\n",
       " 2.659414827823639,\n",
       " 2.6514957547187805,\n",
       " 2.7304804921150208,\n",
       " 2.7443352937698364,\n",
       " 2.8045677542686462,\n",
       " 2.783927321434021,\n",
       " 2.656765878200531,\n",
       " 2.6474332213401794,\n",
       " 2.820012092590332,\n",
       " 2.7515220642089844,\n",
       " 2.782370150089264,\n",
       " 2.822782874107361,\n",
       " 2.717910408973694,\n",
       " 2.6873698830604553,\n",
       " 2.7514789700508118,\n",
       " 2.802302658557892,\n",
       " 2.7076322436332703,\n",
       " 2.739182233810425,\n",
       " 2.784090578556061,\n",
       " 2.6771568059921265,\n",
       " 2.751947045326233,\n",
       " 2.7535495162010193,\n",
       " 2.694504201412201,\n",
       " 2.760731279850006,\n",
       " 2.7389813661575317,\n",
       " 2.7119752168655396,\n",
       " 2.7746042013168335,\n",
       " 2.847627639770508,\n",
       " 2.7164153456687927,\n",
       " 2.7055939435958862,\n",
       " 2.7185885310173035,\n",
       " 2.787040054798126,\n",
       " 2.7533038854599,\n",
       " 2.7640482783317566,\n",
       " 2.7345446944236755,\n",
       " 2.7665149569511414,\n",
       " 2.812576949596405,\n",
       " 2.7858977913856506,\n",
       " 2.7021061778068542,\n",
       " 2.7076523303985596,\n",
       " 2.717340111732483,\n",
       " 2.678829073905945,\n",
       " 2.79097318649292,\n",
       " 2.703118920326233,\n",
       " 2.773954391479492,\n",
       " 2.751726984977722,\n",
       " 2.7455424070358276,\n",
       " 2.8520021438598633,\n",
       " 2.7995142340660095,\n",
       " 2.816318988800049,\n",
       " 2.8362690210342407,\n",
       " 2.7370344400405884,\n",
       " 2.8466562628746033,\n",
       " 2.810284674167633,\n",
       " 2.7570184469223022,\n",
       " 2.7486648559570312,\n",
       " 2.783315360546112,\n",
       " 2.7606422305107117,\n",
       " 2.811197578907013,\n",
       " 2.754548132419586,\n",
       " 2.784287691116333,\n",
       " 2.8342986702919006,\n",
       " 2.791722357273102,\n",
       " 2.745666742324829,\n",
       " 2.7960102558135986,\n",
       " 2.7556384205818176,\n",
       " 2.8249154686927795,\n",
       " 2.7031017541885376,\n",
       " 2.7981045842170715,\n",
       " 2.921081304550171,\n",
       " 2.7000336050987244,\n",
       " 2.7090373039245605,\n",
       " 2.9906311631202698,\n",
       " 2.742390513420105,\n",
       " 2.777904748916626,\n",
       " 2.8219942450523376,\n",
       " 2.718058168888092,\n",
       " 2.776840627193451,\n",
       " 2.787164032459259,\n",
       " 2.712442100048065,\n",
       " 2.705434203147888,\n",
       " 2.791484832763672,\n",
       " 2.7863287329673767,\n",
       " 2.780968189239502,\n",
       " 2.827182352542877,\n",
       " 2.784531593322754,\n",
       " 2.752908408641815,\n",
       " 2.766129434108734,\n",
       " 2.6375885009765625,\n",
       " 2.71907776594162,\n",
       " 2.7214958667755127,\n",
       " 2.750559449195862,\n",
       " 2.767985463142395,\n",
       " 2.745299756526947,\n",
       " 2.7526273131370544,\n",
       " 2.6431155800819397,\n",
       " 2.741202175617218,\n",
       " 2.6981548070907593,\n",
       " 2.7936686873435974,\n",
       " 2.7380442023277283,\n",
       " 2.8017340302467346,\n",
       " 2.7676844000816345,\n",
       " 2.7610249519348145,\n",
       " 2.805636405944824,\n",
       " 2.6670219898223877,\n",
       " 2.727220356464386,\n",
       " 2.721684694290161,\n",
       " 2.87513530254364,\n",
       " 2.7796279788017273,\n",
       " 2.83015239238739,\n",
       " 2.834261178970337,\n",
       " 2.8264032006263733,\n",
       " 2.820550560951233,\n",
       " 2.77603679895401,\n",
       " 2.883862793445587,\n",
       " 2.8062047958374023,\n",
       " 2.7993710041046143,\n",
       " 2.806899070739746,\n",
       " 2.743339776992798,\n",
       " 2.8802743554115295,\n",
       " 2.757524847984314,\n",
       " 2.787458300590515,\n",
       " 2.7198180556297302,\n",
       " 2.842538297176361,\n",
       " 2.799747884273529,\n",
       " 2.7558066844940186,\n",
       " 2.7758390307426453,\n",
       " 2.8540120720863342,\n",
       " 2.660544991493225,\n",
       " 2.781768500804901,\n",
       " 2.7685099840164185,\n",
       " 2.7759016156196594,\n",
       " 2.805074453353882,\n",
       " 2.7768691778182983,\n",
       " 2.794979751110077]"
      ]
     },
     "execution_count": 30,
     "metadata": {},
     "output_type": "execute_result"
    }
   ],
   "source": [
    "average_mae_history"
   ]
  },
  {
   "cell_type": "markdown",
   "metadata": {},
   "source": [
    "## 검증 점수 그래프"
   ]
  },
  {
   "cell_type": "code",
   "execution_count": 31,
   "metadata": {},
   "outputs": [
    {
     "data": {
      "image/png": "[encoded data removed]",
      "text/plain": [
       "<Figure size 432x288 with 1 Axes>"
      ]
     },
     "metadata": {
      "needs_background": "light"
     },
     "output_type": "display_data"
    }
   ],
   "source": [
    "import matplotlib.pyplot as plt\n",
    "\n",
    "plt.plot(range(1, len(average_mae_history) + 1), average_mae_history)\n",
    "plt.xlabel('Epochs')\n",
    "plt.ylabel('Validation MAE')\n",
    "plt.show()"
   ]
  },
  {
   "cell_type": "markdown",
   "metadata": {},
   "source": [
    "이 그래프는 범위가 크고 변동이 심하기 때문에 보기 어렵다.\n",
    "- 곡선의 다른 부분과 스케일이 많이 다른 첫 10개의 데이터 포인트를 제외시킨다.\n",
    "- 부드러운 곡선을 얻기 위해 각 포인트를 이전 포인트의 **지수 이동 평균**으로 대체한다."
   ]
  },
  {
   "cell_type": "markdown",
   "metadata": {},
   "source": [
    "## 처음 10개의 데이터 포인트를 제외한 검증 점수 그리기"
   ]
  },
  {
   "cell_type": "code",
   "execution_count": 33,
   "metadata": {},
   "outputs": [],
   "source": [
    "def smooth_curve(points, factor=0.9):\n",
    "    smoothed_points = []\n",
    "    for point in points:\n",
    "        if smoothed_points:\n",
    "            previous = smoothed_points[-1]\n",
    "            smoothed_points.append(previous * factor + point * (1 - factor))\n",
    "        else:\n",
    "            smoothed_points.append(point)\n",
    "    return smoothed_points"
   ]
  },
  {
   "cell_type": "code",
   "execution_count": 34,
   "metadata": {},
   "outputs": [
    {
     "data": {
      "image/png": "[encoded data removed]",
      "text/plain": [
       "<Figure size 432x288 with 1 Axes>"
      ]
     },
     "metadata": {
      "needs_background": "light"
     },
     "output_type": "display_data"
    }
   ],
   "source": [
    "smooth_mae_history = smooth_curve(average_mae_history[10:])\n",
    "\n",
    "plt.plot(range(1, len(smooth_mae_history) + 1), smooth_mae_history)\n",
    "plt.xlabel('Epochs')\n",
    "plt.ylabel('Validation MAE')\n",
    "plt.show()"
   ]
  },
  {
   "cell_type": "markdown",
   "metadata": {},
   "source": [
    "#### 80번째 에포크 이후에 줄어드는 것이 멈추었다."
   ]
  },
  {
   "cell_type": "markdown",
   "metadata": {},
   "source": [
    "## 최종 모델 훈련하기"
   ]
  },
  {
   "cell_type": "code",
   "execution_count": 37,
   "metadata": {},
   "outputs": [
    {
     "name": "stdout",
     "output_type": "stream",
     "text": [
      "4/4 [==============================] - 0s 1ms/step - loss: 17.3823 - mae: 2.6092\n"
     ]
    }
   ],
   "source": [
    "model = build_model()\n",
    "model.fit(train_data, train_targets, epochs=80, batch_size=16, verbose=0) # 전체 데이터로 훈련\n",
    "test_mse_socre, test_mae_score = model.evaluate(test_data, test_targets)"
   ]
  },
  {
   "cell_type": "code",
   "execution_count": 38,
   "metadata": {},
   "outputs": [
    {
     "data": {
      "text/plain": [
       "2.6091697216033936"
      ]
     },
     "execution_count": 38,
     "metadata": {},
     "output_type": "execute_result"
    }
   ],
   "source": [
    "test_mae_score"
   ]
  },
  {
   "cell_type": "code",
   "execution_count": null,
   "metadata": {},
   "outputs": [],
   "source": []
  }
 ],
 "metadata": {
  "kernelspec": {
   "display_name": "Python 3",
   "language": "python",
   "name": "python3"
  },
  "language_info": {
   "codemirror_mode": {
    "name": "ipython",
    "version": 3
   },
   "file_extension": ".py",
   "mimetype": "text/x-python",
   "name": "python",
   "nbconvert_exporter": "python",
   "pygments_lexer": "ipython3",
   "version": "3.8.3"
  }
 },
 "nbformat": 4,
 "nbformat_minor": 4
}
