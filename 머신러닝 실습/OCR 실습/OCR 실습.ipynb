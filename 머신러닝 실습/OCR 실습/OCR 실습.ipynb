{
 "cells": [
  {
   "cell_type": "code",
   "execution_count": 1,
   "metadata": {},
   "outputs": [],
   "source": [
    "import json\n",
    "\n",
    "import cv2\n",
    "import requests\n",
    "import sys\n",
    "\n",
    "LIMIT_PX = 1024\n",
    "LIMIT_BYTE = 1024*1024  # 1MB\n",
    "LIMIT_BOX = 40"
   ]
  },
  {
   "cell_type": "code",
   "execution_count": 2,
   "metadata": {},
   "outputs": [],
   "source": [
    "def kakao_ocr_resize(image_path: str):\n",
    "    \"\"\"\n",
    "    ocr detect/recognize api helper\n",
    "    ocr api의 제약사항이 넘어서는 이미지는 요청 이전에 전처리가 필요.\n",
    "\n",
    "    pixel 제약사항 초과: resize\n",
    "    용량 제약사항 초과  : 다른 포맷으로 압축, 이미지 분할 등의 처리 필요. (예제에서 제공하지 않음)\n",
    "\n",
    "    :param image_path: 이미지파일 경로\n",
    "    :return:\n",
    "    \"\"\"\n",
    "    image = cv2.imread(image_path)\n",
    "    height, width, _ = image.shape\n",
    "\n",
    "    if LIMIT_PX < height or LIMIT_PX < width:\n",
    "        ratio = float(LIMIT_PX) / max(height, width)\n",
    "        image = cv2.resize(image, None, fx=ratio, fy=ratio)\n",
    "        height, width, _ = height, width, _ = image.shape\n",
    "\n",
    "        # api 사용전에 이미지가 resize된 경우, recognize시 resize된 결과를 사용해야함.\n",
    "        image_path = \"{}_resized.jpg\".format(image_path)\n",
    "        cv2.imwrite(image_path, image)\n",
    "\n",
    "        return image_path\n",
    "    return None"
   ]
  },
  {
   "cell_type": "code",
   "execution_count": 3,
   "metadata": {},
   "outputs": [],
   "source": [
    "def kakao_ocr(image_path: str, appkey: str):\n",
    "    \"\"\"\n",
    "    OCR api request example\n",
    "    :param image_path: 이미지파일 경로\n",
    "    :param appkey: 카카오 앱 REST API 키\n",
    "    \"\"\"\n",
    "    API_URL = 'https://dapi.kakao.com/v2/vision/text/ocr'\n",
    "\n",
    "    headers = {'Authorization': 'KakaoAK {}'.format(appkey)}\n",
    "\n",
    "    image = cv2.imread(image_path)\n",
    "    jpeg_image = cv2.imencode(\".jpg\", image)[1]\n",
    "    data = jpeg_image.tobytes()\n",
    "\n",
    "\n",
    "    return requests.post(API_URL, headers=headers, files={\"image\": data})"
   ]
  },
  {
   "cell_type": "code",
   "execution_count": 4,
   "metadata": {},
   "outputs": [],
   "source": [
    "def main():\n",
    "    if len(sys.argv) != 3:\n",
    "        print(\"Please run with args: $ python example.py /path/to/image appkey\")\n",
    "    image_path, appkey = sys.argv[1], sys.argv[2]\n",
    "\n",
    "    resize_impath = kakao_ocr_resize(image_path)\n",
    "    if resize_impath is not None:\n",
    "        image_path = resize_impath\n",
    "        print(\"원본 대신 리사이즈된 이미지를 사용합니다.\")\n",
    "\n",
    "    output = kakao_ocr(image_path, appkey).json()\n",
    "    print(\"[OCR] output:\\n{}\\n\".format(json.dumps(output, sort_keys=True, indent=2)))"
   ]
  },
  {
   "cell_type": "code",
   "execution_count": 6,
   "metadata": {},
   "outputs": [],
   "source": [
    "# if __name__ == \"__main__\":\n",
    "#     main()"
   ]
  },
  {
   "cell_type": "code",
   "execution_count": 7,
   "metadata": {},
   "outputs": [
    {
     "data": {
      "text/plain": [
       "['C:\\\\ProgramData\\\\Anaconda3\\\\lib\\\\site-packages\\\\ipykernel_launcher.py',\n",
       " '-f',\n",
       " 'C:\\\\Users\\\\multicampus\\\\AppData\\\\Roaming\\\\jupyter\\\\runtime\\\\kernel-036321f1-c0cd-450a-80f3-13ef02b58795.json']"
      ]
     },
     "execution_count": 7,
     "metadata": {},
     "output_type": "execute_result"
    }
   ],
   "source": [
    "sys.argv"
   ]
  },
  {
   "cell_type": "code",
   "execution_count": null,
   "metadata": {},
   "outputs": [],
   "source": []
  }
 ],
 "metadata": {
  "kernelspec": {
   "display_name": "Python 3",
   "language": "python",
   "name": "python3"
  },
  "language_info": {
   "codemirror_mode": {
    "name": "ipython",
    "version": 3
   },
   "file_extension": ".py",
   "mimetype": "text/x-python",
   "name": "python",
   "nbconvert_exporter": "python",
   "pygments_lexer": "ipython3",
   "version": "3.8.3"
  }
 },
 "nbformat": 4,
 "nbformat_minor": 4
}
