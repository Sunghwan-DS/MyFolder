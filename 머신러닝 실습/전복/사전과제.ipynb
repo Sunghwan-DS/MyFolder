{
 "cells": [
  {
   "cell_type": "markdown",
   "metadata": {},
   "source": [
    "# HR Data Analytics Internship 개인 과제"
   ]
  },
  {
   "cell_type": "markdown",
   "metadata": {},
   "source": [
    "## 전복의 physical 특징을 기반으로 나이를 예측"
   ]
  },
  {
   "cell_type": "markdown",
   "metadata": {},
   "source": [
    "### 데이터 특성"
   ]
  },
  {
   "cell_type": "markdown",
   "metadata": {},
   "source": [
    "|구분|단위|상세설명|\n",
    "|------|---|---|\n",
    "|성별|-|M: male, F: female, I: infant|\n",
    "|길이|inch|전복의 가장 긴 단면길이|\n",
    "|지름|inch|전복의 가장 짧은 단면길이|\n",
    "|높이|inch|전복의 높이|\n",
    "|총무게|lb|전복 전체의 무게|\n",
    "|속살무게|lb|전복 속살의 무게|\n",
    "|내장무게|lb|전복 내장의 무게|\n",
    "|나이|years|전복의 나이|"
   ]
  },
  {
   "cell_type": "markdown",
   "metadata": {},
   "source": [
    "### 데이터 불러오기"
   ]
  },
  {
   "cell_type": "code",
   "execution_count": 1,
   "metadata": {},
   "outputs": [],
   "source": [
    "import pandas as pd"
   ]
  },
  {
   "cell_type": "code",
   "execution_count": 20,
   "metadata": {},
   "outputs": [
    {
     "data": {
      "text/html": [
       "<div>\n",
       "<style scoped>\n",
       "    .dataframe tbody tr th:only-of-type {\n",
       "        vertical-align: middle;\n",
       "    }\n",
       "\n",
       "    .dataframe tbody tr th {\n",
       "        vertical-align: top;\n",
       "    }\n",
       "\n",
       "    .dataframe thead th {\n",
       "        text-align: right;\n",
       "    }\n",
       "</style>\n",
       "<table border=\"1\" class=\"dataframe\">\n",
       "  <thead>\n",
       "    <tr style=\"text-align: right;\">\n",
       "      <th></th>\n",
       "      <th>성별</th>\n",
       "      <th>길이</th>\n",
       "      <th>지름</th>\n",
       "      <th>높이</th>\n",
       "      <th>총무게</th>\n",
       "      <th>속살무게</th>\n",
       "      <th>내장무게</th>\n",
       "      <th>나이</th>\n",
       "    </tr>\n",
       "  </thead>\n",
       "  <tbody>\n",
       "    <tr>\n",
       "      <th>0</th>\n",
       "      <td>M</td>\n",
       "      <td>4.55</td>\n",
       "      <td>3.65</td>\n",
       "      <td>0.95</td>\n",
       "      <td>0.5140</td>\n",
       "      <td>0.2245</td>\n",
       "      <td>0.1010</td>\n",
       "      <td>15</td>\n",
       "    </tr>\n",
       "    <tr>\n",
       "      <th>1</th>\n",
       "      <td>M</td>\n",
       "      <td>3.50</td>\n",
       "      <td>2.65</td>\n",
       "      <td>0.90</td>\n",
       "      <td>0.2255</td>\n",
       "      <td>0.0995</td>\n",
       "      <td>0.0485</td>\n",
       "      <td>7</td>\n",
       "    </tr>\n",
       "    <tr>\n",
       "      <th>2</th>\n",
       "      <td>F</td>\n",
       "      <td>5.30</td>\n",
       "      <td>4.20</td>\n",
       "      <td>1.35</td>\n",
       "      <td>0.6770</td>\n",
       "      <td>0.2565</td>\n",
       "      <td>0.1415</td>\n",
       "      <td>9</td>\n",
       "    </tr>\n",
       "    <tr>\n",
       "      <th>3</th>\n",
       "      <td>M</td>\n",
       "      <td>4.40</td>\n",
       "      <td>3.65</td>\n",
       "      <td>1.25</td>\n",
       "      <td>0.5160</td>\n",
       "      <td>0.2155</td>\n",
       "      <td>0.1140</td>\n",
       "      <td>10</td>\n",
       "    </tr>\n",
       "    <tr>\n",
       "      <th>4</th>\n",
       "      <td>I</td>\n",
       "      <td>3.30</td>\n",
       "      <td>2.55</td>\n",
       "      <td>0.80</td>\n",
       "      <td>0.2050</td>\n",
       "      <td>0.0895</td>\n",
       "      <td>0.0395</td>\n",
       "      <td>7</td>\n",
       "    </tr>\n",
       "    <tr>\n",
       "      <th>...</th>\n",
       "      <td>...</td>\n",
       "      <td>...</td>\n",
       "      <td>...</td>\n",
       "      <td>...</td>\n",
       "      <td>...</td>\n",
       "      <td>...</td>\n",
       "      <td>...</td>\n",
       "      <td>...</td>\n",
       "    </tr>\n",
       "    <tr>\n",
       "      <th>4172</th>\n",
       "      <td>F</td>\n",
       "      <td>5.65</td>\n",
       "      <td>4.50</td>\n",
       "      <td>1.65</td>\n",
       "      <td>0.8870</td>\n",
       "      <td>0.3700</td>\n",
       "      <td>0.2390</td>\n",
       "      <td>11</td>\n",
       "    </tr>\n",
       "    <tr>\n",
       "      <th>4173</th>\n",
       "      <td>M</td>\n",
       "      <td>5.90</td>\n",
       "      <td>4.40</td>\n",
       "      <td>1.35</td>\n",
       "      <td>0.9660</td>\n",
       "      <td>0.4390</td>\n",
       "      <td>0.2145</td>\n",
       "      <td>10</td>\n",
       "    </tr>\n",
       "    <tr>\n",
       "      <th>4174</th>\n",
       "      <td>M</td>\n",
       "      <td>6.00</td>\n",
       "      <td>4.75</td>\n",
       "      <td>2.05</td>\n",
       "      <td>1.1760</td>\n",
       "      <td>0.5255</td>\n",
       "      <td>0.2875</td>\n",
       "      <td>9</td>\n",
       "    </tr>\n",
       "    <tr>\n",
       "      <th>4175</th>\n",
       "      <td>F</td>\n",
       "      <td>6.25</td>\n",
       "      <td>4.85</td>\n",
       "      <td>1.50</td>\n",
       "      <td>1.0945</td>\n",
       "      <td>0.5310</td>\n",
       "      <td>0.2610</td>\n",
       "      <td>10</td>\n",
       "    </tr>\n",
       "    <tr>\n",
       "      <th>4176</th>\n",
       "      <td>M</td>\n",
       "      <td>7.10</td>\n",
       "      <td>5.55</td>\n",
       "      <td>1.95</td>\n",
       "      <td>1.9485</td>\n",
       "      <td>0.9455</td>\n",
       "      <td>0.3765</td>\n",
       "      <td>12</td>\n",
       "    </tr>\n",
       "  </tbody>\n",
       "</table>\n",
       "<p>4177 rows × 8 columns</p>\n",
       "</div>"
      ],
      "text/plain": [
       "     성별    길이    지름    높이     총무게    속살무게    내장무게  나이\n",
       "0     M  4.55  3.65  0.95  0.5140  0.2245  0.1010  15\n",
       "1     M  3.50  2.65  0.90  0.2255  0.0995  0.0485   7\n",
       "2     F  5.30  4.20  1.35  0.6770  0.2565  0.1415   9\n",
       "3     M  4.40  3.65  1.25  0.5160  0.2155  0.1140  10\n",
       "4     I  3.30  2.55  0.80  0.2050  0.0895  0.0395   7\n",
       "...  ..   ...   ...   ...     ...     ...     ...  ..\n",
       "4172  F  5.65  4.50  1.65  0.8870  0.3700  0.2390  11\n",
       "4173  M  5.90  4.40  1.35  0.9660  0.4390  0.2145  10\n",
       "4174  M  6.00  4.75  2.05  1.1760  0.5255  0.2875   9\n",
       "4175  F  6.25  4.85  1.50  1.0945  0.5310  0.2610  10\n",
       "4176  M  7.10  5.55  1.95  1.9485  0.9455  0.3765  12\n",
       "\n",
       "[4177 rows x 8 columns]"
      ]
     },
     "execution_count": 20,
     "metadata": {},
     "output_type": "execute_result"
    }
   ],
   "source": [
    "data = pd.read_excel(\"2020 HR Data Analytics 데이터 (사후과제시 열람).xlsx\", sheet_name = 1, columns=['성별', '길이', '지름', '높이', '총무게', '속살무게', '내장무게', '나이'])\n",
    "data = data.drop(\"ID\", axis=1)\n",
    "data"
   ]
  },
  {
   "cell_type": "markdown",
   "metadata": {},
   "source": [
    "### 데이터 전처리 (정규화)"
   ]
  },
  {
   "cell_type": "markdown",
   "metadata": {},
   "source": [
    "> 데이터가 가진 feature의 스케일이 차이가 나기 때문에 정규화가 필요하다."
   ]
  },
  {
   "cell_type": "code",
   "execution_count": 21,
   "metadata": {},
   "outputs": [],
   "source": [
    "import numpy as np"
   ]
  },
  {
   "cell_type": "markdown",
   "metadata": {},
   "source": [
    "#### 성별 정규화"
   ]
  },
  {
   "cell_type": "code",
   "execution_count": 22,
   "metadata": {},
   "outputs": [],
   "source": [
    "data.loc[data['성별'] == 'M', '성별'] = 1\n",
    "data.loc[data['성별'] == 'F', '성별'] = 0.5\n",
    "data.loc[data['성별'] == 'I', '성별'] = 0"
   ]
  },
  {
   "cell_type": "code",
   "execution_count": 23,
   "metadata": {},
   "outputs": [
    {
     "data": {
      "text/html": [
       "<div>\n",
       "<style scoped>\n",
       "    .dataframe tbody tr th:only-of-type {\n",
       "        vertical-align: middle;\n",
       "    }\n",
       "\n",
       "    .dataframe tbody tr th {\n",
       "        vertical-align: top;\n",
       "    }\n",
       "\n",
       "    .dataframe thead th {\n",
       "        text-align: right;\n",
       "    }\n",
       "</style>\n",
       "<table border=\"1\" class=\"dataframe\">\n",
       "  <thead>\n",
       "    <tr style=\"text-align: right;\">\n",
       "      <th></th>\n",
       "      <th>성별</th>\n",
       "      <th>길이</th>\n",
       "      <th>지름</th>\n",
       "      <th>높이</th>\n",
       "      <th>총무게</th>\n",
       "      <th>속살무게</th>\n",
       "      <th>내장무게</th>\n",
       "      <th>나이</th>\n",
       "    </tr>\n",
       "  </thead>\n",
       "  <tbody>\n",
       "    <tr>\n",
       "      <th>0</th>\n",
       "      <td>1</td>\n",
       "      <td>4.55</td>\n",
       "      <td>3.65</td>\n",
       "      <td>0.95</td>\n",
       "      <td>0.5140</td>\n",
       "      <td>0.2245</td>\n",
       "      <td>0.1010</td>\n",
       "      <td>15</td>\n",
       "    </tr>\n",
       "    <tr>\n",
       "      <th>1</th>\n",
       "      <td>1</td>\n",
       "      <td>3.50</td>\n",
       "      <td>2.65</td>\n",
       "      <td>0.90</td>\n",
       "      <td>0.2255</td>\n",
       "      <td>0.0995</td>\n",
       "      <td>0.0485</td>\n",
       "      <td>7</td>\n",
       "    </tr>\n",
       "    <tr>\n",
       "      <th>2</th>\n",
       "      <td>0.5</td>\n",
       "      <td>5.30</td>\n",
       "      <td>4.20</td>\n",
       "      <td>1.35</td>\n",
       "      <td>0.6770</td>\n",
       "      <td>0.2565</td>\n",
       "      <td>0.1415</td>\n",
       "      <td>9</td>\n",
       "    </tr>\n",
       "    <tr>\n",
       "      <th>3</th>\n",
       "      <td>1</td>\n",
       "      <td>4.40</td>\n",
       "      <td>3.65</td>\n",
       "      <td>1.25</td>\n",
       "      <td>0.5160</td>\n",
       "      <td>0.2155</td>\n",
       "      <td>0.1140</td>\n",
       "      <td>10</td>\n",
       "    </tr>\n",
       "    <tr>\n",
       "      <th>4</th>\n",
       "      <td>0</td>\n",
       "      <td>3.30</td>\n",
       "      <td>2.55</td>\n",
       "      <td>0.80</td>\n",
       "      <td>0.2050</td>\n",
       "      <td>0.0895</td>\n",
       "      <td>0.0395</td>\n",
       "      <td>7</td>\n",
       "    </tr>\n",
       "  </tbody>\n",
       "</table>\n",
       "</div>"
      ],
      "text/plain": [
       "    성별    길이    지름    높이     총무게    속살무게    내장무게  나이\n",
       "0    1  4.55  3.65  0.95  0.5140  0.2245  0.1010  15\n",
       "1    1  3.50  2.65  0.90  0.2255  0.0995  0.0485   7\n",
       "2  0.5  5.30  4.20  1.35  0.6770  0.2565  0.1415   9\n",
       "3    1  4.40  3.65  1.25  0.5160  0.2155  0.1140  10\n",
       "4    0  3.30  2.55  0.80  0.2050  0.0895  0.0395   7"
      ]
     },
     "execution_count": 23,
     "metadata": {},
     "output_type": "execute_result"
    }
   ],
   "source": [
    "data.head(5)"
   ]
  },
  {
   "cell_type": "markdown",
   "metadata": {},
   "source": [
    "#### 길이, 지름, 높이, 총무게, 속살무게, 내장무게"
   ]
  },
  {
   "cell_type": "markdown",
   "metadata": {},
   "source": [
    "첫 번째 방법, Min-Max Normalization"
   ]
  },
  {
   "cell_type": "code",
   "execution_count": 24,
   "metadata": {},
   "outputs": [],
   "source": [
    "data[\"길이\"] = (data[\"길이\"] - min(data[\"길이\"])) / (max(data[\"길이\"]) - min(data[\"길이\"]))\n",
    "data[\"지름\"] = (data[\"지름\"] - min(data[\"지름\"])) / (max(data[\"지름\"]) - min(data[\"지름\"]))\n",
    "data[\"높이\"] = (data[\"높이\"] - min(data[\"높이\"])) / (max(data[\"높이\"]) - min(data[\"높이\"]))\n",
    "data[\"총무게\"] = (data[\"총무게\"] - min(data[\"총무게\"])) / (max(data[\"총무게\"]) - min(data[\"총무게\"]))\n",
    "data[\"속살무게\"] = (data[\"속살무게\"] - min(data[\"속살무게\"])) / (max(data[\"속살무게\"]) - min(data[\"속살무게\"]))\n",
    "data[\"내장무게\"] = (data[\"내장무게\"] - min(data[\"내장무게\"])) / (max(data[\"내장무게\"]) - min(data[\"내장무게\"]))"
   ]
  },
  {
   "cell_type": "code",
   "execution_count": 25,
   "metadata": {},
   "outputs": [
    {
     "data": {
      "text/html": [
       "<div>\n",
       "<style scoped>\n",
       "    .dataframe tbody tr th:only-of-type {\n",
       "        vertical-align: middle;\n",
       "    }\n",
       "\n",
       "    .dataframe tbody tr th {\n",
       "        vertical-align: top;\n",
       "    }\n",
       "\n",
       "    .dataframe thead th {\n",
       "        text-align: right;\n",
       "    }\n",
       "</style>\n",
       "<table border=\"1\" class=\"dataframe\">\n",
       "  <thead>\n",
       "    <tr style=\"text-align: right;\">\n",
       "      <th></th>\n",
       "      <th>성별</th>\n",
       "      <th>길이</th>\n",
       "      <th>지름</th>\n",
       "      <th>높이</th>\n",
       "      <th>총무게</th>\n",
       "      <th>속살무게</th>\n",
       "      <th>내장무게</th>\n",
       "      <th>나이</th>\n",
       "    </tr>\n",
       "  </thead>\n",
       "  <tbody>\n",
       "    <tr>\n",
       "      <th>0</th>\n",
       "      <td>1</td>\n",
       "      <td>0.513514</td>\n",
       "      <td>0.050832</td>\n",
       "      <td>0.278689</td>\n",
       "      <td>0.181335</td>\n",
       "      <td>0.150303</td>\n",
       "      <td>0.132324</td>\n",
       "      <td>15</td>\n",
       "    </tr>\n",
       "    <tr>\n",
       "      <th>1</th>\n",
       "      <td>1</td>\n",
       "      <td>0.371622</td>\n",
       "      <td>0.032348</td>\n",
       "      <td>0.262295</td>\n",
       "      <td>0.079157</td>\n",
       "      <td>0.066241</td>\n",
       "      <td>0.063199</td>\n",
       "      <td>7</td>\n",
       "    </tr>\n",
       "    <tr>\n",
       "      <th>2</th>\n",
       "      <td>0.5</td>\n",
       "      <td>0.614865</td>\n",
       "      <td>0.060998</td>\n",
       "      <td>0.409836</td>\n",
       "      <td>0.239065</td>\n",
       "      <td>0.171822</td>\n",
       "      <td>0.185648</td>\n",
       "      <td>9</td>\n",
       "    </tr>\n",
       "    <tr>\n",
       "      <th>3</th>\n",
       "      <td>1</td>\n",
       "      <td>0.493243</td>\n",
       "      <td>0.050832</td>\n",
       "      <td>0.377049</td>\n",
       "      <td>0.182044</td>\n",
       "      <td>0.144250</td>\n",
       "      <td>0.149440</td>\n",
       "      <td>10</td>\n",
       "    </tr>\n",
       "    <tr>\n",
       "      <th>4</th>\n",
       "      <td>0</td>\n",
       "      <td>0.344595</td>\n",
       "      <td>0.030499</td>\n",
       "      <td>0.229508</td>\n",
       "      <td>0.071897</td>\n",
       "      <td>0.059516</td>\n",
       "      <td>0.051350</td>\n",
       "      <td>7</td>\n",
       "    </tr>\n",
       "  </tbody>\n",
       "</table>\n",
       "</div>"
      ],
      "text/plain": [
       "    성별        길이        지름        높이       총무게      속살무게      내장무게  나이\n",
       "0    1  0.513514  0.050832  0.278689  0.181335  0.150303  0.132324  15\n",
       "1    1  0.371622  0.032348  0.262295  0.079157  0.066241  0.063199   7\n",
       "2  0.5  0.614865  0.060998  0.409836  0.239065  0.171822  0.185648   9\n",
       "3    1  0.493243  0.050832  0.377049  0.182044  0.144250  0.149440  10\n",
       "4    0  0.344595  0.030499  0.229508  0.071897  0.059516  0.051350   7"
      ]
     },
     "execution_count": 25,
     "metadata": {},
     "output_type": "execute_result"
    }
   ],
   "source": [
    "data.head(5)"
   ]
  },
  {
   "cell_type": "markdown",
   "metadata": {},
   "source": [
    "### 훈련데이터와 검증데이터 분류"
   ]
  },
  {
   "cell_type": "markdown",
   "metadata": {},
   "source": [
    "전처리된 데이터 중 일부는 모델을 훈련시킬 train_x와 train_y로 분류합니다.\n",
    "\n",
    "나머지 데이터는 정확도를 검증할 test_x, text_y로 분류합니다\n",
    "\n",
    "훈련데이터와 검증데이터의 비율은 7:3 으로 하였습니다."
   ]
  },
  {
   "cell_type": "code",
   "execution_count": 26,
   "metadata": {},
   "outputs": [
    {
     "data": {
      "text/plain": [
       "2923.8999999999996"
      ]
     },
     "execution_count": 26,
     "metadata": {},
     "output_type": "execute_result"
    }
   ],
   "source": [
    "4177 * 0.7"
   ]
  },
  {
   "cell_type": "code",
   "execution_count": 27,
   "metadata": {},
   "outputs": [],
   "source": [
    "x_train = data[:2923]\n",
    "del x_train[\"나이\"]\n",
    "x_train = x_train.to_numpy()\n",
    "y_train = data[:2923][[\"나이\"]].to_numpy()"
   ]
  },
  {
   "cell_type": "code",
   "execution_count": 28,
   "metadata": {},
   "outputs": [],
   "source": [
    "x_test = data[2923:]\n",
    "del x_test[\"나이\"]\n",
    "x_test = x_test.to_numpy()\n",
    "y_test = data[2923:][[\"나이\"]].to_numpy()"
   ]
  },
  {
   "cell_type": "markdown",
   "metadata": {},
   "source": [
    "### 모델 생성"
   ]
  },
  {
   "cell_type": "markdown",
   "metadata": {},
   "source": [
    "#### Decision Tree"
   ]
  },
  {
   "cell_type": "code",
   "execution_count": 29,
   "metadata": {},
   "outputs": [],
   "source": [
    "from sklearn.tree import DecisionTreeRegressor"
   ]
  },
  {
   "cell_type": "code",
   "execution_count": 30,
   "metadata": {},
   "outputs": [],
   "source": [
    "dt_model = DecisionTreeRegressor(random_state=1)"
   ]
  },
  {
   "cell_type": "code",
   "execution_count": 31,
   "metadata": {},
   "outputs": [
    {
     "data": {
      "text/plain": [
       "DecisionTreeRegressor(random_state=1)"
      ]
     },
     "execution_count": 31,
     "metadata": {},
     "output_type": "execute_result"
    }
   ],
   "source": [
    "dt_model.fit(x_train, y_train)"
   ]
  },
  {
   "cell_type": "markdown",
   "metadata": {},
   "source": [
    "#### Model Validation"
   ]
  },
  {
   "cell_type": "code",
   "execution_count": 32,
   "metadata": {},
   "outputs": [],
   "source": [
    "from sklearn.metrics import mean_absolute_error"
   ]
  },
  {
   "cell_type": "code",
   "execution_count": 34,
   "metadata": {
    "scrolled": true
   },
   "outputs": [
    {
     "data": {
      "text/plain": [
       "2.1251993620414673"
      ]
     },
     "execution_count": 34,
     "metadata": {},
     "output_type": "execute_result"
    }
   ],
   "source": [
    "predicted_ages = dt_model.predict(x_test)\n",
    "mean_absolute_error(y_test, predicted_ages)"
   ]
  },
  {
   "cell_type": "markdown",
   "metadata": {},
   "source": [
    "#### Compare Different Tree Sizes"
   ]
  },
  {
   "cell_type": "code",
   "execution_count": 35,
   "metadata": {},
   "outputs": [],
   "source": [
    "def get_mae(max_leaf_nodes, x_train, x_test, y_train, y_test):\n",
    "    model = DecisionTreeRegressor(max_leaf_nodes=max_leaf_nodes, random_state=0)\n",
    "    model.fit(x_train, y_train)\n",
    "    preds_val = model.predict(x_test)\n",
    "    mae = mean_absolute_error(y_test, preds_val)\n",
    "    return(mae)"
   ]
  },
  {
   "cell_type": "code",
   "execution_count": 38,
   "metadata": {},
   "outputs": [
    {
     "name": "stdout",
     "output_type": "stream",
     "text": [
      "1.7080663871881563\n",
      "1.5789745300298699\n",
      "1.5929975410350548\n",
      "1.692747621590008\n",
      "1.8132810801009511\n",
      "1.9587343437733253\n",
      "best_tree_size = 25\n"
     ]
    }
   ],
   "source": [
    "candidate_max_leaf_nodes = [5, 25, 50, 100, 250, 500]\n",
    "ans = 0\n",
    "res_min = 10000000\n",
    "for max_leaf_nodes in candidate_max_leaf_nodes:\n",
    "    res = get_mae(max_leaf_nodes, x_train, x_test, y_train, y_test)\n",
    "    print(res)\n",
    "    if res_min > res:\n",
    "        res_min = res\n",
    "        ans = max_leaf_nodes\n",
    "\n",
    "print(\"best_tree_size =\", ans)"
   ]
  },
  {
   "cell_type": "code",
   "execution_count": 39,
   "metadata": {},
   "outputs": [
    {
     "name": "stdout",
     "output_type": "stream",
     "text": [
      "score: 0.09106368668423914\n"
     ]
    }
   ],
   "source": [
    "my_dt_model = DecisionTreeRegressor(max_leaf_nodes=250, random_state=0)\n",
    "my_dt_model.fit(x_train, y_train)\n",
    "score = my_dt_model.score(x_test, y_test)\n",
    "print('score:', score)"
   ]
  },
  {
   "cell_type": "markdown",
   "metadata": {},
   "source": [
    "#### Random Forests"
   ]
  },
  {
   "cell_type": "code",
   "execution_count": 40,
   "metadata": {},
   "outputs": [],
   "source": [
    "from sklearn.ensemble import RandomForestRegressor"
   ]
  },
  {
   "cell_type": "code",
   "execution_count": 41,
   "metadata": {},
   "outputs": [],
   "source": [
    "rf_model = RandomForestRegressor(random_state=1)"
   ]
  },
  {
   "cell_type": "code",
   "execution_count": 42,
   "metadata": {},
   "outputs": [
    {
     "data": {
      "text/plain": [
       "RandomForestRegressor(random_state=1)"
      ]
     },
     "execution_count": 42,
     "metadata": {},
     "output_type": "execute_result"
    }
   ],
   "source": [
    "rf_model.fit(x_train, y_train.ravel())"
   ]
  },
  {
   "cell_type": "code",
   "execution_count": 43,
   "metadata": {},
   "outputs": [],
   "source": [
    "# rf_val_mae = mean_absolute_error(rf_model.predict(val_X), val_y)"
   ]
  },
  {
   "cell_type": "markdown",
   "metadata": {},
   "source": [
    "### 딥러닝"
   ]
  },
  {
   "cell_type": "code",
   "execution_count": 44,
   "metadata": {},
   "outputs": [],
   "source": [
    "from keras.layers import Dense, Dropout, Activation\n",
    "from keras.models import Sequential"
   ]
  },
  {
   "cell_type": "code",
   "execution_count": 84,
   "metadata": {},
   "outputs": [
    {
     "name": "stdout",
     "output_type": "stream",
     "text": [
      "Model: \"sequential_3\"\n",
      "_________________________________________________________________\n",
      "Layer (type)                 Output Shape              Param #   \n",
      "=================================================================\n",
      "dense_9 (Dense)              (None, 512)               4096      \n",
      "_________________________________________________________________\n",
      "activation_9 (Activation)    (None, 512)               0         \n",
      "_________________________________________________________________\n",
      "dropout_6 (Dropout)          (None, 512)               0         \n",
      "_________________________________________________________________\n",
      "dense_10 (Dense)             (None, 512)               262656    \n",
      "_________________________________________________________________\n",
      "activation_10 (Activation)   (None, 512)               0         \n",
      "_________________________________________________________________\n",
      "dropout_7 (Dropout)          (None, 512)               0         \n",
      "_________________________________________________________________\n",
      "dense_11 (Dense)             (None, 1)                 513       \n",
      "_________________________________________________________________\n",
      "activation_11 (Activation)   (None, 1)                 0         \n",
      "=================================================================\n",
      "Total params: 267,265\n",
      "Trainable params: 267,265\n",
      "Non-trainable params: 0\n",
      "_________________________________________________________________\n"
     ]
    }
   ],
   "source": [
    "model = Sequential()\n",
    "model.add(Dense(512, input_dim=7))\n",
    "model.add(Activation('relu'))\n",
    "model.add(Dropout(0.1))\n",
    "model.add(Dense(512))\n",
    "model.add(Activation('relu'))\n",
    "model.add(Dropout(0.1))\n",
    "model.add(Dense(1))\n",
    "model.add(Activation('relu'))\n",
    "model.compile('adam', 'mean_squared_error', metrics=['accuracy'])\n",
    "\n",
    "model.summary()"
   ]
  },
  {
   "cell_type": "markdown",
   "metadata": {},
   "source": [
    "#### 모델 fitting"
   ]
  },
  {
   "cell_type": "code",
   "execution_count": 85,
   "metadata": {},
   "outputs": [
    {
     "data": {
      "text/html": [
       "<div>\n",
       "<style scoped>\n",
       "    .dataframe tbody tr th:only-of-type {\n",
       "        vertical-align: middle;\n",
       "    }\n",
       "\n",
       "    .dataframe tbody tr th {\n",
       "        vertical-align: top;\n",
       "    }\n",
       "\n",
       "    .dataframe thead th {\n",
       "        text-align: right;\n",
       "    }\n",
       "</style>\n",
       "<table border=\"1\" class=\"dataframe\">\n",
       "  <thead>\n",
       "    <tr style=\"text-align: right;\">\n",
       "      <th></th>\n",
       "      <th>성별</th>\n",
       "      <th>길이</th>\n",
       "      <th>지름</th>\n",
       "      <th>높이</th>\n",
       "      <th>총무게</th>\n",
       "      <th>속살무게</th>\n",
       "      <th>내장무게</th>\n",
       "      <th>나이</th>\n",
       "    </tr>\n",
       "  </thead>\n",
       "  <tbody>\n",
       "    <tr>\n",
       "      <th>0</th>\n",
       "      <td>1</td>\n",
       "      <td>0.513514</td>\n",
       "      <td>0.050832</td>\n",
       "      <td>0.278689</td>\n",
       "      <td>0.181335</td>\n",
       "      <td>0.150303</td>\n",
       "      <td>0.132324</td>\n",
       "      <td>15</td>\n",
       "    </tr>\n",
       "    <tr>\n",
       "      <th>1</th>\n",
       "      <td>1</td>\n",
       "      <td>0.371622</td>\n",
       "      <td>0.032348</td>\n",
       "      <td>0.262295</td>\n",
       "      <td>0.079157</td>\n",
       "      <td>0.066241</td>\n",
       "      <td>0.063199</td>\n",
       "      <td>7</td>\n",
       "    </tr>\n",
       "    <tr>\n",
       "      <th>2</th>\n",
       "      <td>0.5</td>\n",
       "      <td>0.614865</td>\n",
       "      <td>0.060998</td>\n",
       "      <td>0.409836</td>\n",
       "      <td>0.239065</td>\n",
       "      <td>0.171822</td>\n",
       "      <td>0.185648</td>\n",
       "      <td>9</td>\n",
       "    </tr>\n",
       "    <tr>\n",
       "      <th>3</th>\n",
       "      <td>1</td>\n",
       "      <td>0.493243</td>\n",
       "      <td>0.050832</td>\n",
       "      <td>0.377049</td>\n",
       "      <td>0.182044</td>\n",
       "      <td>0.144250</td>\n",
       "      <td>0.149440</td>\n",
       "      <td>10</td>\n",
       "    </tr>\n",
       "    <tr>\n",
       "      <th>4</th>\n",
       "      <td>0</td>\n",
       "      <td>0.344595</td>\n",
       "      <td>0.030499</td>\n",
       "      <td>0.229508</td>\n",
       "      <td>0.071897</td>\n",
       "      <td>0.059516</td>\n",
       "      <td>0.051350</td>\n",
       "      <td>7</td>\n",
       "    </tr>\n",
       "    <tr>\n",
       "      <th>...</th>\n",
       "      <td>...</td>\n",
       "      <td>...</td>\n",
       "      <td>...</td>\n",
       "      <td>...</td>\n",
       "      <td>...</td>\n",
       "      <td>...</td>\n",
       "      <td>...</td>\n",
       "      <td>...</td>\n",
       "    </tr>\n",
       "    <tr>\n",
       "      <th>4172</th>\n",
       "      <td>0.5</td>\n",
       "      <td>0.662162</td>\n",
       "      <td>0.066543</td>\n",
       "      <td>0.508197</td>\n",
       "      <td>0.313441</td>\n",
       "      <td>0.248151</td>\n",
       "      <td>0.314022</td>\n",
       "      <td>11</td>\n",
       "    </tr>\n",
       "    <tr>\n",
       "      <th>4173</th>\n",
       "      <td>1</td>\n",
       "      <td>0.695946</td>\n",
       "      <td>0.064695</td>\n",
       "      <td>0.409836</td>\n",
       "      <td>0.341420</td>\n",
       "      <td>0.294553</td>\n",
       "      <td>0.281764</td>\n",
       "      <td>10</td>\n",
       "    </tr>\n",
       "    <tr>\n",
       "      <th>4174</th>\n",
       "      <td>1</td>\n",
       "      <td>0.709459</td>\n",
       "      <td>0.071165</td>\n",
       "      <td>0.639344</td>\n",
       "      <td>0.415796</td>\n",
       "      <td>0.352724</td>\n",
       "      <td>0.377880</td>\n",
       "      <td>9</td>\n",
       "    </tr>\n",
       "    <tr>\n",
       "      <th>4175</th>\n",
       "      <td>0.5</td>\n",
       "      <td>0.743243</td>\n",
       "      <td>0.073013</td>\n",
       "      <td>0.459016</td>\n",
       "      <td>0.386931</td>\n",
       "      <td>0.356422</td>\n",
       "      <td>0.342989</td>\n",
       "      <td>10</td>\n",
       "    </tr>\n",
       "    <tr>\n",
       "      <th>4176</th>\n",
       "      <td>1</td>\n",
       "      <td>0.858108</td>\n",
       "      <td>0.085952</td>\n",
       "      <td>0.606557</td>\n",
       "      <td>0.689393</td>\n",
       "      <td>0.635171</td>\n",
       "      <td>0.495063</td>\n",
       "      <td>12</td>\n",
       "    </tr>\n",
       "  </tbody>\n",
       "</table>\n",
       "<p>4177 rows × 8 columns</p>\n",
       "</div>"
      ],
      "text/plain": [
       "       성별        길이        지름        높이       총무게      속살무게      내장무게  나이\n",
       "0       1  0.513514  0.050832  0.278689  0.181335  0.150303  0.132324  15\n",
       "1       1  0.371622  0.032348  0.262295  0.079157  0.066241  0.063199   7\n",
       "2     0.5  0.614865  0.060998  0.409836  0.239065  0.171822  0.185648   9\n",
       "3       1  0.493243  0.050832  0.377049  0.182044  0.144250  0.149440  10\n",
       "4       0  0.344595  0.030499  0.229508  0.071897  0.059516  0.051350   7\n",
       "...   ...       ...       ...       ...       ...       ...       ...  ..\n",
       "4172  0.5  0.662162  0.066543  0.508197  0.313441  0.248151  0.314022  11\n",
       "4173    1  0.695946  0.064695  0.409836  0.341420  0.294553  0.281764  10\n",
       "4174    1  0.709459  0.071165  0.639344  0.415796  0.352724  0.377880   9\n",
       "4175  0.5  0.743243  0.073013  0.459016  0.386931  0.356422  0.342989  10\n",
       "4176    1  0.858108  0.085952  0.606557  0.689393  0.635171  0.495063  12\n",
       "\n",
       "[4177 rows x 8 columns]"
      ]
     },
     "execution_count": 85,
     "metadata": {},
     "output_type": "execute_result"
    }
   ],
   "source": [
    "data"
   ]
  },
  {
   "cell_type": "code",
   "execution_count": 86,
   "metadata": {},
   "outputs": [
    {
     "data": {
      "text/plain": [
       "array([[1.        , 0.5135135 , 0.05083179, ..., 0.18133523, 0.15030262,\n",
       "        0.13232389],\n",
       "       [1.        , 0.3716216 , 0.0323475 , ..., 0.07915708, 0.06624075,\n",
       "        0.06319948],\n",
       "       [0.5       , 0.6148649 , 0.06099815, ..., 0.23906499, 0.17182246,\n",
       "        0.18564846],\n",
       "       ...,\n",
       "       [1.        , 0.7094595 , 0.06654344, ..., 0.47387993, 0.4142569 ,\n",
       "        0.4279131 ],\n",
       "       [0.5       , 0.7094595 , 0.06654344, ..., 0.34018064, 0.29354405,\n",
       "        0.29229757],\n",
       "       [1.        , 0.7094595 , 0.06931608, ..., 0.3702851 , 0.31203765,\n",
       "        0.30809742]], dtype=float32)"
      ]
     },
     "execution_count": 86,
     "metadata": {},
     "output_type": "execute_result"
    }
   ],
   "source": [
    "x_train"
   ]
  },
  {
   "cell_type": "code",
   "execution_count": 87,
   "metadata": {},
   "outputs": [
    {
     "data": {
      "text/plain": [
       "array([[15.],\n",
       "       [ 7.],\n",
       "       [ 9.],\n",
       "       ...,\n",
       "       [10.],\n",
       "       [ 9.],\n",
       "       [11.]], dtype=float32)"
      ]
     },
     "execution_count": 87,
     "metadata": {},
     "output_type": "execute_result"
    }
   ],
   "source": [
    "y_train"
   ]
  },
  {
   "cell_type": "code",
   "execution_count": 88,
   "metadata": {},
   "outputs": [],
   "source": [
    "x_train = np.asarray(x_train).astype(np.float32)\n",
    "y_train = np.asarray(y_train).astype(np.float32)"
   ]
  },
  {
   "cell_type": "code",
   "execution_count": 89,
   "metadata": {},
   "outputs": [
    {
     "data": {
      "text/plain": [
       "array([[1.        , 0.5135135 , 0.05083179, ..., 0.18133523, 0.15030262,\n",
       "        0.13232389],\n",
       "       [1.        , 0.3716216 , 0.0323475 , ..., 0.07915708, 0.06624075,\n",
       "        0.06319948],\n",
       "       [0.5       , 0.6148649 , 0.06099815, ..., 0.23906499, 0.17182246,\n",
       "        0.18564846],\n",
       "       ...,\n",
       "       [1.        , 0.7094595 , 0.06654344, ..., 0.47387993, 0.4142569 ,\n",
       "        0.4279131 ],\n",
       "       [0.5       , 0.7094595 , 0.06654344, ..., 0.34018064, 0.29354405,\n",
       "        0.29229757],\n",
       "       [1.        , 0.7094595 , 0.06931608, ..., 0.3702851 , 0.31203765,\n",
       "        0.30809742]], dtype=float32)"
      ]
     },
     "execution_count": 89,
     "metadata": {},
     "output_type": "execute_result"
    }
   ],
   "source": [
    "x_train"
   ]
  },
  {
   "cell_type": "code",
   "execution_count": 90,
   "metadata": {},
   "outputs": [
    {
     "data": {
      "text/plain": [
       "array([[15.],\n",
       "       [ 7.],\n",
       "       [ 9.],\n",
       "       ...,\n",
       "       [10.],\n",
       "       [ 9.],\n",
       "       [11.]], dtype=float32)"
      ]
     },
     "execution_count": 90,
     "metadata": {},
     "output_type": "execute_result"
    }
   ],
   "source": [
    "y_train"
   ]
  },
  {
   "cell_type": "code",
   "execution_count": 91,
   "metadata": {
    "scrolled": false
   },
   "outputs": [
    {
     "name": "stdout",
     "output_type": "stream",
     "text": [
      "Epoch 1/30\n",
      "2923/2923 [==============================] - 5s 2ms/step - loss: 8.4538 - accuracy: 3.4211e-04\n",
      "Epoch 2/30\n",
      "2923/2923 [==============================] - 4s 1ms/step - loss: 6.9121 - accuracy: 3.4211e-04\n",
      "Epoch 3/30\n",
      "2923/2923 [==============================] - 5s 2ms/step - loss: 6.6259 - accuracy: 3.4211e-04\n",
      "Epoch 4/30\n",
      "2923/2923 [==============================] - 5s 2ms/step - loss: 6.3423 - accuracy: 3.4211e-04\n",
      "Epoch 5/30\n",
      "2923/2923 [==============================] - 4s 1ms/step - loss: 6.3171 - accuracy: 3.4211e-04\n",
      "Epoch 6/30\n",
      "2923/2923 [==============================] - 5s 2ms/step - loss: 6.0448 - accuracy: 0.0000e+00\n",
      "Epoch 7/30\n",
      "2923/2923 [==============================] - 4s 2ms/step - loss: 5.9862 - accuracy: 3.4211e-04\n",
      "Epoch 8/30\n",
      "2923/2923 [==============================] - 5s 2ms/step - loss: 5.8908 - accuracy: 3.4211e-04\n",
      "Epoch 9/30\n",
      "2923/2923 [==============================] - 5s 2ms/step - loss: 5.8448 - accuracy: 3.4211e-04\n",
      "Epoch 10/30\n",
      "2923/2923 [==============================] - 4s 1ms/step - loss: 5.8971 - accuracy: 3.4211e-04\n",
      "Epoch 11/30\n",
      "2923/2923 [==============================] - 5s 2ms/step - loss: 5.8281 - accuracy: 3.4211e-04\n",
      "Epoch 12/30\n",
      "2923/2923 [==============================] - 5s 2ms/step - loss: 5.7455 - accuracy: 3.4211e-04\n",
      "Epoch 13/30\n",
      "2923/2923 [==============================] - 5s 2ms/step - loss: 5.7854 - accuracy: 3.4211e-04\n",
      "Epoch 14/30\n",
      "2923/2923 [==============================] - 5s 2ms/step - loss: 5.5789 - accuracy: 3.4211e-04\n",
      "Epoch 15/30\n",
      "2923/2923 [==============================] - 4s 1ms/step - loss: 5.5268 - accuracy: 3.4211e-04\n",
      "Epoch 16/30\n",
      "2923/2923 [==============================] - 5s 2ms/step - loss: 5.5009 - accuracy: 3.4211e-04\n",
      "Epoch 17/30\n",
      "2923/2923 [==============================] - 5s 2ms/step - loss: 5.5940 - accuracy: 3.4211e-04\n",
      "Epoch 18/30\n",
      "2923/2923 [==============================] - 5s 2ms/step - loss: 5.3735 - accuracy: 3.4211e-04\n",
      "Epoch 19/30\n",
      "2923/2923 [==============================] - 5s 2ms/step - loss: 5.4780 - accuracy: 3.4211e-04\n",
      "Epoch 20/30\n",
      "2923/2923 [==============================] - 5s 2ms/step - loss: 5.3080 - accuracy: 3.4211e-04\n",
      "Epoch 21/30\n",
      "2923/2923 [==============================] - 5s 2ms/step - loss: 5.5174 - accuracy: 3.4211e-04\n",
      "Epoch 22/30\n",
      "2923/2923 [==============================] - 5s 2ms/step - loss: 5.4315 - accuracy: 3.4211e-04\n",
      "Epoch 23/30\n",
      "2923/2923 [==============================] - 4s 1ms/step - loss: 5.3531 - accuracy: 3.4211e-04\n",
      "Epoch 24/30\n",
      "2923/2923 [==============================] - 6s 2ms/step - loss: 5.3788 - accuracy: 3.4211e-04\n",
      "Epoch 25/30\n",
      "2923/2923 [==============================] - 6s 2ms/step - loss: 5.4081 - accuracy: 0.0000e+00\n",
      "Epoch 26/30\n",
      "2923/2923 [==============================] - 5s 2ms/step - loss: 5.3012 - accuracy: 3.4211e-04\n",
      "Epoch 27/30\n",
      "2923/2923 [==============================] - 5s 2ms/step - loss: 5.3203 - accuracy: 3.4211e-04\n",
      "Epoch 28/30\n",
      "2923/2923 [==============================] - 6s 2ms/step - loss: 5.2749 - accuracy: 3.4211e-04\n",
      "Epoch 29/30\n",
      "2923/2923 [==============================] - 4s 1ms/step - loss: 5.3207 - accuracy: 3.4211e-04\n",
      "Epoch 30/30\n",
      "2923/2923 [==============================] - 5s 2ms/step - loss: 5.3028 - accuracy: 0.0000e+00\n"
     ]
    },
    {
     "data": {
      "text/plain": [
       "<tensorflow.python.keras.callbacks.History at 0x23233ed7a60>"
      ]
     },
     "execution_count": 91,
     "metadata": {},
     "output_type": "execute_result"
    }
   ],
   "source": [
    "model.fit(x_train, y_train, epochs=30, batch_size=1)"
   ]
  },
  {
   "cell_type": "code",
   "execution_count": 92,
   "metadata": {},
   "outputs": [],
   "source": [
    "x_test = np.asarray(x_test).astype(np.float32)\n",
    "y_test = np.asarray(y_test).astype(np.float32)"
   ]
  },
  {
   "cell_type": "code",
   "execution_count": 100,
   "metadata": {},
   "outputs": [
    {
     "name": "stdout",
     "output_type": "stream",
     "text": [
      "40/40 - 0s - loss: 3.8074 - accuracy: 0.0000e+00\n",
      "loss: 3.8073904514312744\n",
      "accuracy: 0.0\n"
     ]
    }
   ],
   "source": [
    "loss, accuracy = model.evaluate(x_test, y_test, verbose=2)\n",
    "print('loss:', loss)\n",
    "print('accuracy:', accuracy)"
   ]
  },
  {
   "cell_type": "code",
   "execution_count": 101,
   "metadata": {},
   "outputs": [
    {
     "data": {
      "text/plain": [
       "array([[11.645298],\n",
       "       [12.714873],\n",
       "       [10.036525],\n",
       "       ...,\n",
       "       [11.231854],\n",
       "       [ 9.3495  ],\n",
       "       [10.592229]], dtype=float32)"
      ]
     },
     "execution_count": 101,
     "metadata": {},
     "output_type": "execute_result"
    }
   ],
   "source": [
    "model.predict(x_test)"
   ]
  },
  {
   "cell_type": "code",
   "execution_count": 102,
   "metadata": {},
   "outputs": [
    {
     "data": {
      "text/plain": [
       "array([[13.],\n",
       "       [ 9.],\n",
       "       [10.],\n",
       "       ...,\n",
       "       [ 9.],\n",
       "       [10.],\n",
       "       [12.]], dtype=float32)"
      ]
     },
     "execution_count": 102,
     "metadata": {},
     "output_type": "execute_result"
    }
   ],
   "source": [
    "y_test"
   ]
  },
  {
   "cell_type": "code",
   "execution_count": null,
   "metadata": {},
   "outputs": [],
   "source": []
  }
 ],
 "metadata": {
  "kernelspec": {
   "display_name": "Python 3",
   "language": "python",
   "name": "python3"
  },
  "language_info": {
   "codemirror_mode": {
    "name": "ipython",
    "version": 3
   },
   "file_extension": ".py",
   "mimetype": "text/x-python",
   "name": "python",
   "nbconvert_exporter": "python",
   "pygments_lexer": "ipython3",
   "version": "3.8.3"
  }
 },
 "nbformat": 4,
 "nbformat_minor": 4
}
