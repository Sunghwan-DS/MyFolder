{
 "cells": [
  {
   "cell_type": "markdown",
   "metadata": {},
   "source": [
    "## 데이터 불러오기"
   ]
  },
  {
   "cell_type": "code",
   "execution_count": 1,
   "metadata": {},
   "outputs": [],
   "source": [
    "import pandas as pd"
   ]
  },
  {
   "cell_type": "code",
   "execution_count": 2,
   "metadata": {},
   "outputs": [],
   "source": [
    "data = pd.read_excel(\"2020 HR Data Analytics 데이터 (사후과제시 열람).xlsx\", sheet_name = 1, columns=['성별', '길이', '지름', '높이', '총무게', '속살무게', '내장무게', '나이'])"
   ]
  },
  {
   "cell_type": "code",
   "execution_count": 3,
   "metadata": {},
   "outputs": [
    {
     "data": {
      "text/html": [
       "<div>\n",
       "<style scoped>\n",
       "    .dataframe tbody tr th:only-of-type {\n",
       "        vertical-align: middle;\n",
       "    }\n",
       "\n",
       "    .dataframe tbody tr th {\n",
       "        vertical-align: top;\n",
       "    }\n",
       "\n",
       "    .dataframe thead th {\n",
       "        text-align: right;\n",
       "    }\n",
       "</style>\n",
       "<table border=\"1\" class=\"dataframe\">\n",
       "  <thead>\n",
       "    <tr style=\"text-align: right;\">\n",
       "      <th></th>\n",
       "      <th>ID</th>\n",
       "      <th>성별</th>\n",
       "      <th>길이</th>\n",
       "      <th>지름</th>\n",
       "      <th>높이</th>\n",
       "      <th>총무게</th>\n",
       "      <th>속살무게</th>\n",
       "      <th>내장무게</th>\n",
       "      <th>나이</th>\n",
       "    </tr>\n",
       "  </thead>\n",
       "  <tbody>\n",
       "    <tr>\n",
       "      <th>0</th>\n",
       "      <td>1</td>\n",
       "      <td>M</td>\n",
       "      <td>4.55</td>\n",
       "      <td>3.65</td>\n",
       "      <td>0.95</td>\n",
       "      <td>0.5140</td>\n",
       "      <td>0.2245</td>\n",
       "      <td>0.1010</td>\n",
       "      <td>15</td>\n",
       "    </tr>\n",
       "    <tr>\n",
       "      <th>1</th>\n",
       "      <td>2</td>\n",
       "      <td>M</td>\n",
       "      <td>3.50</td>\n",
       "      <td>2.65</td>\n",
       "      <td>0.90</td>\n",
       "      <td>0.2255</td>\n",
       "      <td>0.0995</td>\n",
       "      <td>0.0485</td>\n",
       "      <td>7</td>\n",
       "    </tr>\n",
       "    <tr>\n",
       "      <th>2</th>\n",
       "      <td>3</td>\n",
       "      <td>F</td>\n",
       "      <td>5.30</td>\n",
       "      <td>4.20</td>\n",
       "      <td>1.35</td>\n",
       "      <td>0.6770</td>\n",
       "      <td>0.2565</td>\n",
       "      <td>0.1415</td>\n",
       "      <td>9</td>\n",
       "    </tr>\n",
       "    <tr>\n",
       "      <th>3</th>\n",
       "      <td>4</td>\n",
       "      <td>M</td>\n",
       "      <td>4.40</td>\n",
       "      <td>3.65</td>\n",
       "      <td>1.25</td>\n",
       "      <td>0.5160</td>\n",
       "      <td>0.2155</td>\n",
       "      <td>0.1140</td>\n",
       "      <td>10</td>\n",
       "    </tr>\n",
       "    <tr>\n",
       "      <th>4</th>\n",
       "      <td>5</td>\n",
       "      <td>I</td>\n",
       "      <td>3.30</td>\n",
       "      <td>2.55</td>\n",
       "      <td>0.80</td>\n",
       "      <td>0.2050</td>\n",
       "      <td>0.0895</td>\n",
       "      <td>0.0395</td>\n",
       "      <td>7</td>\n",
       "    </tr>\n",
       "    <tr>\n",
       "      <th>...</th>\n",
       "      <td>...</td>\n",
       "      <td>...</td>\n",
       "      <td>...</td>\n",
       "      <td>...</td>\n",
       "      <td>...</td>\n",
       "      <td>...</td>\n",
       "      <td>...</td>\n",
       "      <td>...</td>\n",
       "      <td>...</td>\n",
       "    </tr>\n",
       "    <tr>\n",
       "      <th>4172</th>\n",
       "      <td>4173</td>\n",
       "      <td>F</td>\n",
       "      <td>5.65</td>\n",
       "      <td>4.50</td>\n",
       "      <td>1.65</td>\n",
       "      <td>0.8870</td>\n",
       "      <td>0.3700</td>\n",
       "      <td>0.2390</td>\n",
       "      <td>11</td>\n",
       "    </tr>\n",
       "    <tr>\n",
       "      <th>4173</th>\n",
       "      <td>4174</td>\n",
       "      <td>M</td>\n",
       "      <td>5.90</td>\n",
       "      <td>4.40</td>\n",
       "      <td>1.35</td>\n",
       "      <td>0.9660</td>\n",
       "      <td>0.4390</td>\n",
       "      <td>0.2145</td>\n",
       "      <td>10</td>\n",
       "    </tr>\n",
       "    <tr>\n",
       "      <th>4174</th>\n",
       "      <td>4175</td>\n",
       "      <td>M</td>\n",
       "      <td>6.00</td>\n",
       "      <td>4.75</td>\n",
       "      <td>2.05</td>\n",
       "      <td>1.1760</td>\n",
       "      <td>0.5255</td>\n",
       "      <td>0.2875</td>\n",
       "      <td>9</td>\n",
       "    </tr>\n",
       "    <tr>\n",
       "      <th>4175</th>\n",
       "      <td>4176</td>\n",
       "      <td>F</td>\n",
       "      <td>6.25</td>\n",
       "      <td>4.85</td>\n",
       "      <td>1.50</td>\n",
       "      <td>1.0945</td>\n",
       "      <td>0.5310</td>\n",
       "      <td>0.2610</td>\n",
       "      <td>10</td>\n",
       "    </tr>\n",
       "    <tr>\n",
       "      <th>4176</th>\n",
       "      <td>4177</td>\n",
       "      <td>M</td>\n",
       "      <td>7.10</td>\n",
       "      <td>5.55</td>\n",
       "      <td>1.95</td>\n",
       "      <td>1.9485</td>\n",
       "      <td>0.9455</td>\n",
       "      <td>0.3765</td>\n",
       "      <td>12</td>\n",
       "    </tr>\n",
       "  </tbody>\n",
       "</table>\n",
       "<p>4177 rows × 9 columns</p>\n",
       "</div>"
      ],
      "text/plain": [
       "        ID 성별    길이    지름    높이     총무게    속살무게    내장무게  나이\n",
       "0        1  M  4.55  3.65  0.95  0.5140  0.2245  0.1010  15\n",
       "1        2  M  3.50  2.65  0.90  0.2255  0.0995  0.0485   7\n",
       "2        3  F  5.30  4.20  1.35  0.6770  0.2565  0.1415   9\n",
       "3        4  M  4.40  3.65  1.25  0.5160  0.2155  0.1140  10\n",
       "4        5  I  3.30  2.55  0.80  0.2050  0.0895  0.0395   7\n",
       "...    ... ..   ...   ...   ...     ...     ...     ...  ..\n",
       "4172  4173  F  5.65  4.50  1.65  0.8870  0.3700  0.2390  11\n",
       "4173  4174  M  5.90  4.40  1.35  0.9660  0.4390  0.2145  10\n",
       "4174  4175  M  6.00  4.75  2.05  1.1760  0.5255  0.2875   9\n",
       "4175  4176  F  6.25  4.85  1.50  1.0945  0.5310  0.2610  10\n",
       "4176  4177  M  7.10  5.55  1.95  1.9485  0.9455  0.3765  12\n",
       "\n",
       "[4177 rows x 9 columns]"
      ]
     },
     "execution_count": 3,
     "metadata": {},
     "output_type": "execute_result"
    }
   ],
   "source": [
    "data"
   ]
  },
  {
   "cell_type": "code",
   "execution_count": 4,
   "metadata": {},
   "outputs": [
    {
     "data": {
      "text/plain": [
       "3341.6000000000004"
      ]
     },
     "execution_count": 4,
     "metadata": {},
     "output_type": "execute_result"
    }
   ],
   "source": [
    "4177 * 0.8"
   ]
  },
  {
   "cell_type": "code",
   "execution_count": 5,
   "metadata": {},
   "outputs": [],
   "source": [
    "train_data = data[:3341]\n",
    "test_data = data[3341:]"
   ]
  },
  {
   "cell_type": "code",
   "execution_count": 6,
   "metadata": {},
   "outputs": [],
   "source": [
    "x_train = train_data.drop(\"나이\", axis=1)\n",
    "x_train = x_train.drop(\"ID\", axis=1)\n",
    "y_train = train_data[\"나이\"]\n",
    "\n",
    "x_test = test_data.drop(\"나이\", axis=1)\n",
    "x_test = x_test.drop(\"ID\", axis=1)\n",
    "y_test = test_data[\"나이\"]"
   ]
  },
  {
   "cell_type": "code",
   "execution_count": 7,
   "metadata": {},
   "outputs": [
    {
     "data": {
      "text/html": [
       "<div>\n",
       "<style scoped>\n",
       "    .dataframe tbody tr th:only-of-type {\n",
       "        vertical-align: middle;\n",
       "    }\n",
       "\n",
       "    .dataframe tbody tr th {\n",
       "        vertical-align: top;\n",
       "    }\n",
       "\n",
       "    .dataframe thead th {\n",
       "        text-align: right;\n",
       "    }\n",
       "</style>\n",
       "<table border=\"1\" class=\"dataframe\">\n",
       "  <thead>\n",
       "    <tr style=\"text-align: right;\">\n",
       "      <th></th>\n",
       "      <th>성별</th>\n",
       "      <th>길이</th>\n",
       "      <th>지름</th>\n",
       "      <th>높이</th>\n",
       "      <th>총무게</th>\n",
       "      <th>속살무게</th>\n",
       "      <th>내장무게</th>\n",
       "    </tr>\n",
       "  </thead>\n",
       "  <tbody>\n",
       "    <tr>\n",
       "      <th>0</th>\n",
       "      <td>M</td>\n",
       "      <td>4.55</td>\n",
       "      <td>3.65</td>\n",
       "      <td>0.95</td>\n",
       "      <td>0.5140</td>\n",
       "      <td>0.2245</td>\n",
       "      <td>0.1010</td>\n",
       "    </tr>\n",
       "    <tr>\n",
       "      <th>1</th>\n",
       "      <td>M</td>\n",
       "      <td>3.50</td>\n",
       "      <td>2.65</td>\n",
       "      <td>0.90</td>\n",
       "      <td>0.2255</td>\n",
       "      <td>0.0995</td>\n",
       "      <td>0.0485</td>\n",
       "    </tr>\n",
       "    <tr>\n",
       "      <th>2</th>\n",
       "      <td>F</td>\n",
       "      <td>5.30</td>\n",
       "      <td>4.20</td>\n",
       "      <td>1.35</td>\n",
       "      <td>0.6770</td>\n",
       "      <td>0.2565</td>\n",
       "      <td>0.1415</td>\n",
       "    </tr>\n",
       "    <tr>\n",
       "      <th>3</th>\n",
       "      <td>M</td>\n",
       "      <td>4.40</td>\n",
       "      <td>3.65</td>\n",
       "      <td>1.25</td>\n",
       "      <td>0.5160</td>\n",
       "      <td>0.2155</td>\n",
       "      <td>0.1140</td>\n",
       "    </tr>\n",
       "    <tr>\n",
       "      <th>4</th>\n",
       "      <td>I</td>\n",
       "      <td>3.30</td>\n",
       "      <td>2.55</td>\n",
       "      <td>0.80</td>\n",
       "      <td>0.2050</td>\n",
       "      <td>0.0895</td>\n",
       "      <td>0.0395</td>\n",
       "    </tr>\n",
       "    <tr>\n",
       "      <th>...</th>\n",
       "      <td>...</td>\n",
       "      <td>...</td>\n",
       "      <td>...</td>\n",
       "      <td>...</td>\n",
       "      <td>...</td>\n",
       "      <td>...</td>\n",
       "      <td>...</td>\n",
       "    </tr>\n",
       "    <tr>\n",
       "      <th>3336</th>\n",
       "      <td>F</td>\n",
       "      <td>4.50</td>\n",
       "      <td>3.50</td>\n",
       "      <td>1.25</td>\n",
       "      <td>0.4435</td>\n",
       "      <td>0.1850</td>\n",
       "      <td>0.0900</td>\n",
       "    </tr>\n",
       "    <tr>\n",
       "      <th>3337</th>\n",
       "      <td>I</td>\n",
       "      <td>6.60</td>\n",
       "      <td>5.25</td>\n",
       "      <td>1.80</td>\n",
       "      <td>1.6935</td>\n",
       "      <td>0.6025</td>\n",
       "      <td>0.4005</td>\n",
       "    </tr>\n",
       "    <tr>\n",
       "      <th>3338</th>\n",
       "      <td>F</td>\n",
       "      <td>6.85</td>\n",
       "      <td>5.25</td>\n",
       "      <td>1.75</td>\n",
       "      <td>1.7100</td>\n",
       "      <td>0.5415</td>\n",
       "      <td>0.3090</td>\n",
       "    </tr>\n",
       "    <tr>\n",
       "      <th>3339</th>\n",
       "      <td>F</td>\n",
       "      <td>5.85</td>\n",
       "      <td>4.75</td>\n",
       "      <td>1.85</td>\n",
       "      <td>0.8575</td>\n",
       "      <td>0.3465</td>\n",
       "      <td>0.1785</td>\n",
       "    </tr>\n",
       "    <tr>\n",
       "      <th>3340</th>\n",
       "      <td>I</td>\n",
       "      <td>5.40</td>\n",
       "      <td>4.35</td>\n",
       "      <td>1.45</td>\n",
       "      <td>0.9700</td>\n",
       "      <td>0.4285</td>\n",
       "      <td>0.2200</td>\n",
       "    </tr>\n",
       "  </tbody>\n",
       "</table>\n",
       "<p>3341 rows × 7 columns</p>\n",
       "</div>"
      ],
      "text/plain": [
       "     성별    길이    지름    높이     총무게    속살무게    내장무게\n",
       "0     M  4.55  3.65  0.95  0.5140  0.2245  0.1010\n",
       "1     M  3.50  2.65  0.90  0.2255  0.0995  0.0485\n",
       "2     F  5.30  4.20  1.35  0.6770  0.2565  0.1415\n",
       "3     M  4.40  3.65  1.25  0.5160  0.2155  0.1140\n",
       "4     I  3.30  2.55  0.80  0.2050  0.0895  0.0395\n",
       "...  ..   ...   ...   ...     ...     ...     ...\n",
       "3336  F  4.50  3.50  1.25  0.4435  0.1850  0.0900\n",
       "3337  I  6.60  5.25  1.80  1.6935  0.6025  0.4005\n",
       "3338  F  6.85  5.25  1.75  1.7100  0.5415  0.3090\n",
       "3339  F  5.85  4.75  1.85  0.8575  0.3465  0.1785\n",
       "3340  I  5.40  4.35  1.45  0.9700  0.4285  0.2200\n",
       "\n",
       "[3341 rows x 7 columns]"
      ]
     },
     "execution_count": 7,
     "metadata": {},
     "output_type": "execute_result"
    }
   ],
   "source": [
    "x_train"
   ]
  },
  {
   "cell_type": "code",
   "execution_count": 8,
   "metadata": {},
   "outputs": [
    {
     "data": {
      "text/plain": [
       "0       15\n",
       "1        7\n",
       "2        9\n",
       "3       10\n",
       "4        7\n",
       "        ..\n",
       "3336    11\n",
       "3337    15\n",
       "3338    16\n",
       "3339    12\n",
       "3340    17\n",
       "Name: 나이, Length: 3341, dtype: int64"
      ]
     },
     "execution_count": 8,
     "metadata": {},
     "output_type": "execute_result"
    }
   ],
   "source": [
    "y_train"
   ]
  },
  {
   "cell_type": "code",
   "execution_count": 9,
   "metadata": {},
   "outputs": [],
   "source": [
    "import numpy as np"
   ]
  },
  {
   "cell_type": "code",
   "execution_count": 10,
   "metadata": {},
   "outputs": [],
   "source": [
    "x_train = x_train.to_numpy()\n",
    "y_train = y_train.to_numpy()\n",
    "\n",
    "x_test = x_test.to_numpy()\n",
    "y_test = y_test.to_numpy()"
   ]
  },
  {
   "cell_type": "code",
   "execution_count": 11,
   "metadata": {},
   "outputs": [
    {
     "data": {
      "text/plain": [
       "array([['M', 4.55, 3.65, ..., 0.514, 0.2245, 0.101],\n",
       "       ['M', 3.5, 2.6500000000000004, ..., 0.2255, 0.0995, 0.0485],\n",
       "       ['F', 5.300000000000001, 4.2, ..., 0.677, 0.2565, 0.1415],\n",
       "       ...,\n",
       "       ['F', 6.8500000000000005, 5.25, ..., 1.71, 0.5415, 0.309],\n",
       "       ['F', 5.85, 4.75, ..., 0.8575, 0.3465, 0.1785],\n",
       "       ['I', 5.4, 4.35, ..., 0.97, 0.4285, 0.22]], dtype=object)"
      ]
     },
     "execution_count": 11,
     "metadata": {},
     "output_type": "execute_result"
    }
   ],
   "source": [
    "x_train"
   ]
  },
  {
   "cell_type": "code",
   "execution_count": 12,
   "metadata": {},
   "outputs": [
    {
     "data": {
      "text/plain": [
       "array([15,  7,  9, ..., 16, 12, 17], dtype=int64)"
      ]
     },
     "execution_count": 12,
     "metadata": {},
     "output_type": "execute_result"
    }
   ],
   "source": [
    "y_train"
   ]
  },
  {
   "cell_type": "markdown",
   "metadata": {},
   "source": [
    "## 데이터 정규화하기"
   ]
  },
  {
   "cell_type": "markdown",
   "metadata": {},
   "source": [
    "#### 성별 데이터 변형"
   ]
  },
  {
   "cell_type": "code",
   "execution_count": 13,
   "metadata": {},
   "outputs": [],
   "source": [
    "for arr in x_train:\n",
    "    if arr[0] == 'M':\n",
    "        arr[0] = 1\n",
    "    elif arr[0] == 'I':\n",
    "        arr[0] = 0.5\n",
    "    elif arr[0] == 'F':\n",
    "        arr[0] = 0"
   ]
  },
  {
   "cell_type": "code",
   "execution_count": 14,
   "metadata": {},
   "outputs": [],
   "source": [
    "for arr in x_test:\n",
    "    if arr[0] == 'M':\n",
    "        arr[0] = 1\n",
    "    elif arr[0] == 'I':\n",
    "        arr[0] = 0.5\n",
    "    elif arr[0] == 'F':\n",
    "        arr[0] = 0"
   ]
  },
  {
   "cell_type": "code",
   "execution_count": 15,
   "metadata": {
    "scrolled": true
   },
   "outputs": [
    {
     "data": {
      "text/plain": [
       "array([[1, 4.55, 3.65, ..., 0.514, 0.2245, 0.101],\n",
       "       [1, 3.5, 2.6500000000000004, ..., 0.2255, 0.0995, 0.0485],\n",
       "       [0, 5.300000000000001, 4.2, ..., 0.677, 0.2565, 0.1415],\n",
       "       ...,\n",
       "       [0, 6.8500000000000005, 5.25, ..., 1.71, 0.5415, 0.309],\n",
       "       [0, 5.85, 4.75, ..., 0.8575, 0.3465, 0.1785],\n",
       "       [0.5, 5.4, 4.35, ..., 0.97, 0.4285, 0.22]], dtype=object)"
      ]
     },
     "execution_count": 15,
     "metadata": {},
     "output_type": "execute_result"
    }
   ],
   "source": [
    "x_train"
   ]
  },
  {
   "cell_type": "code",
   "execution_count": 16,
   "metadata": {},
   "outputs": [
    {
     "data": {
      "text/plain": [
       "array([[0, 4.9, 3.9000000000000004, ..., 0.59, 0.215, 0.125],\n",
       "       [1, 4.3, 3.3000000000000003, ..., 0.34, 0.1315, 0.085],\n",
       "       [0, 4.55, 3.65, ..., 0.385, 0.166, 0.046],\n",
       "       ...,\n",
       "       [1, 6.0, 4.75, ..., 1.176, 0.5255, 0.2875],\n",
       "       [0, 6.25, 4.85, ..., 1.0945, 0.531, 0.261],\n",
       "       [1, 7.1, 5.550000000000001, ..., 1.9485, 0.9455, 0.3765]],\n",
       "      dtype=object)"
      ]
     },
     "execution_count": 16,
     "metadata": {},
     "output_type": "execute_result"
    }
   ],
   "source": [
    "x_test"
   ]
  },
  {
   "cell_type": "code",
   "execution_count": 17,
   "metadata": {},
   "outputs": [],
   "source": [
    "x_train = x_train.astype('float64')\n",
    "x_test = x_test.astype('float64')"
   ]
  },
  {
   "cell_type": "code",
   "execution_count": 18,
   "metadata": {},
   "outputs": [],
   "source": [
    "mean = x_train.mean(axis=0)"
   ]
  },
  {
   "cell_type": "code",
   "execution_count": 19,
   "metadata": {},
   "outputs": [
    {
     "data": {
      "text/plain": [
       "array([0.52514217, 5.26150853, 4.116088  , 1.40383119, 0.8359578 ,\n",
       "       0.36180844, 0.18219336])"
      ]
     },
     "execution_count": 19,
     "metadata": {},
     "output_type": "execute_result"
    }
   ],
   "source": [
    "mean"
   ]
  },
  {
   "cell_type": "code",
   "execution_count": 20,
   "metadata": {},
   "outputs": [],
   "source": [
    "x_train -= mean"
   ]
  },
  {
   "cell_type": "code",
   "execution_count": 21,
   "metadata": {},
   "outputs": [
    {
     "data": {
      "text/plain": [
       "array([[ 0.47485783, -0.71150853, -0.466088  , ..., -0.3219578 ,\n",
       "        -0.13730844, -0.08119336],\n",
       "       [ 0.47485783, -1.76150853, -1.466088  , ..., -0.6104578 ,\n",
       "        -0.26230844, -0.13369336],\n",
       "       [-0.52514217,  0.03849147,  0.083912  , ..., -0.1589578 ,\n",
       "        -0.10530844, -0.04069336],\n",
       "       ...,\n",
       "       [-0.52514217,  1.58849147,  1.133912  , ...,  0.8740422 ,\n",
       "         0.17969156,  0.12680664],\n",
       "       [-0.52514217,  0.58849147,  0.633912  , ...,  0.0215422 ,\n",
       "        -0.01530844, -0.00369336],\n",
       "       [-0.02514217,  0.13849147,  0.233912  , ...,  0.1340422 ,\n",
       "         0.06669156,  0.03780664]])"
      ]
     },
     "execution_count": 21,
     "metadata": {},
     "output_type": "execute_result"
    }
   ],
   "source": [
    "x_train"
   ]
  },
  {
   "cell_type": "code",
   "execution_count": 22,
   "metadata": {},
   "outputs": [],
   "source": [
    "std = x_train.std(axis=0)"
   ]
  },
  {
   "cell_type": "code",
   "execution_count": 23,
   "metadata": {},
   "outputs": [
    {
     "data": {
      "text/plain": [
       "array([0.41697305, 1.18625206, 1.31797632, 0.37956282, 0.48498118,\n",
       "       0.21916921, 0.10821211])"
      ]
     },
     "execution_count": 23,
     "metadata": {},
     "output_type": "execute_result"
    }
   ],
   "source": [
    "std"
   ]
  },
  {
   "cell_type": "code",
   "execution_count": 24,
   "metadata": {},
   "outputs": [],
   "source": [
    "x_train /= std"
   ]
  },
  {
   "cell_type": "code",
   "execution_count": 25,
   "metadata": {},
   "outputs": [
    {
     "data": {
      "text/plain": [
       "array([[ 1.13882139, -0.5997954 , -0.35363913, ..., -0.66385628,\n",
       "        -0.62649511, -0.7503167 ],\n",
       "       [ 1.13882139, -1.48493612, -1.1123781 , ..., -1.25872473,\n",
       "        -1.19683069, -1.23547496],\n",
       "       [-1.25941514,  0.03244797,  0.06366731, ..., -0.32776076,\n",
       "        -0.4804892 , -0.37605176],\n",
       "       ...,\n",
       "       [-1.25941514,  1.33908426,  0.86034323, ...,  1.80221882,\n",
       "         0.81987592,  1.17183411],\n",
       "       [-1.25941514,  0.49609311,  0.48097374, ...,  0.04441864,\n",
       "        -0.06984759, -0.0341307 ],\n",
       "       [-0.06029688,  0.11674708,  0.17747815, ...,  0.2763864 ,\n",
       "         0.30429255,  0.34937535]])"
      ]
     },
     "execution_count": 25,
     "metadata": {},
     "output_type": "execute_result"
    }
   ],
   "source": [
    "x_train"
   ]
  },
  {
   "cell_type": "code",
   "execution_count": 26,
   "metadata": {},
   "outputs": [],
   "source": [
    "x_test -= mean\n",
    "x_test /= std"
   ]
  },
  {
   "cell_type": "markdown",
   "metadata": {},
   "source": [
    "## 모델 정의하기"
   ]
  },
  {
   "cell_type": "code",
   "execution_count": 27,
   "metadata": {},
   "outputs": [],
   "source": [
    "from keras import models, layers"
   ]
  },
  {
   "cell_type": "code",
   "execution_count": 28,
   "metadata": {},
   "outputs": [],
   "source": [
    "def build_model():\n",
    "    model = models.Sequential()\n",
    "    model.add(layers.Dense(64, activation='relu', input_shape=(x_train.shape[1],)))\n",
    "    model.add(layers.Dense(64, activation='relu'))\n",
    "    model.add(layers.Dense(1))\n",
    "\n",
    "    model.compile(optimizer='rmsprop', loss='mse', metrics=['mae'])\n",
    "    return model"
   ]
  },
  {
   "cell_type": "markdown",
   "metadata": {},
   "source": [
    "## 단순 홀드아웃 검증 (hold-out validation)"
   ]
  },
  {
   "cell_type": "code",
   "execution_count": 56,
   "metadata": {},
   "outputs": [
    {
     "data": {
      "text/plain": [
       "(3341, 7)"
      ]
     },
     "execution_count": 56,
     "metadata": {},
     "output_type": "execute_result"
    }
   ],
   "source": [
    "x_train.shape"
   ]
  },
  {
   "cell_type": "code",
   "execution_count": 58,
   "metadata": {},
   "outputs": [
    {
     "data": {
      "text/plain": [
       "1252.875"
      ]
     },
     "execution_count": 58,
     "metadata": {},
     "output_type": "execute_result"
    }
   ],
   "source": [
    "3341 /8 *3"
   ]
  },
  {
   "cell_type": "code",
   "execution_count": 60,
   "metadata": {},
   "outputs": [],
   "source": [
    "num_validation_samples = 1253\n",
    "\n",
    "num_epochs = 300\n",
    "\n",
    "np.random.shuffle(x_train) # 데이터를 섞는 것이 일반적으로 좋다.\n",
    "\n",
    "x_val = x_train[:num_validation_samples]\n",
    "y_val = y_train[:num_validation_samples]\n",
    "\n",
    "x_training = x_train[num_validation_samples:]\n",
    "y_training = y_train[num_validation_samples:]\n",
    "\n",
    "model = build_model()\n",
    "history = model.fit(x_training, y_training, epochs=num_epochs, validation_data=(x_val, y_val), batch_size=1, verbose=0)"
   ]
  },
  {
   "cell_type": "code",
   "execution_count": 61,
   "metadata": {},
   "outputs": [],
   "source": [
    "val_mse, val_mae = model.evaluate(x_val, y_val, verbose=0)"
   ]
  },
  {
   "cell_type": "markdown",
   "metadata": {},
   "source": [
    "## 훈련과 검증 손실 그리기"
   ]
  },
  {
   "cell_type": "code",
   "execution_count": 62,
   "metadata": {},
   "outputs": [],
   "source": [
    "import matplotlib.pyplot as plt"
   ]
  },
  {
   "cell_type": "code",
   "execution_count": 63,
   "metadata": {},
   "outputs": [
    {
     "data": {
      "image/png": "[encoded data removed]",
      "text/plain": [
       "<Figure size 432x288 with 1 Axes>"
      ]
     },
     "metadata": {
      "needs_background": "light"
     },
     "output_type": "display_data"
    }
   ],
   "source": [
    "loss = history.history['loss']\n",
    "val_loss = history.history['val_loss']\n",
    "\n",
    "epochs = range(1, len(loss) + 1)\n",
    "\n",
    "plt.plot(epochs, loss, 'bo', label='Training loss')\n",
    "plt.plot(epochs, val_loss, 'b', label='Validation loss')\n",
    "plt.title('Training and validation loss')\n",
    "plt.xlabel('Epochs')\n",
    "plt.ylabel('Loss')\n",
    "plt.legend()\n",
    "\n",
    "plt.show()"
   ]
  },
  {
   "cell_type": "markdown",
   "metadata": {},
   "source": [
    "## 최종 모델 훈련하기"
   ]
  },
  {
   "cell_type": "code",
   "execution_count": 64,
   "metadata": {},
   "outputs": [
    {
     "name": "stdout",
     "output_type": "stream",
     "text": [
      "27/27 [==============================] - 0s 441us/step - loss: 7.0825 - mae: 2.0687\n"
     ]
    }
   ],
   "source": [
    "model = build_model()\n",
    "model.fit(x_train, y_train, epochs=25, batch_size=1, verbose=0) # 전체 데이터로 훈련\n",
    "test_mse_socre, test_mae_score = model.evaluate(x_test, y_test)"
   ]
  },
  {
   "cell_type": "code",
   "execution_count": 65,
   "metadata": {},
   "outputs": [
    {
     "data": {
      "text/plain": [
       "2.0687079429626465"
      ]
     },
     "execution_count": 65,
     "metadata": {},
     "output_type": "execute_result"
    }
   ],
   "source": [
    "test_mae_score"
   ]
  },
  {
   "cell_type": "markdown",
   "metadata": {},
   "source": [
    "## k-겹 검증하기 & 각 폴드에서 검증 점수를 로그에 저장하기"
   ]
  },
  {
   "cell_type": "code",
   "execution_count": 29,
   "metadata": {},
   "outputs": [
    {
     "name": "stdout",
     "output_type": "stream",
     "text": [
      "처리중인 폴드 # 0\n",
      "처리중인 폴드 # 1\n",
      "처리중인 폴드 # 2\n",
      "처리중인 폴드 # 3\n",
      "소요시간: 540.2895741462708\n"
     ]
    }
   ],
   "source": [
    "from time import time\n",
    "\n",
    "now = time()\n",
    "\n",
    "k = 4\n",
    "\n",
    "num_val_samples = len(x_train) // k\n",
    "num_epochs = 100\n",
    "all_scores = []\n",
    "all_mae_histories = []\n",
    "for i in range(k):\n",
    "    print('처리중인 폴드 #', i)\n",
    "    val_data = x_train[i * num_val_samples: (i + 1) * num_val_samples]\n",
    "    val_targets = x_train[i * num_val_samples: (i + 1) * num_val_samples]\n",
    "    \n",
    "    partial_train_data = np.concatenate(\n",
    "    [x_train[:i * num_val_samples],\n",
    "    x_train[(i + 1) * num_val_samples:]],\n",
    "    axis=0)\n",
    "    partial_train_targets = np.concatenate(\n",
    "    [y_train[:i * num_val_samples],\n",
    "    y_train[(i + 1) * num_val_samples:]],\n",
    "    axis=0)\n",
    "    \n",
    "    model = build_model()\n",
    "    history = model.fit(partial_train_data, partial_train_targets, epochs=num_epochs, validation_data=(val_data, val_targets), batch_size=1, verbose=0) # verbose=0이므로 훈련 과정이 출력되지 않습니다.\n",
    "    mae_history = history.history['val_mae']\n",
    "    all_mae_histories.append(mae_history)\n",
    "    val_mse, val_mae = model.evaluate(val_data, val_targets, verbose=0)\n",
    "    all_scores.append(val_mae)\n",
    "print('소요시간:', time() - now)"
   ]
  },
  {
   "cell_type": "code",
   "execution_count": 31,
   "metadata": {},
   "outputs": [
    {
     "data": {
      "text/plain": [
       "[10.328258514404297, 9.374094009399414, 9.378512382507324, 10.148344993591309]"
      ]
     },
     "execution_count": 31,
     "metadata": {},
     "output_type": "execute_result"
    }
   ],
   "source": [
    "all_scores"
   ]
  },
  {
   "cell_type": "code",
   "execution_count": 32,
   "metadata": {},
   "outputs": [
    {
     "data": {
      "text/plain": [
       "9.807302474975586"
      ]
     },
     "execution_count": 32,
     "metadata": {},
     "output_type": "execute_result"
    }
   ],
   "source": [
    "np.mean(all_scores)"
   ]
  },
  {
   "cell_type": "markdown",
   "metadata": {},
   "source": [
    "## K-겹 검증 점수 평균을 기록하기"
   ]
  },
  {
   "cell_type": "code",
   "execution_count": 36,
   "metadata": {},
   "outputs": [],
   "source": [
    "average_mae_history = [np.mean([x[i] for x in all_mae_histories]) for i in range(num_epochs)]"
   ]
  },
  {
   "cell_type": "code",
   "execution_count": 37,
   "metadata": {},
   "outputs": [
    {
     "data": {
      "text/plain": [
       "[9.749420166015625,\n",
       " 10.096515893936157,\n",
       " 9.983518123626709,\n",
       " 9.403005361557007,\n",
       " 10.171999216079712,\n",
       " 10.014494180679321,\n",
       " 9.831748962402344,\n",
       " 10.237147808074951,\n",
       " 9.829856872558594,\n",
       " 10.037078857421875,\n",
       " 10.369608402252197,\n",
       " 10.367894887924194,\n",
       " 9.997313022613525,\n",
       " 9.960306882858276,\n",
       " 9.954254150390625,\n",
       " 9.707690477371216,\n",
       " 9.71474838256836,\n",
       " 9.927403450012207,\n",
       " 9.893332481384277,\n",
       " 10.218606233596802,\n",
       " 9.799204587936401,\n",
       " 9.952880382537842,\n",
       " 9.961086511611938,\n",
       " 9.866527557373047,\n",
       " 10.018632650375366,\n",
       " 9.750781536102295,\n",
       " 9.771602869033813,\n",
       " 10.101972103118896,\n",
       " 10.042552709579468,\n",
       " 10.015495777130127,\n",
       " 9.70323395729065,\n",
       " 9.751240015029907,\n",
       " 10.100850582122803,\n",
       " 10.191240072250366,\n",
       " 9.959596157073975,\n",
       " 9.929439544677734,\n",
       " 10.130214929580688,\n",
       " 10.144275426864624,\n",
       " 10.054374694824219,\n",
       " 9.955147981643677,\n",
       " 9.987643480300903,\n",
       " 10.054059267044067,\n",
       " 10.086687803268433,\n",
       " 9.997151136398315,\n",
       " 10.146696090698242,\n",
       " 9.939436435699463,\n",
       " 10.248588800430298,\n",
       " 10.287896156311035,\n",
       " 10.021493673324585,\n",
       " 9.967773199081421,\n",
       " 9.984015941619873,\n",
       " 10.10442566871643,\n",
       " 9.910139799118042,\n",
       " 10.144179821014404,\n",
       " 10.167157173156738,\n",
       " 9.78254508972168,\n",
       " 9.882235050201416,\n",
       " 10.053611993789673,\n",
       " 9.903977155685425,\n",
       " 9.97907018661499,\n",
       " 10.05790090560913,\n",
       " 10.033385753631592,\n",
       " 10.22671627998352,\n",
       " 9.958516597747803,\n",
       " 9.98323106765747,\n",
       " 9.927115201950073,\n",
       " 10.017324924468994,\n",
       " 9.842540264129639,\n",
       " 9.91860818862915,\n",
       " 9.989158153533936,\n",
       " 10.102117538452148,\n",
       " 10.104018449783325,\n",
       " 9.815821647644043,\n",
       " 9.894614458084106,\n",
       " 9.907312154769897,\n",
       " 10.0270836353302,\n",
       " 9.96494722366333,\n",
       " 9.888907670974731,\n",
       " 10.090253829956055,\n",
       " 10.494043350219727,\n",
       " 9.71912169456482,\n",
       " 10.125487804412842,\n",
       " 10.176367282867432,\n",
       " 9.673516750335693,\n",
       " 9.845948696136475,\n",
       " 9.888067483901978,\n",
       " 9.587677478790283,\n",
       " 10.08578610420227,\n",
       " 9.906491041183472,\n",
       " 10.180638074874878,\n",
       " 10.001944780349731,\n",
       " 10.00042462348938,\n",
       " 9.733517408370972,\n",
       " 10.026790380477905,\n",
       " 10.049416065216064,\n",
       " 10.217272281646729,\n",
       " 10.19155240058899,\n",
       " 10.031042575836182,\n",
       " 10.144180059432983,\n",
       " 9.80729866027832]"
      ]
     },
     "execution_count": 37,
     "metadata": {},
     "output_type": "execute_result"
    }
   ],
   "source": [
    "average_mae_history"
   ]
  },
  {
   "cell_type": "markdown",
   "metadata": {},
   "source": [
    "## 검증점수 그래프"
   ]
  },
  {
   "cell_type": "code",
   "execution_count": 49,
   "metadata": {},
   "outputs": [
    {
     "data": {
      "image/png": "[encoded data removed]",
      "text/plain": [
       "<Figure size 432x288 with 1 Axes>"
      ]
     },
     "metadata": {
      "needs_background": "light"
     },
     "output_type": "display_data"
    }
   ],
   "source": [
    "import matplotlib.pyplot as plt\n",
    "\n",
    "plt.plot(range(1, len(average_mae_history) + 1), average_mae_history)\n",
    "plt.xlabel('Epochs')\n",
    "plt.ylabel('Validation MAE')\n",
    "plt.show()"
   ]
  },
  {
   "cell_type": "code",
   "execution_count": 52,
   "metadata": {},
   "outputs": [],
   "source": [
    "prediction = model.predict(x_test)"
   ]
  },
  {
   "cell_type": "code",
   "execution_count": 53,
   "metadata": {},
   "outputs": [
    {
     "name": "stdout",
     "output_type": "stream",
     "text": [
      "[11.912687] 12\n",
      "[8.540217] 14\n",
      "[8.990698] 13\n",
      "[12.567167] 13\n",
      "[11.626442] 12\n",
      "[15.493996] 14\n",
      "[8.506897] 11\n",
      "[9.59878] 13\n",
      "[10.203464] 10\n",
      "[11.864025] 11\n",
      "[10.543788] 13\n",
      "[10.981731] 15\n",
      "[7.3447456] 8\n",
      "[8.024775] 10\n",
      "[8.20125] 10\n",
      "[6.9703617] 6\n",
      "[9.022415] 8\n",
      "[7.498088] 5\n",
      "[23.885422] 20\n",
      "[15.005371] 19\n",
      "[8.400533] 9\n",
      "[8.227311] 9\n",
      "[10.95661] 10\n",
      "[8.570133] 11\n",
      "[8.573002] 11\n",
      "[7.632538] 5\n",
      "[20.37208] 17\n",
      "[14.81598] 13\n",
      "[22.319471] 17\n",
      "[9.675738] 12\n",
      "[8.22637] 10\n",
      "[13.72888] 16\n",
      "[16.33547] 19\n",
      "[10.45587] 10\n",
      "[9.727384] 10\n",
      "[6.6298704] 6\n",
      "[5.9345245] 5\n",
      "[8.465397] 8\n",
      "[7.317356] 8\n",
      "[4.75861] 5\n",
      "[14.879736] 19\n",
      "[11.511734] 15\n",
      "[9.701224] 14\n",
      "[7.1528015] 7\n",
      "[9.256181] 13\n",
      "[14.186811] 13\n",
      "[15.302916] 18\n",
      "[11.388364] 13\n",
      "[13.9503] 16\n",
      "[9.858742] 10\n",
      "[14.55431] 13\n",
      "[14.421745] 19\n",
      "[14.44977] 10\n",
      "[13.450691] 13\n",
      "[18.54707] 13\n",
      "[17.698553] 18\n",
      "[12.814797] 12\n",
      "[7.99555] 9\n",
      "[7.3376236] 8\n",
      "[14.833462] 10\n",
      "[13.773341] 18\n",
      "[12.595677] 13\n",
      "[7.959443] 9\n",
      "[8.934746] 8\n",
      "[6.261094] 7\n",
      "[7.924814] 8\n",
      "[6.510663] 6\n",
      "[6.937825] 7\n",
      "[7.098193] 7\n",
      "[6.9385366] 6\n",
      "[6.827981] 7\n",
      "[7.1715164] 8\n",
      "[8.7382145] 9\n",
      "[8.008675] 7\n",
      "[12.399577] 9\n",
      "[9.072602] 7\n",
      "[9.789732] 9\n",
      "[7.0660315] 8\n",
      "[8.509461] 8\n",
      "[14.236916] 10\n",
      "[10.2732] 11\n",
      "[10.209756] 9\n",
      "[10.27079] 11\n",
      "[12.412959] 10\n",
      "[12.619513] 10\n",
      "[12.744563] 13\n",
      "[14.040013] 13\n",
      "[5.69182] 4\n",
      "[6.0652] 6\n",
      "[6.239684] 6\n",
      "[7.182234] 5\n",
      "[6.840021] 6\n",
      "[6.9590483] 6\n",
      "[6.6561346] 6\n",
      "[6.9525785] 7\n",
      "[7.043071] 6\n",
      "[7.334648] 8\n",
      "[7.034507] 6\n",
      "[8.597033] 8\n",
      "[8.596607] 7\n",
      "[9.198604] 7\n",
      "[7.341772] 8\n",
      "[9.118496] 7\n",
      "[8.965988] 9\n",
      "[8.91231] 8\n",
      "[10.127196] 8\n",
      "[7.923147] 8\n",
      "[9.546238] 7\n",
      "[8.64252] 7\n",
      "[9.603278] 7\n",
      "[10.170161] 8\n",
      "[8.532309] 8\n",
      "[8.400345] 8\n",
      "[7.6593246] 8\n",
      "[11.486353] 9\n",
      "[10.057204] 12\n",
      "[12.168308] 10\n",
      "[8.655412] 8\n",
      "[8.076021] 8\n",
      "[10.644395] 9\n",
      "[11.6509285] 11\n",
      "[12.045427] 10\n",
      "[13.358414] 11\n",
      "[11.247417] 10\n",
      "[12.429983] 9\n",
      "[11.047706] 9\n",
      "[13.018762] 10\n",
      "[12.769114] 11\n",
      "[16.33822] 10\n",
      "[15.124448] 11\n",
      "[10.417454] 9\n",
      "[4.5340424] 3\n",
      "[5.1069345] 4\n",
      "[6.5043488] 6\n",
      "[6.7835684] 6\n",
      "[6.7115765] 7\n",
      "[6.861953] 6\n",
      "[7.2334337] 7\n",
      "[6.8545218] 7\n",
      "[7.3832016] 8\n",
      "[6.311493] 6\n",
      "[12.146278] 7\n",
      "[8.447386] 7\n",
      "[7.5672827] 8\n",
      "[7.3740788] 7\n",
      "[7.4850407] 8\n",
      "[7.993243] 8\n",
      "[8.7309675] 8\n",
      "[8.979007] 8\n",
      "[9.955659] 10\n",
      "[7.9992228] 8\n",
      "[8.688924] 8\n",
      "[7.308404] 8\n",
      "[8.636445] 9\n",
      "[7.4275236] 8\n",
      "[7.256095] 8\n",
      "[8.788977] 9\n",
      "[10.745892] 10\n",
      "[10.088824] 9\n",
      "[8.958968] 8\n",
      "[11.069273] 12\n",
      "[10.978621] 10\n",
      "[12.92596] 11\n",
      "[10.7531395] 10\n",
      "[10.928258] 10\n",
      "[9.643134] 9\n",
      "[10.473748] 11\n",
      "[11.121475] 9\n",
      "[10.62332] 10\n",
      "[10.904642] 9\n",
      "[10.676443] 11\n",
      "[11.868992] 11\n",
      "[12.446798] 9\n",
      "[11.808985] 10\n",
      "[11.694223] 12\n",
      "[13.380127] 11\n",
      "[10.933798] 11\n",
      "[7.330206] 11\n",
      "[11.6893215] 10\n",
      "[12.276592] 11\n",
      "[5.1600213] 3\n",
      "[5.658252] 4\n",
      "[6.0903997] 4\n",
      "[6.349374] 6\n",
      "[6.1385875] 6\n",
      "[6.4902706] 6\n",
      "[6.793956] 7\n",
      "[6.589514] 6\n",
      "[6.233164] 6\n",
      "[6.63925] 7\n",
      "[6.733575] 7\n",
      "[6.623069] 7\n",
      "[6.9670963] 6\n",
      "[6.9538183] 6\n",
      "[6.545842] 9\n",
      "[6.8332844] 8\n",
      "[7.8542566] 6\n",
      "[8.189488] 7\n",
      "[9.413612] 8\n",
      "[6.911496] 8\n",
      "[7.870242] 8\n",
      "[8.833378] 8\n",
      "[8.750267] 8\n",
      "[8.312606] 9\n",
      "[8.454903] 8\n",
      "[7.6135445] 7\n",
      "[7.5115347] 9\n",
      "[8.329019] 7\n",
      "[8.724857] 9\n",
      "[7.525242] 8\n",
      "[8.560213] 9\n",
      "[11.090189] 8\n",
      "[8.9338] 9\n",
      "[9.827428] 8\n",
      "[7.126333] 8\n",
      "[8.469803] 9\n",
      "[8.102724] 8\n",
      "[10.607196] 10\n",
      "[11.394996] 10\n",
      "[10.076442] 10\n",
      "[9.479122] 9\n",
      "[8.314874] 8\n",
      "[7.703143] 8\n",
      "[8.50488] 9\n",
      "[10.480782] 9\n",
      "[11.344037] 9\n",
      "[11.333445] 10\n",
      "[9.586533] 10\n",
      "[9.928793] 11\n",
      "[10.121173] 9\n",
      "[10.659889] 9\n",
      "[10.118187] 9\n",
      "[9.308575] 10\n",
      "[10.548175] 9\n",
      "[6.806237] 8\n",
      "[12.33259] 11\n",
      "[14.838866] 11\n",
      "[10.863294] 10\n",
      "[8.736886] 9\n",
      "[10.35435] 10\n",
      "[9.970986] 9\n",
      "[10.371746] 10\n",
      "[11.42925] 9\n",
      "[12.212599] 11\n",
      "[10.118376] 9\n",
      "[11.925627] 11\n",
      "[10.618362] 10\n",
      "[11.408588] 12\n",
      "[11.605311] 11\n",
      "[13.736488] 11\n",
      "[11.19297] 9\n",
      "[10.897276] 11\n",
      "[5.0947475] 8\n",
      "[10.272178] 12\n",
      "[12.597559] 11\n",
      "[9.780942] 10\n",
      "[11.857714] 11\n",
      "[12.038845] 12\n",
      "[12.563124] 12\n",
      "[4.618068] 4\n",
      "[7.210434] 8\n",
      "[6.5603695] 5\n",
      "[8.30024] 7\n",
      "[7.0024796] 8\n",
      "[8.289959] 8\n",
      "[7.6033945] 7\n",
      "[7.6170197] 8\n",
      "[9.443915] 7\n",
      "[8.323039] 9\n",
      "[9.336349] 9\n",
      "[10.865586] 10\n",
      "[16.77385] 10\n",
      "[9.817115] 11\n",
      "[12.0359955] 11\n",
      "[11.614031] 9\n",
      "[11.765762] 14\n",
      "[9.052907] 9\n",
      "[11.015226] 11\n",
      "[10.815] 12\n",
      "[11.023931] 9\n",
      "[6.880579] 8\n",
      "[10.379163] 10\n",
      "[11.449838] 10\n",
      "[10.978447] 9\n",
      "[12.880304] 10\n",
      "[13.228991] 10\n",
      "[12.370811] 10\n",
      "[14.052989] 13\n",
      "[5.803551] 6\n",
      "[6.0617332] 7\n",
      "[6.276738] 5\n",
      "[6.1480117] 5\n",
      "[5.8168335] 5\n",
      "[6.650794] 6\n",
      "[7.194744] 6\n",
      "[6.6955643] 8\n",
      "[7.691101] 6\n",
      "[8.4596615] 8\n",
      "[7.181772] 8\n",
      "[8.379755] 7\n",
      "[9.033746] 9\n",
      "[7.638335] 8\n",
      "[6.950823] 8\n",
      "[8.71592] 7\n",
      "[7.7561836] 9\n",
      "[7.7186565] 9\n",
      "[6.838763] 8\n",
      "[8.597377] 9\n",
      "[9.478853] 9\n",
      "[6.83078] 8\n",
      "[8.779705] 10\n",
      "[9.180872] 10\n",
      "[8.895195] 9\n",
      "[9.975836] 9\n",
      "[10.158499] 9\n",
      "[8.493044] 11\n",
      "[9.588942] 7\n",
      "[10.774793] 10\n",
      "[9.441471] 9\n",
      "[8.768929] 10\n",
      "[10.332034] 10\n",
      "[8.292444] 8\n",
      "[9.063626] 9\n",
      "[10.086057] 9\n",
      "[8.657484] 9\n",
      "[6.6288223] 8\n",
      "[10.99112] 11\n",
      "[10.337402] 10\n",
      "[9.638851] 9\n",
      "[7.831354] 8\n",
      "[10.715435] 10\n",
      "[8.524084] 10\n",
      "[10.598482] 10\n",
      "[10.192306] 12\n",
      "[12.144629] 10\n",
      "[10.883] 10\n",
      "[12.176199] 11\n",
      "[12.895269] 10\n",
      "[9.835117] 10\n",
      "[11.541963] 9\n",
      "[10.470248] 11\n",
      "[10.843664] 11\n",
      "[13.97832] 10\n",
      "[11.102663] 11\n",
      "[10.792562] 10\n",
      "[9.867698] 14\n",
      "[12.103479] 11\n",
      "[14.011898] 11\n",
      "[13.793508] 9\n",
      "[13.763774] 13\n",
      "[12.861029] 12\n",
      "[11.216558] 11\n",
      "[10.709323] 11\n",
      "[10.737217] 10\n",
      "[11.328391] 10\n",
      "[11.140792] 13\n",
      "[14.226038] 12\n",
      "[12.058727] 10\n",
      "[12.297907] 11\n",
      "[11.977107] 10\n",
      "[16.419935] 10\n",
      "[12.01315] 11\n",
      "[10.83724] 11\n",
      "[11.663948] 11\n",
      "[12.131935] 9\n",
      "[11.952721] 11\n",
      "[10.406228] 11\n",
      "[12.894951] 9\n",
      "[12.644953] 10\n",
      "[13.004026] 11\n",
      "[11.878156] 11\n",
      "[12.876032] 10\n",
      "[13.56347] 11\n",
      "[11.996019] 11\n",
      "[14.247522] 11\n",
      "[4.7008805] 5\n",
      "[6.8593645] 7\n",
      "[7.108062] 7\n",
      "[6.396329] 7\n",
      "[8.230104] 7\n",
      "[8.488481] 9\n",
      "[7.687011] 9\n",
      "[10.910071] 9\n",
      "[9.478764] 7\n",
      "[9.114943] 9\n",
      "[12.876032] 8\n",
      "[10.554577] 7\n",
      "[11.295056] 10\n",
      "[8.131915] 9\n",
      "[7.413028] 9\n",
      "[10.895733] 9\n",
      "[7.7122517] 10\n",
      "[9.564501] 10\n",
      "[11.3256235] 10\n",
      "[10.730033] 9\n",
      "[10.172681] 10\n",
      "[9.761747] 9\n",
      "[12.384733] 9\n",
      "[10.012609] 9\n",
      "[10.428361] 11\n",
      "[11.811298] 12\n",
      "[12.55361] 13\n",
      "[14.750727] 12\n",
      "[5.9421396] 5\n",
      "[6.058798] 5\n",
      "[6.761322] 7\n",
      "[7.112466] 6\n",
      "[6.9656696] 6\n",
      "[7.871869] 7\n",
      "[6.8487043] 8\n",
      "[7.0881815] 7\n",
      "[8.427074] 8\n",
      "[6.9292355] 8\n",
      "[6.642915] 8\n",
      "[6.704361] 8\n",
      "[8.92368] 9\n",
      "[8.977378] 10\n",
      "[9.352151] 9\n",
      "[13.454235] 9\n",
      "[11.31448] 9\n",
      "[9.830139] 10\n",
      "[7.3414516] 8\n",
      "[9.4528] 11\n",
      "[10.070541] 10\n",
      "[10.1196] 9\n",
      "[11.568052] 10\n",
      "[12.661478] 10\n",
      "[11.836354] 9\n",
      "[9.466844] 9\n",
      "[8.587042] 9\n",
      "[9.652164] 10\n",
      "[9.955091] 9\n",
      "[12.945837] 9\n",
      "[8.794032] 9\n",
      "[6.7120466] 8\n",
      "[9.957247] 13\n",
      "[10.820856] 9\n",
      "[9.211626] 9\n",
      "[10.541054] 10\n",
      "[12.893996] 10\n",
      "[9.885914] 10\n",
      "[11.434964] 11\n",
      "[11.340986] 12\n",
      "[10.612605] 11\n",
      "[11.132875] 9\n",
      "[10.569324] 10\n",
      "[15.29579] 12\n",
      "[7.5606594] 8\n",
      "[10.683992] 10\n",
      "[12.071909] 10\n",
      "[11.84135] 11\n",
      "[12.670371] 13\n",
      "[12.275068] 14\n",
      "[11.264617] 10\n",
      "[13.707595] 12\n",
      "[13.596672] 11\n",
      "[18.109255] 13\n",
      "[13.101324] 10\n",
      "[12.235882] 11\n",
      "[22.054316] 12\n",
      "[5.254756] 3\n",
      "[6.216056] 6\n",
      "[5.718379] 7\n",
      "[6.7338257] 7\n",
      "[7.3800774] 9\n",
      "[8.454802] 8\n",
      "[6.5901384] 8\n",
      "[9.097189] 10\n",
      "[7.116373] 8\n",
      "[8.582387] 8\n",
      "[10.335756] 9\n",
      "[12.410075] 12\n",
      "[6.5389385] 8\n",
      "[6.694229] 6\n",
      "[6.8005486] 8\n",
      "[6.8047686] 8\n",
      "[12.690944] 8\n",
      "[10.0905485] 9\n",
      "[8.920142] 8\n",
      "[11.930473] 10\n",
      "[13.06899] 10\n",
      "[12.9999] 9\n",
      "[9.483453] 9\n",
      "[9.837786] 7\n",
      "[14.372729] 11\n",
      "[13.834129] 10\n",
      "[20.643438] 11\n",
      "[10.660047] 11\n",
      "[13.217929] 12\n",
      "[12.810334] 14\n",
      "[13.686167] 10\n",
      "[10.597661] 14\n",
      "[11.111157] 11\n",
      "[8.75011] 6\n",
      "[10.1771755] 7\n",
      "[8.775877] 9\n",
      "[4.1602745] 4\n",
      "[8.209652] 8\n",
      "[6.853677] 8\n",
      "[9.157386] 9\n",
      "[10.76454] 11\n",
      "[11.000234] 9\n",
      "[11.655569] 16\n",
      "[15.13657] 14\n",
      "[9.281103] 11\n",
      "[6.447753] 6\n",
      "[8.185867] 9\n",
      "[15.624829] 14\n",
      "[7.983059] 6\n",
      "[8.667228] 7\n",
      "[13.882636] 10\n",
      "[13.559559] 12\n",
      "[9.398769] 9\n",
      "[14.053805] 11\n",
      "[6.666115] 8\n",
      "[6.7222624] 9\n",
      "[17.005634] 16\n",
      "[14.190864] 12\n",
      "[12.169522] 9\n",
      "[16.73712] 14\n",
      "[16.80998] 14\n",
      "[10.447367] 10\n",
      "[16.236488] 18\n",
      "[6.0012903] 5\n",
      "[15.030196] 19\n",
      "[10.992282] 10\n",
      "[10.85936] 15\n",
      "[7.1438637] 8\n",
      "[12.135538] 9\n",
      "[9.930343] 15\n",
      "[8.540918] 12\n",
      "[11.804264] 9\n",
      "[6.3517313] 5\n",
      "[12.218799] 12\n",
      "[7.415777] 9\n",
      "[15.796947] 16\n",
      "[16.869707] 15\n",
      "[10.270625] 10\n",
      "[10.446601] 15\n",
      "[7.014538] 7\n",
      "[11.338984] 10\n",
      "[14.59283] 15\n",
      "[15.014776] 10\n",
      "[6.5625887] 9\n",
      "[7.1240816] 7\n",
      "[8.997366] 7\n",
      "[9.41996] 9\n",
      "[9.294064] 12\n",
      "[17.401619] 12\n",
      "[11.522239] 16\n",
      "[15.507569] 12\n",
      "[16.801922] 13\n",
      "[10.131615] 9\n",
      "[10.43511] 12\n",
      "[13.151357] 13\n",
      "[16.177006] 14\n",
      "[12.3948765] 17\n",
      "[11.862663] 10\n",
      "[4.0788155] 4\n",
      "[9.691835] 15\n",
      "[11.78808] 12\n",
      "[4.2835665] 4\n",
      "[15.850035] 16\n",
      "[13.8717165] 16\n",
      "[8.48858] 6\n",
      "[6.1125383] 4\n",
      "[11.099215] 13\n",
      "[10.782356] 9\n",
      "[9.05871] 10\n",
      "[10.841979] 13\n",
      "[7.287876] 10\n",
      "[9.974203] 15\n",
      "[10.735212] 11\n",
      "[16.275919] 19\n",
      "[12.491794] 11\n",
      "[12.269599] 10\n",
      "[15.50111] 13\n",
      "[14.185744] 18\n",
      "[13.355154] 11\n",
      "[6.7936707] 8\n",
      "[8.496075] 10\n",
      "[12.680135] 10\n",
      "[7.8981647] 12\n",
      "[13.626661] 20\n",
      "[6.347826] 8\n",
      "[10.506048] 14\n",
      "[12.563846] 12\n",
      "[20.29075] 10\n",
      "[17.130306] 16\n",
      "[15.017633] 21\n",
      "[15.898728] 17\n",
      "[12.548028] 11\n",
      "[5.785838] 6\n",
      "[5.7383327] 5\n",
      "[14.806669] 11\n",
      "[12.105044] 13\n",
      "[15.152882] 13\n",
      "[8.034945] 10\n",
      "[12.311167] 14\n",
      "[11.642458] 11\n",
      "[15.663901] 15\n",
      "[10.254478] 11\n",
      "[17.712732] 14\n",
      "[17.664154] 20\n",
      "[5.7534876] 6\n",
      "[13.892209] 13\n",
      "[13.116786] 16\n",
      "[12.5751705] 12\n",
      "[13.205967] 13\n",
      "[13.830781] 13\n",
      "[14.089171] 13\n",
      "[6.387518] 5\n",
      "[8.244137] 8\n",
      "[8.220548] 7\n",
      "[8.9018345] 9\n",
      "[11.498729] 12\n",
      "[9.845904] 10\n",
      "[15.844283] 9\n",
      "[13.0671215] 11\n",
      "[13.517828] 11\n",
      "[13.543501] 10\n",
      "[11.711291] 10\n",
      "[6.106014] 4\n",
      "[5.683407] 5\n",
      "[6.068695] 6\n",
      "[6.0133066] 6\n",
      "[6.2240553] 6\n",
      "[7.211136] 6\n",
      "[6.418272] 6\n",
      "[6.9750204] 6\n",
      "[6.497903] 6\n",
      "[6.7791786] 8\n",
      "[7.107952] 7\n",
      "[6.6087313] 8\n",
      "[10.106699] 6\n",
      "[9.454398] 7\n",
      "[9.079719] 7\n",
      "[6.559304] 8\n",
      "[9.180207] 6\n",
      "[7.522812] 7\n",
      "[6.498539] 8\n",
      "[12.147979] 6\n",
      "[10.518314] 6\n",
      "[10.664764] 10\n",
      "[12.298101] 11\n",
      "[11.69972] 10\n",
      "[15.928533] 11\n",
      "[6.5825195] 8\n",
      "[13.952066] 11\n",
      "[13.640136] 10\n",
      "[12.119622] 9\n",
      "[17.023542] 10\n",
      "[14.820834] 12\n",
      "[4.8401413] 4\n",
      "[5.557479] 5\n",
      "[5.8652525] 6\n",
      "[6.6321974] 6\n",
      "[6.341881] 6\n",
      "[6.565956] 6\n",
      "[7.8809977] 7\n",
      "[7.6101627] 6\n",
      "[8.755469] 8\n",
      "[7.1335363] 8\n",
      "[9.501867] 10\n",
      "[8.435463] 9\n",
      "[10.11486] 9\n",
      "[9.10511] 11\n",
      "[10.389804] 12\n",
      "[6.715686] 8\n",
      "[9.235651] 9\n",
      "[9.846216] 9\n",
      "[6.8155813] 8\n",
      "[6.5793095] 8\n",
      "[10.15815] 10\n",
      "[9.125057] 10\n",
      "[11.192944] 9\n",
      "[11.565154] 11\n",
      "[6.518837] 8\n",
      "[9.87958] 10\n",
      "[10.826682] 11\n",
      "[13.512574] 10\n",
      "[12.224768] 11\n",
      "[6.00636] 6\n",
      "[6.044956] 6\n",
      "[6.6595697] 7\n",
      "[6.637122] 7\n",
      "[6.5834084] 6\n",
      "[10.41388] 8\n",
      "[7.842561] 7\n",
      "[6.8673887] 7\n",
      "[6.507469] 8\n",
      "[6.5690937] 8\n",
      "[8.938873] 10\n",
      "[9.266353] 7\n",
      "[9.215513] 11\n",
      "[6.7592096] 8\n",
      "[9.055205] 10\n",
      "[8.966253] 11\n",
      "[10.027764] 11\n",
      "[9.562731] 12\n",
      "[8.996382] 10\n",
      "[9.3964405] 10\n",
      "[7.3126774] 8\n",
      "[9.403211] 10\n",
      "[11.123523] 9\n",
      "[8.796997] 11\n",
      "[10.607998] 11\n",
      "[9.702806] 13\n",
      "[11.859311] 9\n",
      "[10.684501] 9\n",
      "[10.563772] 10\n",
      "[14.049421] 13\n",
      "[11.9156475] 10\n",
      "[12.031792] 10\n",
      "[11.247307] 9\n",
      "[14.303074] 11\n",
      "[13.645442] 11\n",
      "[12.47565] 10\n",
      "[8.429327] 8\n",
      "[6.8018217] 8\n",
      "[10.764799] 10\n",
      "[9.741469] 9\n",
      "[12.365842] 11\n",
      "[10.754862] 9\n",
      "[6.5725164] 6\n",
      "[6.879678] 7\n",
      "[7.4551926] 6\n",
      "[7.085865] 7\n",
      "[6.3659973] 8\n",
      "[7.7950897] 7\n",
      "[6.772135] 8\n",
      "[6.3649244] 8\n",
      "[9.438485] 9\n",
      "[6.7021933] 8\n",
      "[7.9406595] 8\n",
      "[9.266182] 8\n",
      "[8.878736] 9\n",
      "[8.717654] 10\n",
      "[7.918027] 8\n",
      "[6.483759] 8\n",
      "[11.425164] 11\n",
      "[12.996826] 9\n",
      "[9.958715] 10\n",
      "[10.746425] 10\n",
      "[10.008874] 11\n",
      "[6.3861322] 8\n",
      "[10.585982] 10\n",
      "[12.249056] 9\n",
      "[9.538907] 9\n",
      "[12.496368] 11\n",
      "[10.881388] 12\n",
      "[11.750765] 11\n",
      "[12.104263] 11\n",
      "[11.074871] 13\n",
      "[11.087681] 11\n",
      "[10.909117] 12\n",
      "[11.074061] 9\n",
      "[10.836901] 9\n",
      "[10.610563] 9\n",
      "[10.6052885] 9\n",
      "[11.243022] 11\n",
      "[13.223078] 11\n",
      "[13.163456] 10\n",
      "[12.883308] 11\n",
      "[12.365988] 9\n",
      "[13.166389] 11\n",
      "[6.540597] 7\n",
      "[8.443879] 7\n",
      "[6.442114] 8\n",
      "[10.515013] 9\n",
      "[6.1908817] 8\n",
      "[9.165007] 9\n",
      "[5.827004] 8\n",
      "[8.670574] 9\n",
      "[9.564557] 10\n",
      "[9.734105] 9\n",
      "[10.814161] 9\n",
      "[12.480766] 9\n",
      "[5.7067137] 4\n",
      "[8.722879] 7\n",
      "[8.520369] 9\n",
      "[6.5259705] 8\n",
      "[8.390387] 8\n",
      "[6.2861414] 8\n",
      "[8.915638] 9\n",
      "[10.6673355] 11\n",
      "[9.867731] 10\n",
      "[6.2536144] 8\n",
      "[10.137625] 10\n",
      "[10.9863615] 10\n",
      "[10.21865] 11\n",
      "[14.390854] 10\n",
      "[10.57971] 11\n",
      "[9.596594] 9\n",
      "[12.876624] 11\n",
      "[10.120366] 9\n",
      "[11.897341] 11\n",
      "[10.693686] 11\n",
      "[11.900707] 10\n",
      "[15.045059] 10\n",
      "[12.271066] 11\n",
      "[11.77755] 13\n",
      "[11.176104] 13\n",
      "[13.245522] 11\n",
      "[18.812166] 11\n",
      "[11.953184] 10\n",
      "[12.821496] 11\n",
      "[14.365941] 11\n",
      "[5.9286585] 6\n",
      "[6.2588177] 7\n",
      "[6.066599] 6\n",
      "[6.590027] 7\n",
      "[6.274082] 8\n",
      "[6.6273756] 6\n",
      "[8.110792] 6\n",
      "[6.1509237] 8\n",
      "[6.17752] 8\n",
      "[5.917138] 8\n",
      "[10.328954] 9\n",
      "[11.512323] 11\n",
      "[10.627614] 11\n",
      "[5.83278] 8\n",
      "[6.8537445] 7\n",
      "[6.8327646] 7\n",
      "[6.55396] 7\n",
      "[7.8540916] 10\n",
      "[8.465121] 9\n",
      "[6.728607] 8\n",
      "[9.173011] 10\n",
      "[12.78673] 10\n",
      "[7.6900244] 8\n",
      "[10.19388] 11\n",
      "[10.576795] 10\n",
      "[11.97316] 9\n",
      "[9.736184] 10\n",
      "[13.1041975] 12\n"
     ]
    }
   ],
   "source": [
    "for idx in range(len(prediction)):\n",
    "    print(prediction[idx], y_test[idx])"
   ]
  },
  {
   "cell_type": "markdown",
   "metadata": {},
   "source": [
    "## 최종 모델 훈련하기"
   ]
  },
  {
   "cell_type": "code",
   "execution_count": 54,
   "metadata": {},
   "outputs": [
    {
     "name": "stdout",
     "output_type": "stream",
     "text": [
      "27/27 [==============================] - 0s 461us/step - loss: 3.3455 - mae: 1.3361\n"
     ]
    }
   ],
   "source": [
    "model = build_model()\n",
    "model.fit(x_train, y_train, epochs=200, batch_size=16, verbose=0) # 전체 데이터로 훈련\n",
    "test_mse_socre, test_mae_score = model.evaluate(x_test, y_test)"
   ]
  },
  {
   "cell_type": "code",
   "execution_count": 55,
   "metadata": {},
   "outputs": [
    {
     "data": {
      "text/plain": [
       "1.3360704183578491"
      ]
     },
     "execution_count": 55,
     "metadata": {},
     "output_type": "execute_result"
    }
   ],
   "source": [
    "test_mae_score"
   ]
  },
  {
   "cell_type": "code",
   "execution_count": null,
   "metadata": {},
   "outputs": [],
   "source": []
  }
 ],
 "metadata": {
  "kernelspec": {
   "display_name": "Python 3",
   "language": "python",
   "name": "python3"
  },
  "language_info": {
   "codemirror_mode": {
    "name": "ipython",
    "version": 3
   },
   "file_extension": ".py",
   "mimetype": "text/x-python",
   "name": "python",
   "nbconvert_exporter": "python",
   "pygments_lexer": "ipython3",
   "version": "3.8.3"
  }
 },
 "nbformat": 4,
 "nbformat_minor": 4
}
