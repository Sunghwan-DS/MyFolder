{
 "cells": [
  {
   "cell_type": "markdown",
   "metadata": {},
   "source": [
    "# HR Data Analytics Internship 개인 과제"
   ]
  },
  {
   "cell_type": "markdown",
   "metadata": {},
   "source": [
    "## 전복의 physical 특징을 기반으로 나이를 예측"
   ]
  },
  {
   "cell_type": "markdown",
   "metadata": {},
   "source": [
    "### 데이터 특성"
   ]
  },
  {
   "cell_type": "markdown",
   "metadata": {},
   "source": [
    "|구분|단위|상세설명|\n",
    "|------|---|---|\n",
    "|성별|-|M: male, F: female, I: infant|\n",
    "|길이|inch|전복의 가장 긴 단면길이|\n",
    "|지름|inch|전복의 가장 짧은 단면길이|\n",
    "|높이|inch|전복의 높이|\n",
    "|총무게|lb|전복 전체의 무게|\n",
    "|속살무게|lb|전복 속살의 무게|\n",
    "|내장무게|lb|전복 내장의 무게|\n",
    "|나이|years|전복의 나이|"
   ]
  },
  {
   "cell_type": "markdown",
   "metadata": {},
   "source": [
    "### 데이터 불러오기"
   ]
  },
  {
   "cell_type": "code",
   "execution_count": 1,
   "metadata": {},
   "outputs": [],
   "source": [
    "import pandas as pd"
   ]
  },
  {
   "cell_type": "code",
   "execution_count": 2,
   "metadata": {},
   "outputs": [
    {
     "data": {
      "text/html": [
       "<div>\n",
       "<style scoped>\n",
       "    .dataframe tbody tr th:only-of-type {\n",
       "        vertical-align: middle;\n",
       "    }\n",
       "\n",
       "    .dataframe tbody tr th {\n",
       "        vertical-align: top;\n",
       "    }\n",
       "\n",
       "    .dataframe thead th {\n",
       "        text-align: right;\n",
       "    }\n",
       "</style>\n",
       "<table border=\"1\" class=\"dataframe\">\n",
       "  <thead>\n",
       "    <tr style=\"text-align: right;\">\n",
       "      <th></th>\n",
       "      <th>ID</th>\n",
       "      <th>성별</th>\n",
       "      <th>길이</th>\n",
       "      <th>지름</th>\n",
       "      <th>높이</th>\n",
       "      <th>총무게</th>\n",
       "      <th>속살무게</th>\n",
       "      <th>내장무게</th>\n",
       "      <th>나이</th>\n",
       "    </tr>\n",
       "  </thead>\n",
       "  <tbody>\n",
       "    <tr>\n",
       "      <th>0</th>\n",
       "      <td>1</td>\n",
       "      <td>M</td>\n",
       "      <td>4.55</td>\n",
       "      <td>3.65</td>\n",
       "      <td>0.95</td>\n",
       "      <td>0.5140</td>\n",
       "      <td>0.2245</td>\n",
       "      <td>0.1010</td>\n",
       "      <td>15</td>\n",
       "    </tr>\n",
       "    <tr>\n",
       "      <th>1</th>\n",
       "      <td>2</td>\n",
       "      <td>M</td>\n",
       "      <td>3.50</td>\n",
       "      <td>2.65</td>\n",
       "      <td>0.90</td>\n",
       "      <td>0.2255</td>\n",
       "      <td>0.0995</td>\n",
       "      <td>0.0485</td>\n",
       "      <td>7</td>\n",
       "    </tr>\n",
       "    <tr>\n",
       "      <th>2</th>\n",
       "      <td>3</td>\n",
       "      <td>F</td>\n",
       "      <td>5.30</td>\n",
       "      <td>4.20</td>\n",
       "      <td>1.35</td>\n",
       "      <td>0.6770</td>\n",
       "      <td>0.2565</td>\n",
       "      <td>0.1415</td>\n",
       "      <td>9</td>\n",
       "    </tr>\n",
       "    <tr>\n",
       "      <th>3</th>\n",
       "      <td>4</td>\n",
       "      <td>M</td>\n",
       "      <td>4.40</td>\n",
       "      <td>3.65</td>\n",
       "      <td>1.25</td>\n",
       "      <td>0.5160</td>\n",
       "      <td>0.2155</td>\n",
       "      <td>0.1140</td>\n",
       "      <td>10</td>\n",
       "    </tr>\n",
       "    <tr>\n",
       "      <th>4</th>\n",
       "      <td>5</td>\n",
       "      <td>I</td>\n",
       "      <td>3.30</td>\n",
       "      <td>2.55</td>\n",
       "      <td>0.80</td>\n",
       "      <td>0.2050</td>\n",
       "      <td>0.0895</td>\n",
       "      <td>0.0395</td>\n",
       "      <td>7</td>\n",
       "    </tr>\n",
       "  </tbody>\n",
       "</table>\n",
       "</div>"
      ],
      "text/plain": [
       "   ID 성별    길이    지름    높이     총무게    속살무게    내장무게  나이\n",
       "0   1  M  4.55  3.65  0.95  0.5140  0.2245  0.1010  15\n",
       "1   2  M  3.50  2.65  0.90  0.2255  0.0995  0.0485   7\n",
       "2   3  F  5.30  4.20  1.35  0.6770  0.2565  0.1415   9\n",
       "3   4  M  4.40  3.65  1.25  0.5160  0.2155  0.1140  10\n",
       "4   5  I  3.30  2.55  0.80  0.2050  0.0895  0.0395   7"
      ]
     },
     "execution_count": 2,
     "metadata": {},
     "output_type": "execute_result"
    }
   ],
   "source": [
    "raw_data = pd.read_excel('2020 HR Data Analytics 데이터 (사후과제시 열람).xlsx', sheet_name = 1)\n",
    "raw_data.head()"
   ]
  },
  {
   "cell_type": "markdown",
   "metadata": {},
   "source": [
    "### 정규화"
   ]
  },
  {
   "cell_type": "code",
   "execution_count": 3,
   "metadata": {},
   "outputs": [],
   "source": [
    "data_age = raw_data[[\"나이\"]]\n",
    "data = raw_data.drop(\"나이\", axis=1)"
   ]
  },
  {
   "cell_type": "code",
   "execution_count": 4,
   "metadata": {},
   "outputs": [
    {
     "data": {
      "text/html": [
       "<div>\n",
       "<style scoped>\n",
       "    .dataframe tbody tr th:only-of-type {\n",
       "        vertical-align: middle;\n",
       "    }\n",
       "\n",
       "    .dataframe tbody tr th {\n",
       "        vertical-align: top;\n",
       "    }\n",
       "\n",
       "    .dataframe thead th {\n",
       "        text-align: right;\n",
       "    }\n",
       "</style>\n",
       "<table border=\"1\" class=\"dataframe\">\n",
       "  <thead>\n",
       "    <tr style=\"text-align: right;\">\n",
       "      <th></th>\n",
       "      <th>ID</th>\n",
       "      <th>성별</th>\n",
       "      <th>길이</th>\n",
       "      <th>지름</th>\n",
       "      <th>높이</th>\n",
       "      <th>총무게</th>\n",
       "      <th>속살무게</th>\n",
       "      <th>내장무게</th>\n",
       "    </tr>\n",
       "  </thead>\n",
       "  <tbody>\n",
       "    <tr>\n",
       "      <th>0</th>\n",
       "      <td>1</td>\n",
       "      <td>M</td>\n",
       "      <td>4.55</td>\n",
       "      <td>3.65</td>\n",
       "      <td>0.95</td>\n",
       "      <td>0.5140</td>\n",
       "      <td>0.2245</td>\n",
       "      <td>0.1010</td>\n",
       "    </tr>\n",
       "    <tr>\n",
       "      <th>1</th>\n",
       "      <td>2</td>\n",
       "      <td>M</td>\n",
       "      <td>3.50</td>\n",
       "      <td>2.65</td>\n",
       "      <td>0.90</td>\n",
       "      <td>0.2255</td>\n",
       "      <td>0.0995</td>\n",
       "      <td>0.0485</td>\n",
       "    </tr>\n",
       "    <tr>\n",
       "      <th>2</th>\n",
       "      <td>3</td>\n",
       "      <td>F</td>\n",
       "      <td>5.30</td>\n",
       "      <td>4.20</td>\n",
       "      <td>1.35</td>\n",
       "      <td>0.6770</td>\n",
       "      <td>0.2565</td>\n",
       "      <td>0.1415</td>\n",
       "    </tr>\n",
       "    <tr>\n",
       "      <th>3</th>\n",
       "      <td>4</td>\n",
       "      <td>M</td>\n",
       "      <td>4.40</td>\n",
       "      <td>3.65</td>\n",
       "      <td>1.25</td>\n",
       "      <td>0.5160</td>\n",
       "      <td>0.2155</td>\n",
       "      <td>0.1140</td>\n",
       "    </tr>\n",
       "    <tr>\n",
       "      <th>4</th>\n",
       "      <td>5</td>\n",
       "      <td>I</td>\n",
       "      <td>3.30</td>\n",
       "      <td>2.55</td>\n",
       "      <td>0.80</td>\n",
       "      <td>0.2050</td>\n",
       "      <td>0.0895</td>\n",
       "      <td>0.0395</td>\n",
       "    </tr>\n",
       "    <tr>\n",
       "      <th>...</th>\n",
       "      <td>...</td>\n",
       "      <td>...</td>\n",
       "      <td>...</td>\n",
       "      <td>...</td>\n",
       "      <td>...</td>\n",
       "      <td>...</td>\n",
       "      <td>...</td>\n",
       "      <td>...</td>\n",
       "    </tr>\n",
       "    <tr>\n",
       "      <th>4172</th>\n",
       "      <td>4173</td>\n",
       "      <td>F</td>\n",
       "      <td>5.65</td>\n",
       "      <td>4.50</td>\n",
       "      <td>1.65</td>\n",
       "      <td>0.8870</td>\n",
       "      <td>0.3700</td>\n",
       "      <td>0.2390</td>\n",
       "    </tr>\n",
       "    <tr>\n",
       "      <th>4173</th>\n",
       "      <td>4174</td>\n",
       "      <td>M</td>\n",
       "      <td>5.90</td>\n",
       "      <td>4.40</td>\n",
       "      <td>1.35</td>\n",
       "      <td>0.9660</td>\n",
       "      <td>0.4390</td>\n",
       "      <td>0.2145</td>\n",
       "    </tr>\n",
       "    <tr>\n",
       "      <th>4174</th>\n",
       "      <td>4175</td>\n",
       "      <td>M</td>\n",
       "      <td>6.00</td>\n",
       "      <td>4.75</td>\n",
       "      <td>2.05</td>\n",
       "      <td>1.1760</td>\n",
       "      <td>0.5255</td>\n",
       "      <td>0.2875</td>\n",
       "    </tr>\n",
       "    <tr>\n",
       "      <th>4175</th>\n",
       "      <td>4176</td>\n",
       "      <td>F</td>\n",
       "      <td>6.25</td>\n",
       "      <td>4.85</td>\n",
       "      <td>1.50</td>\n",
       "      <td>1.0945</td>\n",
       "      <td>0.5310</td>\n",
       "      <td>0.2610</td>\n",
       "    </tr>\n",
       "    <tr>\n",
       "      <th>4176</th>\n",
       "      <td>4177</td>\n",
       "      <td>M</td>\n",
       "      <td>7.10</td>\n",
       "      <td>5.55</td>\n",
       "      <td>1.95</td>\n",
       "      <td>1.9485</td>\n",
       "      <td>0.9455</td>\n",
       "      <td>0.3765</td>\n",
       "    </tr>\n",
       "  </tbody>\n",
       "</table>\n",
       "<p>4177 rows × 8 columns</p>\n",
       "</div>"
      ],
      "text/plain": [
       "        ID 성별    길이    지름    높이     총무게    속살무게    내장무게\n",
       "0        1  M  4.55  3.65  0.95  0.5140  0.2245  0.1010\n",
       "1        2  M  3.50  2.65  0.90  0.2255  0.0995  0.0485\n",
       "2        3  F  5.30  4.20  1.35  0.6770  0.2565  0.1415\n",
       "3        4  M  4.40  3.65  1.25  0.5160  0.2155  0.1140\n",
       "4        5  I  3.30  2.55  0.80  0.2050  0.0895  0.0395\n",
       "...    ... ..   ...   ...   ...     ...     ...     ...\n",
       "4172  4173  F  5.65  4.50  1.65  0.8870  0.3700  0.2390\n",
       "4173  4174  M  5.90  4.40  1.35  0.9660  0.4390  0.2145\n",
       "4174  4175  M  6.00  4.75  2.05  1.1760  0.5255  0.2875\n",
       "4175  4176  F  6.25  4.85  1.50  1.0945  0.5310  0.2610\n",
       "4176  4177  M  7.10  5.55  1.95  1.9485  0.9455  0.3765\n",
       "\n",
       "[4177 rows x 8 columns]"
      ]
     },
     "execution_count": 4,
     "metadata": {},
     "output_type": "execute_result"
    }
   ],
   "source": [
    "data"
   ]
  },
  {
   "cell_type": "markdown",
   "metadata": {},
   "source": [
    "#### 길이, 지름, 높이, 총무게, 속살무게, 내장무게"
   ]
  },
  {
   "cell_type": "markdown",
   "metadata": {},
   "source": [
    "##### Min-Max Normalization"
   ]
  },
  {
   "cell_type": "code",
   "execution_count": 5,
   "metadata": {},
   "outputs": [],
   "source": [
    "data[\"길이\"] = (data[\"길이\"] - min(data[\"길이\"])) / (max(data[\"길이\"]) - min(data[\"길이\"]))\n",
    "data[\"지름\"] = (data[\"지름\"] - min(data[\"지름\"])) / (max(data[\"지름\"]) - min(data[\"지름\"]))\n",
    "data[\"높이\"] = (data[\"높이\"] - min(data[\"높이\"])) / (max(data[\"높이\"]) - min(data[\"높이\"]))\n",
    "data[\"총무게\"] = (data[\"총무게\"] - min(data[\"총무게\"])) / (max(data[\"총무게\"]) - min(data[\"총무게\"]))\n",
    "data[\"속살무게\"] = (data[\"속살무게\"] - min(data[\"속살무게\"])) / (max(data[\"속살무게\"]) - min(data[\"속살무게\"]))\n",
    "data[\"내장무게\"] = (data[\"내장무게\"] - min(data[\"내장무게\"])) / (max(data[\"내장무게\"]) - min(data[\"내장무게\"]))"
   ]
  },
  {
   "cell_type": "code",
   "execution_count": 6,
   "metadata": {},
   "outputs": [
    {
     "name": "stdout",
     "output_type": "stream",
     "text": [
      "[array(['F', 'I', 'M'], dtype=object)]\n"
     ]
    }
   ],
   "source": [
    "# 범주형 특징(성별)에 대한 원핫 인코딩\n",
    "from sklearn.preprocessing import OneHotEncoder\n",
    "\n",
    "data_cat = data[[\"성별\"]]\n",
    "onehot_encoder = OneHotEncoder()\n",
    "data_cat_onehot = onehot_encoder.fit_transform(data_cat)\n",
    "print(onehot_encoder.categories_)"
   ]
  },
  {
   "cell_type": "markdown",
   "metadata": {},
   "source": [
    "#### 범주형 특징 제거"
   ]
  },
  {
   "cell_type": "code",
   "execution_count": 7,
   "metadata": {},
   "outputs": [
    {
     "data": {
      "text/html": [
       "<div>\n",
       "<style scoped>\n",
       "    .dataframe tbody tr th:only-of-type {\n",
       "        vertical-align: middle;\n",
       "    }\n",
       "\n",
       "    .dataframe tbody tr th {\n",
       "        vertical-align: top;\n",
       "    }\n",
       "\n",
       "    .dataframe thead th {\n",
       "        text-align: right;\n",
       "    }\n",
       "</style>\n",
       "<table border=\"1\" class=\"dataframe\">\n",
       "  <thead>\n",
       "    <tr style=\"text-align: right;\">\n",
       "      <th></th>\n",
       "      <th>길이</th>\n",
       "      <th>지름</th>\n",
       "      <th>높이</th>\n",
       "      <th>총무게</th>\n",
       "      <th>속살무게</th>\n",
       "      <th>내장무게</th>\n",
       "    </tr>\n",
       "  </thead>\n",
       "  <tbody>\n",
       "    <tr>\n",
       "      <th>0</th>\n",
       "      <td>0.513514</td>\n",
       "      <td>0.050832</td>\n",
       "      <td>0.278689</td>\n",
       "      <td>0.181335</td>\n",
       "      <td>0.150303</td>\n",
       "      <td>0.132324</td>\n",
       "    </tr>\n",
       "    <tr>\n",
       "      <th>1</th>\n",
       "      <td>0.371622</td>\n",
       "      <td>0.032348</td>\n",
       "      <td>0.262295</td>\n",
       "      <td>0.079157</td>\n",
       "      <td>0.066241</td>\n",
       "      <td>0.063199</td>\n",
       "    </tr>\n",
       "    <tr>\n",
       "      <th>2</th>\n",
       "      <td>0.614865</td>\n",
       "      <td>0.060998</td>\n",
       "      <td>0.409836</td>\n",
       "      <td>0.239065</td>\n",
       "      <td>0.171822</td>\n",
       "      <td>0.185648</td>\n",
       "    </tr>\n",
       "    <tr>\n",
       "      <th>3</th>\n",
       "      <td>0.493243</td>\n",
       "      <td>0.050832</td>\n",
       "      <td>0.377049</td>\n",
       "      <td>0.182044</td>\n",
       "      <td>0.144250</td>\n",
       "      <td>0.149440</td>\n",
       "    </tr>\n",
       "    <tr>\n",
       "      <th>4</th>\n",
       "      <td>0.344595</td>\n",
       "      <td>0.030499</td>\n",
       "      <td>0.229508</td>\n",
       "      <td>0.071897</td>\n",
       "      <td>0.059516</td>\n",
       "      <td>0.051350</td>\n",
       "    </tr>\n",
       "    <tr>\n",
       "      <th>...</th>\n",
       "      <td>...</td>\n",
       "      <td>...</td>\n",
       "      <td>...</td>\n",
       "      <td>...</td>\n",
       "      <td>...</td>\n",
       "      <td>...</td>\n",
       "    </tr>\n",
       "    <tr>\n",
       "      <th>4172</th>\n",
       "      <td>0.662162</td>\n",
       "      <td>0.066543</td>\n",
       "      <td>0.508197</td>\n",
       "      <td>0.313441</td>\n",
       "      <td>0.248151</td>\n",
       "      <td>0.314022</td>\n",
       "    </tr>\n",
       "    <tr>\n",
       "      <th>4173</th>\n",
       "      <td>0.695946</td>\n",
       "      <td>0.064695</td>\n",
       "      <td>0.409836</td>\n",
       "      <td>0.341420</td>\n",
       "      <td>0.294553</td>\n",
       "      <td>0.281764</td>\n",
       "    </tr>\n",
       "    <tr>\n",
       "      <th>4174</th>\n",
       "      <td>0.709459</td>\n",
       "      <td>0.071165</td>\n",
       "      <td>0.639344</td>\n",
       "      <td>0.415796</td>\n",
       "      <td>0.352724</td>\n",
       "      <td>0.377880</td>\n",
       "    </tr>\n",
       "    <tr>\n",
       "      <th>4175</th>\n",
       "      <td>0.743243</td>\n",
       "      <td>0.073013</td>\n",
       "      <td>0.459016</td>\n",
       "      <td>0.386931</td>\n",
       "      <td>0.356422</td>\n",
       "      <td>0.342989</td>\n",
       "    </tr>\n",
       "    <tr>\n",
       "      <th>4176</th>\n",
       "      <td>0.858108</td>\n",
       "      <td>0.085952</td>\n",
       "      <td>0.606557</td>\n",
       "      <td>0.689393</td>\n",
       "      <td>0.635171</td>\n",
       "      <td>0.495063</td>\n",
       "    </tr>\n",
       "  </tbody>\n",
       "</table>\n",
       "<p>4177 rows × 6 columns</p>\n",
       "</div>"
      ],
      "text/plain": [
       "            길이        지름        높이       총무게      속살무게      내장무게\n",
       "0     0.513514  0.050832  0.278689  0.181335  0.150303  0.132324\n",
       "1     0.371622  0.032348  0.262295  0.079157  0.066241  0.063199\n",
       "2     0.614865  0.060998  0.409836  0.239065  0.171822  0.185648\n",
       "3     0.493243  0.050832  0.377049  0.182044  0.144250  0.149440\n",
       "4     0.344595  0.030499  0.229508  0.071897  0.059516  0.051350\n",
       "...        ...       ...       ...       ...       ...       ...\n",
       "4172  0.662162  0.066543  0.508197  0.313441  0.248151  0.314022\n",
       "4173  0.695946  0.064695  0.409836  0.341420  0.294553  0.281764\n",
       "4174  0.709459  0.071165  0.639344  0.415796  0.352724  0.377880\n",
       "4175  0.743243  0.073013  0.459016  0.386931  0.356422  0.342989\n",
       "4176  0.858108  0.085952  0.606557  0.689393  0.635171  0.495063\n",
       "\n",
       "[4177 rows x 6 columns]"
      ]
     },
     "execution_count": 7,
     "metadata": {},
     "output_type": "execute_result"
    }
   ],
   "source": [
    "data = data.drop(\"성별\", axis=1)\n",
    "data = data.drop(\"ID\", axis=1)\n",
    "data"
   ]
  },
  {
   "cell_type": "markdown",
   "metadata": {},
   "source": [
    "### 원핫인코딩된 범주형 특징과 스케일링된 수치형 특징 및 레이블 결합"
   ]
  },
  {
   "cell_type": "code",
   "execution_count": 8,
   "metadata": {},
   "outputs": [
    {
     "data": {
      "text/plain": [
       "array([[ 0.        ,  0.        ,  1.        , ...,  0.15030262,\n",
       "         0.1323239 , 15.        ],\n",
       "       [ 0.        ,  0.        ,  1.        , ...,  0.06624075,\n",
       "         0.06319947,  7.        ],\n",
       "       [ 1.        ,  0.        ,  0.        , ...,  0.17182246,\n",
       "         0.18564845,  9.        ],\n",
       "       ...,\n",
       "       [ 0.        ,  0.        ,  1.        , ...,  0.3527236 ,\n",
       "         0.37788018,  9.        ],\n",
       "       [ 1.        ,  0.        ,  0.        , ...,  0.35642233,\n",
       "         0.34298881, 10.        ],\n",
       "       [ 0.        ,  0.        ,  1.        , ...,  0.63517149,\n",
       "         0.49506254, 12.        ]])"
      ]
     },
     "execution_count": 8,
     "metadata": {},
     "output_type": "execute_result"
    }
   ],
   "source": [
    "import numpy as np\n",
    "data = np.c_[data_cat_onehot.toarray(), data, data_age]\n",
    "data"
   ]
  },
  {
   "cell_type": "code",
   "execution_count": 9,
   "metadata": {},
   "outputs": [
    {
     "data": {
      "text/html": [
       "<div>\n",
       "<style scoped>\n",
       "    .dataframe tbody tr th:only-of-type {\n",
       "        vertical-align: middle;\n",
       "    }\n",
       "\n",
       "    .dataframe tbody tr th {\n",
       "        vertical-align: top;\n",
       "    }\n",
       "\n",
       "    .dataframe thead th {\n",
       "        text-align: right;\n",
       "    }\n",
       "</style>\n",
       "<table border=\"1\" class=\"dataframe\">\n",
       "  <thead>\n",
       "    <tr style=\"text-align: right;\">\n",
       "      <th></th>\n",
       "      <th>성별_F</th>\n",
       "      <th>성별_I</th>\n",
       "      <th>성별_M</th>\n",
       "      <th>길이</th>\n",
       "      <th>지름</th>\n",
       "      <th>높이</th>\n",
       "      <th>총무게</th>\n",
       "      <th>속살무게</th>\n",
       "      <th>내장무게</th>\n",
       "      <th>나이</th>\n",
       "    </tr>\n",
       "  </thead>\n",
       "  <tbody>\n",
       "    <tr>\n",
       "      <th>0</th>\n",
       "      <td>0.0</td>\n",
       "      <td>0.0</td>\n",
       "      <td>1.0</td>\n",
       "      <td>0.513514</td>\n",
       "      <td>0.050832</td>\n",
       "      <td>0.278689</td>\n",
       "      <td>0.181335</td>\n",
       "      <td>0.150303</td>\n",
       "      <td>0.132324</td>\n",
       "      <td>15.0</td>\n",
       "    </tr>\n",
       "    <tr>\n",
       "      <th>1</th>\n",
       "      <td>0.0</td>\n",
       "      <td>0.0</td>\n",
       "      <td>1.0</td>\n",
       "      <td>0.371622</td>\n",
       "      <td>0.032348</td>\n",
       "      <td>0.262295</td>\n",
       "      <td>0.079157</td>\n",
       "      <td>0.066241</td>\n",
       "      <td>0.063199</td>\n",
       "      <td>7.0</td>\n",
       "    </tr>\n",
       "    <tr>\n",
       "      <th>2</th>\n",
       "      <td>1.0</td>\n",
       "      <td>0.0</td>\n",
       "      <td>0.0</td>\n",
       "      <td>0.614865</td>\n",
       "      <td>0.060998</td>\n",
       "      <td>0.409836</td>\n",
       "      <td>0.239065</td>\n",
       "      <td>0.171822</td>\n",
       "      <td>0.185648</td>\n",
       "      <td>9.0</td>\n",
       "    </tr>\n",
       "    <tr>\n",
       "      <th>3</th>\n",
       "      <td>0.0</td>\n",
       "      <td>0.0</td>\n",
       "      <td>1.0</td>\n",
       "      <td>0.493243</td>\n",
       "      <td>0.050832</td>\n",
       "      <td>0.377049</td>\n",
       "      <td>0.182044</td>\n",
       "      <td>0.144250</td>\n",
       "      <td>0.149440</td>\n",
       "      <td>10.0</td>\n",
       "    </tr>\n",
       "    <tr>\n",
       "      <th>4</th>\n",
       "      <td>0.0</td>\n",
       "      <td>1.0</td>\n",
       "      <td>0.0</td>\n",
       "      <td>0.344595</td>\n",
       "      <td>0.030499</td>\n",
       "      <td>0.229508</td>\n",
       "      <td>0.071897</td>\n",
       "      <td>0.059516</td>\n",
       "      <td>0.051350</td>\n",
       "      <td>7.0</td>\n",
       "    </tr>\n",
       "    <tr>\n",
       "      <th>...</th>\n",
       "      <td>...</td>\n",
       "      <td>...</td>\n",
       "      <td>...</td>\n",
       "      <td>...</td>\n",
       "      <td>...</td>\n",
       "      <td>...</td>\n",
       "      <td>...</td>\n",
       "      <td>...</td>\n",
       "      <td>...</td>\n",
       "      <td>...</td>\n",
       "    </tr>\n",
       "    <tr>\n",
       "      <th>4172</th>\n",
       "      <td>1.0</td>\n",
       "      <td>0.0</td>\n",
       "      <td>0.0</td>\n",
       "      <td>0.662162</td>\n",
       "      <td>0.066543</td>\n",
       "      <td>0.508197</td>\n",
       "      <td>0.313441</td>\n",
       "      <td>0.248151</td>\n",
       "      <td>0.314022</td>\n",
       "      <td>11.0</td>\n",
       "    </tr>\n",
       "    <tr>\n",
       "      <th>4173</th>\n",
       "      <td>0.0</td>\n",
       "      <td>0.0</td>\n",
       "      <td>1.0</td>\n",
       "      <td>0.695946</td>\n",
       "      <td>0.064695</td>\n",
       "      <td>0.409836</td>\n",
       "      <td>0.341420</td>\n",
       "      <td>0.294553</td>\n",
       "      <td>0.281764</td>\n",
       "      <td>10.0</td>\n",
       "    </tr>\n",
       "    <tr>\n",
       "      <th>4174</th>\n",
       "      <td>0.0</td>\n",
       "      <td>0.0</td>\n",
       "      <td>1.0</td>\n",
       "      <td>0.709459</td>\n",
       "      <td>0.071165</td>\n",
       "      <td>0.639344</td>\n",
       "      <td>0.415796</td>\n",
       "      <td>0.352724</td>\n",
       "      <td>0.377880</td>\n",
       "      <td>9.0</td>\n",
       "    </tr>\n",
       "    <tr>\n",
       "      <th>4175</th>\n",
       "      <td>1.0</td>\n",
       "      <td>0.0</td>\n",
       "      <td>0.0</td>\n",
       "      <td>0.743243</td>\n",
       "      <td>0.073013</td>\n",
       "      <td>0.459016</td>\n",
       "      <td>0.386931</td>\n",
       "      <td>0.356422</td>\n",
       "      <td>0.342989</td>\n",
       "      <td>10.0</td>\n",
       "    </tr>\n",
       "    <tr>\n",
       "      <th>4176</th>\n",
       "      <td>0.0</td>\n",
       "      <td>0.0</td>\n",
       "      <td>1.0</td>\n",
       "      <td>0.858108</td>\n",
       "      <td>0.085952</td>\n",
       "      <td>0.606557</td>\n",
       "      <td>0.689393</td>\n",
       "      <td>0.635171</td>\n",
       "      <td>0.495063</td>\n",
       "      <td>12.0</td>\n",
       "    </tr>\n",
       "  </tbody>\n",
       "</table>\n",
       "<p>4177 rows × 10 columns</p>\n",
       "</div>"
      ],
      "text/plain": [
       "      성별_F  성별_I  성별_M        길이        지름        높이       총무게      속살무게  \\\n",
       "0      0.0   0.0   1.0  0.513514  0.050832  0.278689  0.181335  0.150303   \n",
       "1      0.0   0.0   1.0  0.371622  0.032348  0.262295  0.079157  0.066241   \n",
       "2      1.0   0.0   0.0  0.614865  0.060998  0.409836  0.239065  0.171822   \n",
       "3      0.0   0.0   1.0  0.493243  0.050832  0.377049  0.182044  0.144250   \n",
       "4      0.0   1.0   0.0  0.344595  0.030499  0.229508  0.071897  0.059516   \n",
       "...    ...   ...   ...       ...       ...       ...       ...       ...   \n",
       "4172   1.0   0.0   0.0  0.662162  0.066543  0.508197  0.313441  0.248151   \n",
       "4173   0.0   0.0   1.0  0.695946  0.064695  0.409836  0.341420  0.294553   \n",
       "4174   0.0   0.0   1.0  0.709459  0.071165  0.639344  0.415796  0.352724   \n",
       "4175   1.0   0.0   0.0  0.743243  0.073013  0.459016  0.386931  0.356422   \n",
       "4176   0.0   0.0   1.0  0.858108  0.085952  0.606557  0.689393  0.635171   \n",
       "\n",
       "          내장무게    나이  \n",
       "0     0.132324  15.0  \n",
       "1     0.063199   7.0  \n",
       "2     0.185648   9.0  \n",
       "3     0.149440  10.0  \n",
       "4     0.051350   7.0  \n",
       "...        ...   ...  \n",
       "4172  0.314022  11.0  \n",
       "4173  0.281764  10.0  \n",
       "4174  0.377880   9.0  \n",
       "4175  0.342989  10.0  \n",
       "4176  0.495063  12.0  \n",
       "\n",
       "[4177 rows x 10 columns]"
      ]
     },
     "execution_count": 9,
     "metadata": {},
     "output_type": "execute_result"
    }
   ],
   "source": [
    "data = pd.DataFrame(data, columns=['성별_F', '성별_I', '성별_M', '길이', '지름', '높이', '총무게', '속살무게', '내장무게', '나이'])\n",
    "data"
   ]
  },
  {
   "cell_type": "markdown",
   "metadata": {},
   "source": [
    "\n",
    "### 학습 데이터와 테스트 데이터 분리 "
   ]
  },
  {
   "cell_type": "code",
   "execution_count": 10,
   "metadata": {},
   "outputs": [],
   "source": [
    "from sklearn.model_selection import train_test_split\n",
    "\n",
    "train_set, test_set = train_test_split(data, test_size=0.1, random_state=47)"
   ]
  },
  {
   "cell_type": "code",
   "execution_count": 11,
   "metadata": {},
   "outputs": [],
   "source": [
    "# 입력 특징과 레이블의 분리\n",
    "\n",
    "train_data = train_set.drop(\"나이\", axis=1)\n",
    "train_data_label = train_set[[\"나이\"]].copy()\n",
    "test_data = test_set.drop(\"나이\", axis=1)\n",
    "test_data_label = test_set[[\"나이\"]].copy()"
   ]
  },
  {
   "cell_type": "markdown",
   "metadata": {},
   "source": [
    "## 회귀분석"
   ]
  },
  {
   "cell_type": "code",
   "execution_count": 12,
   "metadata": {},
   "outputs": [],
   "source": [
    "import matplotlib.pyplot as plt"
   ]
  },
  {
   "cell_type": "code",
   "execution_count": 13,
   "metadata": {},
   "outputs": [
    {
     "data": {
      "text/plain": [
       "LinearRegression()"
      ]
     },
     "execution_count": 13,
     "metadata": {},
     "output_type": "execute_result"
    }
   ],
   "source": [
    "from sklearn.linear_model import LinearRegression\n",
    "model = LinearRegression()\n",
    "model.fit(train_data, train_data_label)"
   ]
  },
  {
   "cell_type": "code",
   "execution_count": 14,
   "metadata": {},
   "outputs": [
    {
     "name": "stdout",
     "output_type": "stream",
     "text": [
      "평균제곱근오차 1.9098178775532282\n"
     ]
    }
   ],
   "source": [
    "from sklearn.metrics import mean_squared_error\n",
    "some_predicted = model.predict(test_data)\n",
    "rmse = np.sqrt(mean_squared_error(some_predicted, test_data_label))\n",
    "print('평균제곱근오차', rmse)\n",
    "\n",
    "#RMSE를 사용하면 오류 지표를 실제 값과 유사한 단위로 다시 변환하여 해석을 쉽게 합니다."
   ]
  },
  {
   "cell_type": "markdown",
   "metadata": {},
   "source": [
    "### 상관관계"
   ]
  },
  {
   "cell_type": "markdown",
   "metadata": {},
   "source": [
    "#### 길이와 나이의 상관관계"
   ]
  },
  {
   "cell_type": "code",
   "execution_count": 15,
   "metadata": {},
   "outputs": [
    {
     "data": {
      "image/png": "[encoded data removed]",
      "text/plain": [
       "<Figure size 432x288 with 1 Axes>"
      ]
     },
     "metadata": {
      "needs_background": "light"
     },
     "output_type": "display_data"
    }
   ],
   "source": [
    "plt.scatter(data[['길이']], data[['나이']], alpha=0.4)\n",
    "plt.show()"
   ]
  },
  {
   "cell_type": "markdown",
   "metadata": {},
   "source": [
    "#### 지름과 나이의 상관관계"
   ]
  },
  {
   "cell_type": "code",
   "execution_count": 16,
   "metadata": {},
   "outputs": [
    {
     "data": {
      "image/png": "[encoded data removed]",
      "text/plain": [
       "<Figure size 432x288 with 1 Axes>"
      ]
     },
     "metadata": {
      "needs_background": "light"
     },
     "output_type": "display_data"
    }
   ],
   "source": [
    "plt.scatter(data[['지름']], data[['나이']], alpha=0.4)\n",
    "plt.show()"
   ]
  },
  {
   "cell_type": "markdown",
   "metadata": {},
   "source": [
    "#### 높이와 나이의 상관관계"
   ]
  },
  {
   "cell_type": "code",
   "execution_count": 17,
   "metadata": {},
   "outputs": [
    {
     "data": {
      "image/png": "[encoded data removed]",
      "text/plain": [
       "<Figure size 432x288 with 1 Axes>"
      ]
     },
     "metadata": {
      "needs_background": "light"
     },
     "output_type": "display_data"
    }
   ],
   "source": [
    "plt.scatter(data[['높이']], data[['나이']], alpha=0.4)\n",
    "plt.show()"
   ]
  },
  {
   "cell_type": "markdown",
   "metadata": {},
   "source": [
    "#### 총무게와 나이의 상관관계"
   ]
  },
  {
   "cell_type": "code",
   "execution_count": 18,
   "metadata": {},
   "outputs": [
    {
     "data": {
      "image/png": "[encoded data removed]",
      "text/plain": [
       "<Figure size 432x288 with 1 Axes>"
      ]
     },
     "metadata": {
      "needs_background": "light"
     },
     "output_type": "display_data"
    }
   ],
   "source": [
    "plt.scatter(data[['총무게']], data[['나이']], alpha=0.4)\n",
    "plt.show()"
   ]
  },
  {
   "cell_type": "markdown",
   "metadata": {},
   "source": [
    "#### 속살무게와 나이의 상관관계"
   ]
  },
  {
   "cell_type": "code",
   "execution_count": 19,
   "metadata": {},
   "outputs": [
    {
     "data": {
      "image/png": "[encoded data removed]",
      "text/plain": [
       "<Figure size 432x288 with 1 Axes>"
      ]
     },
     "metadata": {
      "needs_background": "light"
     },
     "output_type": "display_data"
    }
   ],
   "source": [
    "plt.scatter(data[['속살무게']], data[['나이']], alpha=0.4)\n",
    "plt.show()"
   ]
  },
  {
   "cell_type": "markdown",
   "metadata": {},
   "source": [
    "#### 내장무게와 나이의 상관관계"
   ]
  },
  {
   "cell_type": "code",
   "execution_count": 20,
   "metadata": {},
   "outputs": [
    {
     "data": {
      "image/png": "[encoded data removed]",
      "text/plain": [
       "<Figure size 432x288 with 1 Axes>"
      ]
     },
     "metadata": {
      "needs_background": "light"
     },
     "output_type": "display_data"
    }
   ],
   "source": [
    "plt.scatter(data[['내장무게']], data[['나이']], alpha=0.4)\n",
    "plt.show()"
   ]
  },
  {
   "cell_type": "markdown",
   "metadata": {},
   "source": [
    "### 다중선형회귀"
   ]
  },
  {
   "cell_type": "code",
   "execution_count": 21,
   "metadata": {},
   "outputs": [
    {
     "data": {
      "image/png": "[encoded data removed]",
      "text/plain": [
       "<Figure size 432x288 with 1 Axes>"
      ]
     },
     "metadata": {
      "needs_background": "light"
     },
     "output_type": "display_data"
    }
   ],
   "source": [
    "plt.scatter(test_data_label, some_predicted, alpha=0.4)\n",
    "plt.xlabel(\"actual age\")\n",
    "plt.ylabel(\"predicted age\")\n",
    "plt.title(\"MULTIPLE LINEAR REGRESSION\")\n",
    "plt.show()"
   ]
  },
  {
   "cell_type": "markdown",
   "metadata": {},
   "source": [
    "## 의사결정트리"
   ]
  },
  {
   "cell_type": "code",
   "execution_count": 22,
   "metadata": {},
   "outputs": [
    {
     "data": {
      "text/plain": [
       "DecisionTreeRegressor()"
      ]
     },
     "execution_count": 22,
     "metadata": {},
     "output_type": "execute_result"
    }
   ],
   "source": [
    "from sklearn.tree import DecisionTreeRegressor\n",
    "model = DecisionTreeRegressor()\n",
    "model.fit(train_data, train_data_label)"
   ]
  },
  {
   "cell_type": "code",
   "execution_count": 23,
   "metadata": {},
   "outputs": [
    {
     "name": "stdout",
     "output_type": "stream",
     "text": [
      "평균제곱근오차 2.745156674484011\n"
     ]
    }
   ],
   "source": [
    "from sklearn.metrics import mean_squared_error\n",
    "some_predicted = model.predict(test_data)\n",
    "rmse = np.sqrt(mean_squared_error(some_predicted, test_data_label))\n",
    "print('평균제곱근오차', rmse)"
   ]
  },
  {
   "cell_type": "markdown",
   "metadata": {},
   "source": [
    "#### Compare Different Tree Sizes"
   ]
  },
  {
   "cell_type": "code",
   "execution_count": 24,
   "metadata": {},
   "outputs": [],
   "source": [
    "def get_mae(max_leaf_nodes, x_train, x_test, y_train, y_test):\n",
    "    model = DecisionTreeRegressor(max_leaf_nodes=max_leaf_nodes, random_state=0)\n",
    "    model.fit(x_train, y_train)\n",
    "    preds_val = model.predict(x_test)\n",
    "    rmse = np.sqrt(mean_squared_error(preds_val, y_test))\n",
    "    return(rmse)"
   ]
  },
  {
   "cell_type": "code",
   "execution_count": 25,
   "metadata": {},
   "outputs": [
    {
     "name": "stdout",
     "output_type": "stream",
     "text": [
      "2.375700943673631\n",
      "2.14543824189341\n",
      "2.1077703894226634\n",
      "2.231931852726759\n",
      "2.4156709182881237\n",
      "2.518603367243398\n",
      "best_tree_size = 50\n"
     ]
    }
   ],
   "source": [
    "candidate_max_leaf_nodes = [5, 25, 50, 100, 250, 500]\n",
    "ans = 0\n",
    "res_min = 10000000\n",
    "for max_leaf_nodes in candidate_max_leaf_nodes:\n",
    "    res = get_mae(max_leaf_nodes, train_data, test_data , train_data_label, test_data_label)\n",
    "    print(res)\n",
    "    if res_min > res:\n",
    "        res_min = res\n",
    "        ans = max_leaf_nodes\n",
    "\n",
    "print(\"best_tree_size =\", ans)"
   ]
  },
  {
   "cell_type": "markdown",
   "metadata": {},
   "source": [
    "## 랜덤포레스트"
   ]
  },
  {
   "cell_type": "code",
   "execution_count": 32,
   "metadata": {},
   "outputs": [
    {
     "data": {
      "text/plain": [
       "RandomForestRegressor()"
      ]
     },
     "execution_count": 32,
     "metadata": {},
     "output_type": "execute_result"
    }
   ],
   "source": [
    "from sklearn.ensemble import RandomForestRegressor\n",
    "model = RandomForestRegressor()\n",
    "model.fit(train_data, train_data_label.values.ravel() )"
   ]
  },
  {
   "cell_type": "code",
   "execution_count": 33,
   "metadata": {},
   "outputs": [
    {
     "name": "stdout",
     "output_type": "stream",
     "text": [
      "평균제곱근오차 1.95877921898006\n"
     ]
    }
   ],
   "source": [
    "from sklearn.metrics import mean_squared_error\n",
    "some_predicted = model.predict(test_data)\n",
    "rmse = np.sqrt(mean_squared_error(some_predicted, test_data_label))\n",
    "print('평균제곱근오차', rmse)"
   ]
  },
  {
   "cell_type": "markdown",
   "metadata": {},
   "source": [
    "### 딥러닝"
   ]
  },
  {
   "cell_type": "code",
   "execution_count": 34,
   "metadata": {},
   "outputs": [],
   "source": [
    "from keras.layers import Dense, Dropout, Activation\n",
    "from keras.models import Sequential"
   ]
  },
  {
   "cell_type": "code",
   "execution_count": 46,
   "metadata": {},
   "outputs": [
    {
     "name": "stdout",
     "output_type": "stream",
     "text": [
      "Model: \"sequential_1\"\n",
      "_________________________________________________________________\n",
      "Layer (type)                 Output Shape              Param #   \n",
      "=================================================================\n",
      "dense_3 (Dense)              (None, 512)               5120      \n",
      "_________________________________________________________________\n",
      "activation_3 (Activation)    (None, 512)               0         \n",
      "_________________________________________________________________\n",
      "dropout_2 (Dropout)          (None, 512)               0         \n",
      "_________________________________________________________________\n",
      "dense_4 (Dense)              (None, 512)               262656    \n",
      "_________________________________________________________________\n",
      "activation_4 (Activation)    (None, 512)               0         \n",
      "_________________________________________________________________\n",
      "dropout_3 (Dropout)          (None, 512)               0         \n",
      "_________________________________________________________________\n",
      "dense_5 (Dense)              (None, 1)                 513       \n",
      "_________________________________________________________________\n",
      "activation_5 (Activation)    (None, 1)                 0         \n",
      "=================================================================\n",
      "Total params: 268,289\n",
      "Trainable params: 268,289\n",
      "Non-trainable params: 0\n",
      "_________________________________________________________________\n"
     ]
    }
   ],
   "source": [
    "model = Sequential()\n",
    "model.add(Dense(512, input_dim=9))\n",
    "model.add(Activation('relu'))\n",
    "model.add(Dropout(0.1))\n",
    "model.add(Dense(512))\n",
    "model.add(Activation('relu'))\n",
    "model.add(Dropout(0.1))\n",
    "model.add(Dense(1))\n",
    "model.add(Activation('relu'))\n",
    "model.compile('adam', 'mean_squared_error', metrics=['accuracy'])\n",
    "\n",
    "model.summary()"
   ]
  },
  {
   "cell_type": "markdown",
   "metadata": {},
   "source": [
    "#### 모델 fitting"
   ]
  },
  {
   "cell_type": "code",
   "execution_count": 47,
   "metadata": {},
   "outputs": [],
   "source": [
    "train_data = np.asarray(train_data).astype(np.float32)\n",
    "train_data_label = np.asarray(train_data_label).astype(np.float32)"
   ]
  },
  {
   "cell_type": "code",
   "execution_count": 52,
   "metadata": {},
   "outputs": [
    {
     "name": "stdout",
     "output_type": "stream",
     "text": [
      "Epoch 1/30\n",
      "3759/3759 [==============================] - 5s 1ms/step - loss: 5.5649 - accuracy: 2.6603e-04\n",
      "Epoch 2/30\n",
      "3759/3759 [==============================] - 5s 1ms/step - loss: 5.4044 - accuracy: 2.6603e-04\n",
      "Epoch 3/30\n",
      "3759/3759 [==============================] - 6s 1ms/step - loss: 5.4150 - accuracy: 2.6603e-04\n",
      "Epoch 4/30\n",
      "3759/3759 [==============================] - 5s 1ms/step - loss: 5.3660 - accuracy: 2.6603e-04\n",
      "Epoch 5/30\n",
      "3759/3759 [==============================] - 5s 1ms/step - loss: 5.3478 - accuracy: 2.6603e-04\n",
      "Epoch 6/30\n",
      "3759/3759 [==============================] - 5s 1ms/step - loss: 5.3093 - accuracy: 2.6603e-04\n",
      "Epoch 7/30\n",
      "3759/3759 [==============================] - 6s 1ms/step - loss: 5.3300 - accuracy: 0.0000e+00\n",
      "Epoch 8/30\n",
      "3759/3759 [==============================] - 5s 1ms/step - loss: 5.2286 - accuracy: 2.6603e-04\n",
      "Epoch 9/30\n",
      "3759/3759 [==============================] - 5s 1ms/step - loss: 5.2282 - accuracy: 2.6603e-04\n",
      "Epoch 10/30\n",
      "3759/3759 [==============================] - 5s 1ms/step - loss: 5.3047 - accuracy: 2.6603e-04\n",
      "Epoch 11/30\n",
      "3759/3759 [==============================] - 5s 1ms/step - loss: 5.2147 - accuracy: 0.0000e+00\n",
      "Epoch 12/30\n",
      "3759/3759 [==============================] - 5s 1ms/step - loss: 5.1931 - accuracy: 2.6603e-04\n",
      "Epoch 13/30\n",
      "3759/3759 [==============================] - 5s 1ms/step - loss: 5.0775 - accuracy: 2.6603e-04\n",
      "Epoch 14/30\n",
      "3759/3759 [==============================] - 6s 2ms/step - loss: 5.1499 - accuracy: 2.6603e-04\n",
      "Epoch 15/30\n",
      "3759/3759 [==============================] - 6s 1ms/step - loss: 5.1142 - accuracy: 2.6603e-04\n",
      "Epoch 16/30\n",
      "3759/3759 [==============================] - 5s 1ms/step - loss: 5.0719 - accuracy: 2.6603e-04\n",
      "Epoch 17/30\n",
      "3759/3759 [==============================] - 6s 1ms/step - loss: 5.2531 - accuracy: 2.6603e-04\n",
      "Epoch 18/30\n",
      "3759/3759 [==============================] - 5s 1ms/step - loss: 5.0238 - accuracy: 0.0000e+00\n",
      "Epoch 19/30\n",
      "3759/3759 [==============================] - 5s 1ms/step - loss: 5.1708 - accuracy: 0.0000e+00\n",
      "Epoch 20/30\n",
      "3759/3759 [==============================] - 5s 1ms/step - loss: 5.1381 - accuracy: 0.0000e+00\n",
      "Epoch 21/30\n",
      "3759/3759 [==============================] - 6s 1ms/step - loss: 5.0322 - accuracy: 0.0000e+00\n",
      "Epoch 22/30\n",
      "3759/3759 [==============================] - 5s 1ms/step - loss: 5.0036 - accuracy: 2.6603e-04\n",
      "Epoch 23/30\n",
      "3759/3759 [==============================] - 6s 1ms/step - loss: 5.0064 - accuracy: 2.6603e-04\n",
      "Epoch 24/30\n",
      "3759/3759 [==============================] - 6s 1ms/step - loss: 5.0927 - accuracy: 0.0000e+00\n",
      "Epoch 25/30\n",
      "3759/3759 [==============================] - 5s 1ms/step - loss: 5.0074 - accuracy: 0.0000e+00\n",
      "Epoch 26/30\n",
      "3759/3759 [==============================] - 6s 1ms/step - loss: 4.9490 - accuracy: 2.6603e-04\n",
      "Epoch 27/30\n",
      "3759/3759 [==============================] - 5s 1ms/step - loss: 4.9137 - accuracy: 0.0000e+00\n",
      "Epoch 28/30\n",
      "3759/3759 [==============================] - 5s 1ms/step - loss: 5.0333 - accuracy: 0.0000e+00\n",
      "Epoch 29/30\n",
      "3759/3759 [==============================] - 6s 1ms/step - loss: 5.0173 - accuracy: 0.0000e+00\n",
      "Epoch 30/30\n",
      "3759/3759 [==============================] - 5s 1ms/step - loss: 5.0296 - accuracy: 0.0000e+00\n"
     ]
    },
    {
     "data": {
      "text/plain": [
       "<tensorflow.python.keras.callbacks.History at 0x1e51bd7c1c0>"
      ]
     },
     "execution_count": 52,
     "metadata": {},
     "output_type": "execute_result"
    }
   ],
   "source": [
    "model.fit(train_data, train_data_label, epochs=30, batch_size=1,)"
   ]
  },
  {
   "cell_type": "code",
   "execution_count": 55,
   "metadata": {},
   "outputs": [],
   "source": [
    "model_predict = model.predict(test_data)"
   ]
  },
  {
   "cell_type": "code",
   "execution_count": 56,
   "metadata": {},
   "outputs": [
    {
     "name": "stdout",
     "output_type": "stream",
     "text": [
      "평균제곱근오차 1.9686769098562957\n"
     ]
    }
   ],
   "source": [
    "rmse = np.sqrt(mean_squared_error(model_predict, test_data_label))\n",
    "print('평균제곱근오차', rmse)"
   ]
  },
  {
   "cell_type": "markdown",
   "metadata": {},
   "source": [
    "## 결론"
   ]
  },
  {
   "cell_type": "markdown",
   "metadata": {},
   "source": [
    "전복의 Physical 특징을 기반으로 나이를 예측하기 위해, 머신러닝 알고리즘 중, **의사결정트리**와 **랜덤포레스트**와 **딥러닝** 세 가지 방법론을 선택하여 각각의 모델에서 **평균제곱근오차**값을 구했다.\n",
    "\n",
    "그 결과, **의사결정트리**의 평균제곱근오차 값은 2.108으로 나왔으며, **랜덤포레스트**의 평균제곱근오차 값은 1.959로 나왔다. 마지막으로 **딥러닝**의 평균제곱근오차는 1.969이므로 평균제곱근오차의 값이 가장 낮게 나온 랜덤포레스트 방법론이 가장 적합하다."
   ]
  }
 ],
 "metadata": {
  "kernelspec": {
   "display_name": "Python 3",
   "language": "python",
   "name": "python3"
  },
  "language_info": {
   "codemirror_mode": {
    "name": "ipython",
    "version": 3
   },
   "file_extension": ".py",
   "mimetype": "text/x-python",
   "name": "python",
   "nbconvert_exporter": "python",
   "pygments_lexer": "ipython3",
   "version": "3.8.3"
  }
 },
 "nbformat": 4,
 "nbformat_minor": 4
}
